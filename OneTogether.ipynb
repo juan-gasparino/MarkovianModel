{
 "cells": [
  {
   "cell_type": "markdown",
   "id": "053bbe48",
   "metadata": {
    "id": "053bbe48"
   },
   "source": [
    "# *Relaxation and Decoherence* \n",
    "\n",
    "This notebook provides a method of running circuits and measuring hardware parameters of the $T_1$ and $T_2$ decay times for 2 connected qubits. The method of parameter extraction is through solving a Markovian quantum master equation and minimising the least-squares regression between this solution and the experimental data. The notebook is split into two main segments, the experimental circuits and collection of data, followed by the numerical solutions."
   ]
  },
  {
   "cell_type": "markdown",
   "id": "a0d96af3",
   "metadata": {
    "id": "a0d96af3"
   },
   "source": [
    "## Initialisation Cell"
   ]
  },
  {
   "cell_type": "code",
   "execution_count": 1,
   "id": "dcce41ee",
   "metadata": {
    "colab": {
     "base_uri": "https://localhost:8080/"
    },
    "executionInfo": {
     "elapsed": 19630,
     "status": "ok",
     "timestamp": 1633428249751,
     "user": {
      "displayName": "Dean Brand",
      "photoUrl": "https://lh3.googleusercontent.com/a/default-user=s64",
      "userId": "08092671779044246052"
     },
     "user_tz": -120
    },
    "id": "dcce41ee",
    "outputId": "5517980a-f723-47da-8cc6-4b72b0117449"
   },
   "outputs": [
    {
     "data": {
      "application/vnd.jupyter.widget-view+json": {
       "model_id": "6332896dbd6d41ec98878362d17ada17",
       "version_major": 2,
       "version_minor": 0
      },
      "text/plain": [
       "Accordion(children=(VBox(layout=Layout(max_width='710px', min_width='710px')),), layout=Layout(max_height='500…"
      ]
     },
     "metadata": {},
     "output_type": "display_data"
    },
    {
     "data": {
      "application/javascript": "\n        const isLab = window['Jupyter'] === undefined;\n        const notebook = document.querySelector( isLab ? 'div.jp-Notebook' : '#site');\n        const jobWidget = document.querySelector('div.job_widget');\n        notebook.prepend(jobWidget);\n        jobWidget.style.zIndex = '999';\n        jobWidget.style.position = isLab ? 'sticky' : 'fixed';\n        jobWidget.style.boxShadow = '5px 5px 5px -3px black';\n        jobWidget.style.opacity = '0.95';\n        if (isLab) {\n            jobWidget.style.top = '0';\n            jobWidget.style.left = '0';\n        }\n        ",
      "text/plain": [
       "<IPython.core.display.Javascript object>"
      ]
     },
     "metadata": {},
     "output_type": "display_data"
    }
   ],
   "source": [
    "# Plotting\n",
    "import matplotlib\n",
    "import matplotlib.pyplot as plt\n",
    "import matplotlib.pylab as pl\n",
    "\n",
    "# Numerical\n",
    "import jax\n",
    "import numpy as np\n",
    "import scipy\n",
    "import jax.numpy as jnp\n",
    "import jax.scipy as jsp\n",
    "\n",
    "from jax.numpy import linalg\n",
    "from jax.numpy.linalg import multi_dot\n",
    "from jax import grad, jit, vmap, pmap, random, jacfwd, jacrev\n",
    "# from jax.ops import index, index_add, index_update\n",
    "from jax.experimental.ode import odeint\n",
    "from numpy import nanargmin, nanargmax\n",
    "from numpy import sqrt\n",
    "\n",
    "# key = random.PRNGKey(42)\n",
    "\n",
    "# Qiskit\n",
    "import qiskit\n",
    "\n",
    "from qiskit import QuantumRegister, QuantumCircuit, ClassicalRegister, Aer, IBMQ\n",
    "from qiskit.compiler import transpile\n",
    "from qiskit.tools.jupyter import *\n",
    "from qiskit.visualization import *\n",
    "from qiskit.tools.visualization import *\n",
    "from qiskit.tools.visualization import plot_histogram\n",
    "from qiskit.circuit.library import U1Gate, U2Gate\n",
    "from qiskit.ignis.mitigation.measurement import (complete_meas_cal, tensored_meas_cal,\n",
    "                                                 CompleteMeasFitter, TensoredMeasFitter)\n",
    "# from qiskit_experiments.library import LocalReadoutError, CorrelatedReadoutError\n",
    "\n",
    "provider = IBMQ.load_account()\n",
    "\n",
    "# Constants and Units\n",
    "from astropy import units as unts\n",
    "from astropy import constants as cnts\n",
    "\n",
    "# Extras\n",
    "import smtplib, ssl\n",
    "import warnings\n",
    "\n",
    "warnings.filterwarnings(\"ignore\")\n",
    "\n",
    "# Shows a window in the upper left part with real-time information \n",
    "# on the status of the jobs running on the IBM Q device\n",
    "%qiskit_job_watcher"
   ]
  },
  {
   "cell_type": "code",
   "execution_count": 2,
   "id": "5bde90a4",
   "metadata": {
    "colab": {
     "base_uri": "https://localhost:8080/"
    },
    "executionInfo": {
     "elapsed": 144,
     "status": "ok",
     "timestamp": 1633428249753,
     "user": {
      "displayName": "Dean Brand",
      "photoUrl": "https://lh3.googleusercontent.com/a/default-user=s64",
      "userId": "08092671779044246052"
     },
     "user_tz": -120
    },
    "id": "5bde90a4",
    "outputId": "90ec0095-7d69-41da-ce30-61922b5cd527"
   },
   "outputs": [
    {
     "name": "stderr",
     "output_type": "stream",
     "text": [
      "WARNING:absl:No GPU/TPU found, falling back to CPU. (Set TF_CPP_MIN_LOG_LEVEL=0 and rerun for more info.)\n"
     ]
    },
    {
     "data": {
      "text/plain": [
       "[CpuDevice(id=0)]"
      ]
     },
     "execution_count": 2,
     "metadata": {},
     "output_type": "execute_result"
    }
   ],
   "source": [
    "jax.local_devices()"
   ]
  },
  {
   "cell_type": "markdown",
   "id": "30632e9b",
   "metadata": {
    "id": "30632e9b"
   },
   "source": [
    "## Connect to IBMQ"
   ]
  },
  {
   "cell_type": "code",
   "execution_count": 3,
   "id": "47b987a1",
   "metadata": {
    "executionInfo": {
     "elapsed": 132,
     "status": "ok",
     "timestamp": 1633428249755,
     "user": {
      "displayName": "Dean Brand",
      "photoUrl": "https://lh3.googleusercontent.com/a/default-user=s64",
      "userId": "08092671779044246052"
     },
     "user_tz": -120
    },
    "id": "47b987a1"
   },
   "outputs": [],
   "source": [
    "IBMQ.get_provider(hub='ibm-q',\n",
    "                  group='open',\n",
    "                  project='main')\n",
    "backend = provider.get_backend('ibmq_santiago')\n"
   ]
  },
  {
   "cell_type": "markdown",
   "id": "26564c41",
   "metadata": {
    "id": "26564c41"
   },
   "source": [
    "Initialise our parameters"
   ]
  },
  {
   "cell_type": "code",
   "execution_count": 4,
   "id": "2e679cd2",
   "metadata": {
    "executionInfo": {
     "elapsed": 132,
     "status": "ok",
     "timestamp": 1633428249756,
     "user": {
      "displayName": "Dean Brand",
      "photoUrl": "https://lh3.googleusercontent.com/a/default-user=s64",
      "userId": "08092671779044246052"
     },
     "user_tz": -120
    },
    "id": "2e679cd2"
   },
   "outputs": [],
   "source": [
    "t1l = []\n",
    "t2l = []\n",
    "\n",
    "for i in range(len(backend.properties().qubits)):\n",
    "    t1l.append(backend.properties().t1(i))\n",
    "    t2l.append(backend.properties().t2(i))"
   ]
  },
  {
   "cell_type": "code",
   "execution_count": 5,
   "id": "43580bf9-501d-443e-881c-09b1d63405b9",
   "metadata": {
    "colab": {
     "base_uri": "https://localhost:8080/"
    },
    "executionInfo": {
     "elapsed": 134,
     "status": "ok",
     "timestamp": 1633428249759,
     "user": {
      "displayName": "Dean Brand",
      "photoUrl": "https://lh3.googleusercontent.com/a/default-user=s64",
      "userId": "08092671779044246052"
     },
     "user_tz": -120
    },
    "id": "43580bf9-501d-443e-881c-09b1d63405b9",
    "outputId": "0641931e-7f16-4fff-e437-080e2604f219"
   },
   "outputs": [
    {
     "name": "stdout",
     "output_type": "stream",
     "text": [
      "0.03839999999999999\n"
     ]
    }
   ],
   "source": [
    "q0err = backend.properties().readout_error(0)\n",
    "print(q0err)\n",
    "# q1err = backend.properties().readout_error(1)\n",
    "# print(q1err)"
   ]
  },
  {
   "cell_type": "code",
   "execution_count": 6,
   "id": "515fdf83",
   "metadata": {
    "executionInfo": {
     "elapsed": 130,
     "status": "ok",
     "timestamp": 1633428249760,
     "user": {
      "displayName": "Dean Brand",
      "photoUrl": "https://lh3.googleusercontent.com/a/default-user=s64",
      "userId": "08092671779044246052"
     },
     "user_tz": -120
    },
    "id": "515fdf83"
   },
   "outputs": [],
   "source": [
    "backend_config = backend.configuration()\n",
    "backend_prop = backend.properties()\n",
    "\n",
    "hamiltonian = backend_config.hamiltonian\n",
    "w0 = hamiltonian['vars']['wq2']\n",
    "# w1 = hamiltonian['vars']['wq1']\n",
    "# w2 = hamiltonian['vars']['wq2']\n",
    "# w3 = hamiltonian['vars']['wq3']\n",
    "# w4 = hamiltonian['vars']['wq4']\n",
    "# j01 = hamiltonian['vars']['jq0q1']\n",
    "# j12 = hamiltonian['vars']['jq1q2']\n",
    "# j23 = hamiltonian['vars']['jq2q3']\n",
    "# j34 = hamiltonian['vars']['jq3q4']"
   ]
  },
  {
   "cell_type": "code",
   "execution_count": 7,
   "id": "c806d5fa",
   "metadata": {
    "colab": {
     "base_uri": "https://localhost:8080/",
     "height": 37
    },
    "executionInfo": {
     "elapsed": 218,
     "status": "ok",
     "timestamp": 1633428249849,
     "user": {
      "displayName": "Dean Brand",
      "photoUrl": "https://lh3.googleusercontent.com/a/default-user=s64",
      "userId": "08092671779044246052"
     },
     "user_tz": -120
    },
    "id": "c806d5fa",
    "outputId": "6c48fcd4-1a47-4b7d-9867-e4cefcc938ec"
   },
   "outputs": [
    {
     "data": {
      "text/latex": [
       "$71.111111 \\; \\mathrm{ns}$"
      ],
      "text/plain": [
       "<Quantity 71.11111111 ns>"
      ]
     },
     "execution_count": 7,
     "metadata": {},
     "output_type": "execute_result"
    }
   ],
   "source": [
    "ygate_time = (backend.properties().gate_length('sx', 0) * 2 * unts.s).to(unts.ns)\n",
    "ygate_time"
   ]
  },
  {
   "cell_type": "code",
   "execution_count": 8,
   "id": "37f3568c-4567-4cb4-b048-94a419c4d794",
   "metadata": {
    "colab": {
     "base_uri": "https://localhost:8080/"
    },
    "executionInfo": {
     "elapsed": 213,
     "status": "ok",
     "timestamp": 1633428249850,
     "user": {
      "displayName": "Dean Brand",
      "photoUrl": "https://lh3.googleusercontent.com/a/default-user=s64",
      "userId": "08092671779044246052"
     },
     "user_tz": -120
    },
    "id": "37f3568c-4567-4cb4-b048-94a419c4d794",
    "outputId": "e29f03da-8006-43e8-b1ac-0bc2148bd199"
   },
   "outputs": [],
   "source": [
    "# qerr = np.sqrt(q0err ** 2 + q1err ** 2) / 2\n",
    "# qerr"
   ]
  },
  {
   "cell_type": "code",
   "execution_count": 9,
   "id": "2622fdc9",
   "metadata": {
    "colab": {
     "base_uri": "https://localhost:8080/",
     "height": 37
    },
    "executionInfo": {
     "elapsed": 210,
     "status": "ok",
     "timestamp": 1633428249852,
     "user": {
      "displayName": "Dean Brand",
      "photoUrl": "https://lh3.googleusercontent.com/a/default-user=s64",
      "userId": "08092671779044246052"
     },
     "user_tz": -120
    },
    "id": "2622fdc9",
    "outputId": "cc9dd2d7-9845-4978-be3e-137d52893d47"
   },
   "outputs": [
    {
     "data": {
      "text/latex": [
       "$35.555556 \\; \\mathrm{ns}$"
      ],
      "text/plain": [
       "<Quantity 35.55555556 ns>"
      ]
     },
     "execution_count": 9,
     "metadata": {},
     "output_type": "execute_result"
    }
   ],
   "source": [
    "xgate_time = (backend.properties().gate_length('x', 0) * unts.s).to(unts.ns)\n",
    "xgate_time"
   ]
  },
  {
   "cell_type": "code",
   "execution_count": 10,
   "id": "6920634b",
   "metadata": {
    "colab": {
     "base_uri": "https://localhost:8080/",
     "height": 63
    },
    "executionInfo": {
     "elapsed": 208,
     "status": "ok",
     "timestamp": 1633428249854,
     "user": {
      "displayName": "Dean Brand",
      "photoUrl": "https://lh3.googleusercontent.com/a/default-user=s64",
      "userId": "08092671779044246052"
     },
     "user_tz": -120
    },
    "id": "6920634b",
    "outputId": "c87594fe-3b4b-4821-d090-61a9e57c5112"
   },
   "outputs": [
    {
     "data": {
      "text/html": [
       "<pre style=\"word-wrap: normal;white-space: pre;background: #fff0;line-height: 1.1;font-family: &quot;Courier New&quot;,Courier,monospace\">     ┌───────────────┐\n",
       "q_0: ┤ U3(π,π/2,π/2) ├\n",
       "     └───────────────┘</pre>"
      ],
      "text/plain": [
       "     ┌───────────────┐\n",
       "q_0: ┤ U3(π,π/2,π/2) ├\n",
       "     └───────────────┘"
      ]
     },
     "execution_count": 10,
     "metadata": {},
     "output_type": "execute_result"
    }
   ],
   "source": [
    "qiskit.circuit.library.YGate(0).decompositions[0].draw()"
   ]
  },
  {
   "cell_type": "code",
   "execution_count": 11,
   "id": "f8c2f5ea",
   "metadata": {
    "colab": {
     "base_uri": "https://localhost:8080/",
     "height": 63
    },
    "executionInfo": {
     "elapsed": 208,
     "status": "ok",
     "timestamp": 1633428249855,
     "user": {
      "displayName": "Dean Brand",
      "photoUrl": "https://lh3.googleusercontent.com/a/default-user=s64",
      "userId": "08092671779044246052"
     },
     "user_tz": -120
    },
    "id": "f8c2f5ea",
    "outputId": "6786f84a-bee8-43c2-d34c-0b1375f9bb02"
   },
   "outputs": [
    {
     "name": "stderr",
     "output_type": "stream",
     "text": [
      "/home/dean/.local/lib/python3.9/site-packages/qiskit/circuit/tools/pi_check.py:55: SymPyDeprecationWarning: \n",
      "\n",
      "The expr_free_symbols property is deprecated. Use free_symbols to get\n",
      "the free symbols of an expression.\n",
      "\n",
      "See https://docs.sympy.org/latest/explanation/active-deprecations.html#deprecated-expr-free-symbols\n",
      "for details.\n",
      "\n",
      "This has been deprecated since SymPy version 1.9. It\n",
      "will be removed in a future version of SymPy.\n",
      "\n",
      "  syms = expr.expr_free_symbols\n"
     ]
    },
    {
     "data": {
      "text/html": [
       "<pre style=\"word-wrap: normal;white-space: pre;background: #fff0;line-height: 1.1;font-family: &quot;Courier New&quot;,Courier,monospace\">     ┌─────────┐┌────┐┌────────┐┌────┐┌──────────┐\n",
       "q_0: ┤ Rz(π/2) ├┤ √X ├┤ Rz(2π) ├┤ √X ├┤ Rz(7π/2) ├\n",
       "     └─────────┘└────┘└────────┘└────┘└──────────┘</pre>"
      ],
      "text/plain": [
       "     ┌─────────┐┌────┐┌────────┐┌────┐┌──────────┐\n",
       "q_0: ┤ Rz(π/2) ├┤ √X ├┤ Rz(2π) ├┤ √X ├┤ Rz(7π/2) ├\n",
       "     └─────────┘└────┘└────────┘└────┘└──────────┘"
      ]
     },
     "execution_count": 11,
     "metadata": {},
     "output_type": "execute_result"
    }
   ],
   "source": [
    "qiskit.circuit.library.U3Gate(np.pi, np.pi/2, np.pi/2).decompositions[0].draw()"
   ]
  },
  {
   "cell_type": "code",
   "execution_count": 12,
   "id": "d4ybsAnYI1vI",
   "metadata": {
    "colab": {
     "base_uri": "https://localhost:8080/",
     "height": 37
    },
    "executionInfo": {
     "elapsed": 208,
     "status": "ok",
     "timestamp": 1633428249857,
     "user": {
      "displayName": "Dean Brand",
      "photoUrl": "https://lh3.googleusercontent.com/a/default-user=s64",
      "userId": "08092671779044246052"
     },
     "user_tz": -120
    },
    "id": "d4ybsAnYI1vI",
    "outputId": "e38c3b87-9256-427b-dabe-85672365b5a9"
   },
   "outputs": [
    {
     "data": {
      "text/latex": [
       "$0 \\; \\mathrm{ns}$"
      ],
      "text/plain": [
       "<Quantity 0. ns>"
      ]
     },
     "execution_count": 12,
     "metadata": {},
     "output_type": "execute_result"
    }
   ],
   "source": [
    "(backend.properties().gate_length('rz', 0) * unts.s).to(unts.ns)"
   ]
  },
  {
   "cell_type": "code",
   "execution_count": 13,
   "id": "865dfbeb",
   "metadata": {
    "colab": {
     "base_uri": "https://localhost:8080/",
     "height": 63
    },
    "executionInfo": {
     "elapsed": 206,
     "status": "ok",
     "timestamp": 1633428249858,
     "user": {
      "displayName": "Dean Brand",
      "photoUrl": "https://lh3.googleusercontent.com/a/default-user=s64",
      "userId": "08092671779044246052"
     },
     "user_tz": -120
    },
    "id": "865dfbeb",
    "outputId": "b5f90dd5-217a-4aae-a758-cfc03e873008"
   },
   "outputs": [
    {
     "data": {
      "text/html": [
       "<pre style=\"word-wrap: normal;white-space: pre;background: #fff0;line-height: 1.1;font-family: &quot;Courier New&quot;,Courier,monospace\">     ┌─────────────┐\n",
       "q_0: ┤ U3(π/2,0,0) ├\n",
       "     └─────────────┘</pre>"
      ],
      "text/plain": [
       "     ┌─────────────┐\n",
       "q_0: ┤ U3(π/2,0,0) ├\n",
       "     └─────────────┘"
      ]
     },
     "execution_count": 13,
     "metadata": {},
     "output_type": "execute_result"
    }
   ],
   "source": [
    "qiskit.circuit.library.U2Gate(0, 0).decompositions[0].draw()"
   ]
  },
  {
   "cell_type": "code",
   "execution_count": 14,
   "id": "8253e130",
   "metadata": {
    "colab": {
     "base_uri": "https://localhost:8080/",
     "height": 79
    },
    "executionInfo": {
     "elapsed": 204,
     "status": "ok",
     "timestamp": 1633428249859,
     "user": {
      "displayName": "Dean Brand",
      "photoUrl": "https://lh3.googleusercontent.com/a/default-user=s64",
      "userId": "08092671779044246052"
     },
     "user_tz": -120
    },
    "id": "8253e130",
    "outputId": "700d314f-113b-48f9-e0ed-85d7ab58fcd2"
   },
   "outputs": [
    {
     "data": {
      "text/html": [
       "<pre style=\"word-wrap: normal;white-space: pre;background: #fff0;line-height: 1.1;font-family: &quot;Courier New&quot;,Courier,monospace\">global phase: 3π/2\n",
       "     ┌───────┐┌────┐┌──────────┐┌────┐┌────────┐\n",
       "q_0: ┤ Rz(0) ├┤ √X ├┤ Rz(3π/2) ├┤ √X ├┤ Rz(3π) ├\n",
       "     └───────┘└────┘└──────────┘└────┘└────────┘</pre>"
      ],
      "text/plain": [
       "global phase: 3π/2\n",
       "     ┌───────┐┌────┐┌──────────┐┌────┐┌────────┐\n",
       "q_0: ┤ Rz(0) ├┤ √X ├┤ Rz(3π/2) ├┤ √X ├┤ Rz(3π) ├\n",
       "     └───────┘└────┘└──────────┘└────┘└────────┘"
      ]
     },
     "execution_count": 14,
     "metadata": {},
     "output_type": "execute_result"
    }
   ],
   "source": [
    "qiskit.circuit.library.U3Gate(np.pi/2, 0, 0).decompositions[0].draw()"
   ]
  },
  {
   "cell_type": "code",
   "execution_count": 15,
   "id": "0_5lk0gnJDJQ",
   "metadata": {
    "colab": {
     "base_uri": "https://localhost:8080/",
     "height": 38
    },
    "executionInfo": {
     "elapsed": 204,
     "status": "ok",
     "timestamp": 1633428249861,
     "user": {
      "displayName": "Dean Brand",
      "photoUrl": "https://lh3.googleusercontent.com/a/default-user=s64",
      "userId": "08092671779044246052"
     },
     "user_tz": -120
    },
    "id": "0_5lk0gnJDJQ",
    "outputId": "8380bc62-4e8e-4c64-d54d-18c4f55ccd79"
   },
   "outputs": [
    {
     "data": {
      "text/latex": [
       "$0.21333333 \\; \\mathrm{\\mu s}$"
      ],
      "text/plain": [
       "<Quantity 0.21333333 us>"
      ]
     },
     "execution_count": 15,
     "metadata": {},
     "output_type": "execute_result"
    }
   ],
   "source": [
    "t2gatetime = 3 * ygate_time\n",
    "t2gatetime.to(unts.us)"
   ]
  },
  {
   "cell_type": "markdown",
   "id": "eb2c5abb",
   "metadata": {
    "id": "eb2c5abb"
   },
   "source": [
    "With some helper functions"
   ]
  },
  {
   "cell_type": "code",
   "execution_count": 16,
   "id": "c54ae910",
   "metadata": {
    "executionInfo": {
     "elapsed": 204,
     "status": "ok",
     "timestamp": 1633428249862,
     "user": {
      "displayName": "Dean Brand",
      "photoUrl": "https://lh3.googleusercontent.com/a/default-user=s64",
      "userId": "08092671779044246052"
     },
     "user_tz": -120
    },
    "id": "c54ae910"
   },
   "outputs": [],
   "source": [
    "def expt(T, w):\n",
    "    \"\"\"\n",
    "    This function computes the average number of photons, n, depending on the frequency, w, and the temperature, T.\n",
    "    Inputs:\n",
    "    T - Temperature (in Kelvin)\n",
    "    w - Frequency (in Hz)\n",
    "    Outputs:\n",
    "    n - Average photon number\n",
    "    \"\"\"\n",
    "    n = 1/(np.exp((cnts.hbar.value * w)/(cnts.k_B.value * T)) - 1)\n",
    "    return float(n)"
   ]
  },
  {
   "cell_type": "code",
   "execution_count": 17,
   "id": "8059aa29",
   "metadata": {
    "executionInfo": {
     "elapsed": 205,
     "status": "ok",
     "timestamp": 1633428249864,
     "user": {
      "displayName": "Dean Brand",
      "photoUrl": "https://lh3.googleusercontent.com/a/default-user=s64",
      "userId": "08092671779044246052"
     },
     "user_tz": -120
    },
    "id": "8059aa29"
   },
   "outputs": [],
   "source": [
    "def T(w, n):\n",
    "    \"\"\"\n",
    "    This function computes the temperature, T, depending on the frequency, w, and the average number of photons, n.\n",
    "    Inputs:\n",
    "    T - Temperature (in Kelvin)\n",
    "    n - Average photon number\n",
    "    Outputs:\n",
    "    w - Frequency (in Hz)\n",
    "    \"\"\"\n",
    "    return cnts.hbar.value * w/(cnts.k_B.value * jnp.log(1/n + 1)) * unts.K"
   ]
  },
  {
   "cell_type": "markdown",
   "id": "6a533d02",
   "metadata": {
    "id": "6a533d02"
   },
   "source": [
    "As well as some ansatze for the other parameters, based on the latest configuration $T_1$ & $T_2$ times and the claimed qubit temperatures of 15 mK."
   ]
  },
  {
   "cell_type": "code",
   "execution_count": 18,
   "id": "442081e3",
   "metadata": {
    "executionInfo": {
     "elapsed": 204,
     "status": "ok",
     "timestamp": 1633428249865,
     "user": {
      "displayName": "Dean Brand",
      "photoUrl": "https://lh3.googleusercontent.com/a/default-user=s64",
      "userId": "08092671779044246052"
     },
     "user_tz": -120
    },
    "id": "442081e3"
   },
   "outputs": [],
   "source": [
    "n1 = expt(15e-3, w0)\n",
    "# n2 = expt(15e-3, w1)\n",
    "\n",
    "t1c = jnp.array(t1l)\n",
    "t2c = jnp.array(t2l)\n",
    "\n",
    "g1l = 1/t1c\n",
    "g2l = 1/t2c"
   ]
  },
  {
   "cell_type": "markdown",
   "id": "d8da1550",
   "metadata": {
    "id": "d8da1550"
   },
   "source": [
    "## Generation of coherence circuits\n",
    "\n",
    "This shows how to generate the circuits. The list of qubits specifies for which qubits to generate characterization circuits; these circuits will run in parallel. The discrete unit of time is the Delay gate, which instructs the circuit to do nothing for a specified amount of time."
   ]
  },
  {
   "cell_type": "code",
   "execution_count": 19,
   "id": "3a92f99a",
   "metadata": {
    "executionInfo": {
     "elapsed": 206,
     "status": "ok",
     "timestamp": 1633428249867,
     "user": {
      "displayName": "Dean Brand",
      "photoUrl": "https://lh3.googleusercontent.com/a/default-user=s64",
      "userId": "08092671779044246052"
     },
     "user_tz": -120
    },
    "id": "3a92f99a"
   },
   "outputs": [],
   "source": [
    "time = np.linspace(0, 74*4, 75)\n",
    "tie = np.linspace(0, 74, 75)\n",
    "\n",
    "qubits = [2]\n",
    "shots = 8192\n",
    "\n",
    "n = len(qubits)\n",
    "N = 2 ** n\n",
    "\n",
    "qr = qiskit.QuantumRegister(max(qubits)+1)\n",
    "cr = qiskit.ClassicalRegister(len(qubits))\n",
    "\n",
    "nosc = 5\n",
    "\n",
    "osc_freq = nosc/time[-1]"
   ]
  },
  {
   "cell_type": "code",
   "execution_count": 20,
   "id": "PPuoo9aK0FTF",
   "metadata": {
    "executionInfo": {
     "elapsed": 206,
     "status": "ok",
     "timestamp": 1633428249868,
     "user": {
      "displayName": "Dean Brand",
      "photoUrl": "https://lh3.googleusercontent.com/a/default-user=s64",
      "userId": "08092671779044246052"
     },
     "user_tz": -120
    },
    "id": "PPuoo9aK0FTF"
   },
   "outputs": [],
   "source": [
    "cool = pl.cm.cool(np.linspace(0, 1, N))\n",
    "plasma = pl.cm.plasma(np.linspace(0, 1, N + 1))\n",
    "magma = pl.cm.magma(np.linspace(0, 1, N))\n",
    "winter = pl.cm.winter(np.linspace(0, 1, N))"
   ]
  },
  {
   "cell_type": "code",
   "execution_count": 21,
   "id": "80536a76",
   "metadata": {
    "executionInfo": {
     "elapsed": 208,
     "status": "ok",
     "timestamp": 1633428249870,
     "user": {
      "displayName": "Dean Brand",
      "photoUrl": "https://lh3.googleusercontent.com/a/default-user=s64",
      "userId": "08092671779044246052"
     },
     "user_tz": -120
    },
    "id": "80536a76"
   },
   "outputs": [],
   "source": [
    "def pad_id_gates(circuit, qr, qubit, num_of_id_gates):\n",
    "    \"\"\"\n",
    "    A function for padding a circuit with single-qubit delay gates.\n",
    "    Args:\n",
    "        circuit (QuantumCircuit): the quantum circuit that the gates should be\n",
    "            appended to\n",
    "        qr (QuantumRegister): the qubit register where the gates should be added\n",
    "        qubit (int): index of qubit where the gates should be added\n",
    "        num_of_id_gates (int): the number of delay gates to add\n",
    "    Returns:\n",
    "        circuit: The original circuit object, but with delay\n",
    "            gates added to the qubit register qr at qubit 'qubit'\n",
    "    \"\"\"\n",
    "    \n",
    "    circuit.barrier(qr[qubit])\n",
    "    num_of_id_gates = int(num_of_id_gates)\n",
    "    circuit.delay(num_of_id_gates, qr[qubit], unit = 'us')\n",
    "\n",
    "    circuit.barrier(qr[qubit])\n",
    "    return circuit"
   ]
  },
  {
   "cell_type": "markdown",
   "id": "32d11fe5",
   "metadata": {
    "id": "32d11fe5"
   },
   "source": [
    "### T1 Circuits"
   ]
  },
  {
   "cell_type": "code",
   "execution_count": 22,
   "id": "efbfde22",
   "metadata": {
    "executionInfo": {
     "elapsed": 1593,
     "status": "ok",
     "timestamp": 1633428251255,
     "user": {
      "displayName": "Dean Brand",
      "photoUrl": "https://lh3.googleusercontent.com/a/default-user=s64",
      "userId": "08092671779044246052"
     },
     "user_tz": -120
    },
    "id": "efbfde22"
   },
   "outputs": [],
   "source": [
    "t1circuits = []\n",
    "\n",
    "for circ_index, circ_length in enumerate(time):\n",
    "    circ = qiskit.QuantumCircuit(qr, cr)\n",
    "    circ.name = 't1circuit_' + str(circ_index) + '_0'\n",
    "    for _, qubit in enumerate(qubits):\n",
    "        circ.x(qr[qubit])\n",
    "        circ = pad_id_gates(circ, qr, qubit, circ_length)\n",
    "    circ.barrier(qr)\n",
    "    for qind, qubit in enumerate(qubits):\n",
    "        circ.measure(qr[qubit], cr[qind])\n",
    "    t1circuits.append(circ)"
   ]
  },
  {
   "cell_type": "code",
   "execution_count": 23,
   "id": "717c0378",
   "metadata": {
    "colab": {
     "base_uri": "https://localhost:8080/",
     "height": 125
    },
    "executionInfo": {
     "elapsed": 156,
     "status": "ok",
     "timestamp": 1633428251293,
     "user": {
      "displayName": "Dean Brand",
      "photoUrl": "https://lh3.googleusercontent.com/a/default-user=s64",
      "userId": "08092671779044246052"
     },
     "user_tz": -120
    },
    "id": "717c0378",
    "outputId": "63c2ecf7-8485-4ab4-8905-90d8f3fc2997"
   },
   "outputs": [
    {
     "data": {
      "text/html": [
       "<pre style=\"word-wrap: normal;white-space: pre;background: #fff0;line-height: 1.1;font-family: &quot;Courier New&quot;,Courier,monospace\">                                    ░    \n",
       "q0_0: ──────────────────────────────░────\n",
       "                                    ░    \n",
       "q0_1: ──────────────────────────────░────\n",
       "      ┌───┐ ░ ┌────────────────┐ ░  ░ ┌─┐\n",
       "q0_2: ┤ X ├─░─┤ Delay(296[us]) ├─░──░─┤M├\n",
       "      └───┘ ░ └────────────────┘ ░  ░ └╥┘\n",
       "c0: 1/═════════════════════════════════╩═\n",
       "                                       0 </pre>"
      ],
      "text/plain": [
       "                                    ░    \n",
       "q0_0: ──────────────────────────────░────\n",
       "                                    ░    \n",
       "q0_1: ──────────────────────────────░────\n",
       "      ┌───┐ ░ ┌────────────────┐ ░  ░ ┌─┐\n",
       "q0_2: ┤ X ├─░─┤ Delay(296[us]) ├─░──░─┤M├\n",
       "      └───┘ ░ └────────────────┘ ░  ░ └╥┘\n",
       "c0: 1/═════════════════════════════════╩═\n",
       "                                       0 "
      ]
     },
     "execution_count": 23,
     "metadata": {},
     "output_type": "execute_result"
    }
   ],
   "source": [
    "t1circuits[-1].draw()"
   ]
  },
  {
   "cell_type": "markdown",
   "id": "3b5a6fdd",
   "metadata": {
    "id": "3b5a6fdd"
   },
   "source": [
    "### T2* Circuits"
   ]
  },
  {
   "cell_type": "code",
   "execution_count": 24,
   "id": "606eb633",
   "metadata": {
    "executionInfo": {
     "elapsed": 155,
     "status": "ok",
     "timestamp": 1633428251295,
     "user": {
      "displayName": "Dean Brand",
      "photoUrl": "https://lh3.googleusercontent.com/a/default-user=s64",
      "userId": "08092671779044246052"
     },
     "user_tz": -120
    },
    "id": "606eb633"
   },
   "outputs": [],
   "source": [
    "t2scircuits = []\n",
    "\n",
    "for circ_index, circ_length in enumerate(tie * 4):\n",
    "    circ = qiskit.QuantumCircuit(qr, cr)\n",
    "    circ.name = 't2starcircuit_' + str(circ_index) + '_0'\n",
    "    for qind, qubit in enumerate(qubits):\n",
    "        circ.h(qr[qubit])\n",
    "        circ = pad_id_gates(circ, qr, qubit, circ_length)\n",
    "        circ.append(U1Gate(2*np.pi*osc_freq*time[circ_index]), [qr[qubit]])\n",
    "        circ.h(qr[qubit])\n",
    "    circ.barrier(qr)\n",
    "    for qind, qubit in enumerate(qubits):\n",
    "        circ.measure(qr[qubit], cr[qind])\n",
    "    t2scircuits.append(circ)"
   ]
  },
  {
   "cell_type": "code",
   "execution_count": 25,
   "id": "6b561465",
   "metadata": {
    "colab": {
     "base_uri": "https://localhost:8080/",
     "height": 125
    },
    "executionInfo": {
     "elapsed": 154,
     "status": "ok",
     "timestamp": 1633428251295,
     "user": {
      "displayName": "Dean Brand",
      "photoUrl": "https://lh3.googleusercontent.com/a/default-user=s64",
      "userId": "08092671779044246052"
     },
     "user_tz": -120
    },
    "id": "6b561465",
    "outputId": "43dc61cb-fde3-4360-ccbf-e37189f4fbd7"
   },
   "outputs": [
    {
     "data": {
      "text/html": [
       "<pre style=\"word-wrap: normal;white-space: pre;background: #fff0;line-height: 1.1;font-family: &quot;Courier New&quot;,Courier,monospace\">                                                    ░    \n",
       "q0_0: ──────────────────────────────────────────────░────\n",
       "                                                    ░    \n",
       "q0_1: ──────────────────────────────────────────────░────\n",
       "      ┌───┐ ░ ┌────────────────┐ ░ ┌─────────┐┌───┐ ░ ┌─┐\n",
       "q0_2: ┤ H ├─░─┤ Delay(296[us]) ├─░─┤ U1(10π) ├┤ H ├─░─┤M├\n",
       "      └───┘ ░ └────────────────┘ ░ └─────────┘└───┘ ░ └╥┘\n",
       "c0: 1/═════════════════════════════════════════════════╩═\n",
       "                                                       0 </pre>"
      ],
      "text/plain": [
       "                                                    ░    \n",
       "q0_0: ──────────────────────────────────────────────░────\n",
       "                                                    ░    \n",
       "q0_1: ──────────────────────────────────────────────░────\n",
       "      ┌───┐ ░ ┌────────────────┐ ░ ┌─────────┐┌───┐ ░ ┌─┐\n",
       "q0_2: ┤ H ├─░─┤ Delay(296[us]) ├─░─┤ U1(10π) ├┤ H ├─░─┤M├\n",
       "      └───┘ ░ └────────────────┘ ░ └─────────┘└───┘ ░ └╥┘\n",
       "c0: 1/═════════════════════════════════════════════════╩═\n",
       "                                                       0 "
      ]
     },
     "execution_count": 25,
     "metadata": {},
     "output_type": "execute_result"
    }
   ],
   "source": [
    "t2scircuits[-1].draw()"
   ]
  },
  {
   "cell_type": "markdown",
   "id": "ecc8a31d",
   "metadata": {
    "id": "ecc8a31d"
   },
   "source": [
    "### T2 Circuits"
   ]
  },
  {
   "cell_type": "code",
   "execution_count": 26,
   "id": "53d7b5d6",
   "metadata": {
    "executionInfo": {
     "elapsed": 152,
     "status": "ok",
     "timestamp": 1633428251298,
     "user": {
      "displayName": "Dean Brand",
      "photoUrl": "https://lh3.googleusercontent.com/a/default-user=s64",
      "userId": "08092671779044246052"
     },
     "user_tz": -120
    },
    "id": "53d7b5d6"
   },
   "outputs": [],
   "source": [
    "def t2_circuits(time, qubits, n_echos, phase_alt_echo):\n",
    "    \n",
    "    if n_echos < 1:\n",
    "        raise ValueError('Must be at least one echo')\n",
    "\n",
    "    xdata = 2 * np.array(time) * n_echos\n",
    "\n",
    "    qr = qiskit.QuantumRegister(max(qubits)+1)\n",
    "    cr = qiskit.ClassicalRegister(len(qubits))\n",
    "\n",
    "    circuits = []\n",
    "\n",
    "    for circ_index, circ_length in enumerate(time):\n",
    "        circ = qiskit.QuantumCircuit(qr, cr)\n",
    "        circ.name = 't2circuit_' + str(circ_index) + '_0'\n",
    "        for qind, qubit in enumerate(qubits):\n",
    "\n",
    "            # First Y90 and Y echo\n",
    "            circ.append(U2Gate(0.0, 0.0), [qr[qubit]])  # Y90\n",
    "            circ = pad_id_gates(circ, qr, qubit, circ_length)  # ids\n",
    "            circ.y(qr[qubit])\n",
    "\n",
    "            for echoid in range(n_echos-1):  # repeat\n",
    "                circ = pad_id_gates(circ, qr, qubit, 2*circ_length)  # ids\n",
    "                if phase_alt_echo and (not echoid % 2):  # optionally\n",
    "                    circ.x(qr[qubit])  # X\n",
    "                else:\n",
    "                    circ.y(qr[qubit])\n",
    "\n",
    "            circ = pad_id_gates(circ, qr, qubit, circ_length)  # ids\n",
    "            circ.append(U2Gate(0.0, 0.0), [qr[qubit]])  # Y90\n",
    "        circ.barrier(qr)\n",
    "        for qind, qubit in enumerate(qubits):\n",
    "            circ.measure(qr[qubit], cr[qind])  # measure\n",
    "        circuits.append(circ)\n",
    "\n",
    "    return circuits"
   ]
  },
  {
   "cell_type": "code",
   "execution_count": 27,
   "id": "05e3bbed",
   "metadata": {
    "executionInfo": {
     "elapsed": 151,
     "status": "ok",
     "timestamp": 1633428251298,
     "user": {
      "displayName": "Dean Brand",
      "photoUrl": "https://lh3.googleusercontent.com/a/default-user=s64",
      "userId": "08092671779044246052"
     },
     "user_tz": -120
    },
    "id": "05e3bbed"
   },
   "outputs": [],
   "source": [
    "# CPMG Circuits\n",
    "t2ccircuits = t2_circuits(np.floor(time).astype(int), qubits, n_echos = 2, phase_alt_echo = True)\n",
    "# Echo Circuits\n",
    "t2ecircuits = t2_circuits(np.floor(time).astype(int), qubits, n_echos = 1, phase_alt_echo = False)"
   ]
  },
  {
   "cell_type": "code",
   "execution_count": 28,
   "id": "e1dae66e",
   "metadata": {
    "colab": {
     "base_uri": "https://localhost:8080/",
     "height": 233
    },
    "executionInfo": {
     "elapsed": 151,
     "status": "ok",
     "timestamp": 1633428251299,
     "user": {
      "displayName": "Dean Brand",
      "photoUrl": "https://lh3.googleusercontent.com/a/default-user=s64",
      "userId": "08092671779044246052"
     },
     "user_tz": -120
    },
    "id": "e1dae66e",
    "outputId": "f2b6f7e6-8906-4346-9ca4-46a55670febd"
   },
   "outputs": [
    {
     "data": {
      "text/html": [
       "<pre style=\"word-wrap: normal;white-space: pre;background: #fff0;line-height: 1.1;font-family: &quot;Courier New&quot;,Courier,monospace\">                                                                              »\n",
       "q1_0: ────────────────────────────────────────────────────────────────────────»\n",
       "                                                                              »\n",
       "q1_1: ────────────────────────────────────────────────────────────────────────»\n",
       "      ┌─────────┐ ░ ┌────────────────┐ ░ ┌───┐ ░ ┌────────────────┐ ░ ┌───┐ ░ »\n",
       "q1_2: ┤ U2(0,0) ├─░─┤ Delay(296[us]) ├─░─┤ Y ├─░─┤ Delay(592[us]) ├─░─┤ X ├─░─»\n",
       "      └─────────┘ ░ └────────────────┘ ░ └───┘ ░ └────────────────┘ ░ └───┘ ░ »\n",
       "c1: 1/════════════════════════════════════════════════════════════════════════»\n",
       "                                                                              »\n",
       "«                                       ░    \n",
       "«q1_0: ─────────────────────────────────░────\n",
       "«                                       ░    \n",
       "«q1_1: ─────────────────────────────────░────\n",
       "«      ┌────────────────┐ ░ ┌─────────┐ ░ ┌─┐\n",
       "«q1_2: ┤ Delay(296[us]) ├─░─┤ U2(0,0) ├─░─┤M├\n",
       "«      └────────────────┘ ░ └─────────┘ ░ └╥┘\n",
       "«c1: 1/════════════════════════════════════╩═\n",
       "«                                          0 </pre>"
      ],
      "text/plain": [
       "                                                                              »\n",
       "q1_0: ────────────────────────────────────────────────────────────────────────»\n",
       "                                                                              »\n",
       "q1_1: ────────────────────────────────────────────────────────────────────────»\n",
       "      ┌─────────┐ ░ ┌────────────────┐ ░ ┌───┐ ░ ┌────────────────┐ ░ ┌───┐ ░ »\n",
       "q1_2: ┤ U2(0,0) ├─░─┤ Delay(296[us]) ├─░─┤ Y ├─░─┤ Delay(592[us]) ├─░─┤ X ├─░─»\n",
       "      └─────────┘ ░ └────────────────┘ ░ └───┘ ░ └────────────────┘ ░ └───┘ ░ »\n",
       "c1: 1/════════════════════════════════════════════════════════════════════════»\n",
       "                                                                              »\n",
       "«                                       ░    \n",
       "«q1_0: ─────────────────────────────────░────\n",
       "«                                       ░    \n",
       "«q1_1: ─────────────────────────────────░────\n",
       "«      ┌────────────────┐ ░ ┌─────────┐ ░ ┌─┐\n",
       "«q1_2: ┤ Delay(296[us]) ├─░─┤ U2(0,0) ├─░─┤M├\n",
       "«      └────────────────┘ ░ └─────────┘ ░ └╥┘\n",
       "«c1: 1/════════════════════════════════════╩═\n",
       "«                                          0 "
      ]
     },
     "execution_count": 28,
     "metadata": {},
     "output_type": "execute_result"
    }
   ],
   "source": [
    "t2ccircuits[-1].draw()"
   ]
  },
  {
   "cell_type": "code",
   "execution_count": 29,
   "id": "6618a768",
   "metadata": {
    "colab": {
     "base_uri": "https://localhost:8080/",
     "height": 233
    },
    "executionInfo": {
     "elapsed": 149,
     "status": "ok",
     "timestamp": 1633428251300,
     "user": {
      "displayName": "Dean Brand",
      "photoUrl": "https://lh3.googleusercontent.com/a/default-user=s64",
      "userId": "08092671779044246052"
     },
     "user_tz": -120
    },
    "id": "6618a768",
    "outputId": "c502558b-850d-4809-d1c9-a8c38265006f"
   },
   "outputs": [
    {
     "data": {
      "text/html": [
       "<pre style=\"word-wrap: normal;white-space: pre;background: #fff0;line-height: 1.1;font-family: &quot;Courier New&quot;,Courier,monospace\">                                                                      »\n",
       "q2_0: ────────────────────────────────────────────────────────────────»\n",
       "                                                                      »\n",
       "q2_1: ────────────────────────────────────────────────────────────────»\n",
       "      ┌─────────┐ ░ ┌────────────────┐ ░ ┌───┐ ░ ┌────────────────┐ ░ »\n",
       "q2_2: ┤ U2(0,0) ├─░─┤ Delay(296[us]) ├─░─┤ Y ├─░─┤ Delay(296[us]) ├─░─»\n",
       "      └─────────┘ ░ └────────────────┘ ░ └───┘ ░ └────────────────┘ ░ »\n",
       "c2: 1/════════════════════════════════════════════════════════════════»\n",
       "                                                                      »\n",
       "«                  ░    \n",
       "«q2_0: ────────────░────\n",
       "«                  ░    \n",
       "«q2_1: ────────────░────\n",
       "«      ┌─────────┐ ░ ┌─┐\n",
       "«q2_2: ┤ U2(0,0) ├─░─┤M├\n",
       "«      └─────────┘ ░ └╥┘\n",
       "«c2: 1/═══════════════╩═\n",
       "«                     0 </pre>"
      ],
      "text/plain": [
       "                                                                      »\n",
       "q2_0: ────────────────────────────────────────────────────────────────»\n",
       "                                                                      »\n",
       "q2_1: ────────────────────────────────────────────────────────────────»\n",
       "      ┌─────────┐ ░ ┌────────────────┐ ░ ┌───┐ ░ ┌────────────────┐ ░ »\n",
       "q2_2: ┤ U2(0,0) ├─░─┤ Delay(296[us]) ├─░─┤ Y ├─░─┤ Delay(296[us]) ├─░─»\n",
       "      └─────────┘ ░ └────────────────┘ ░ └───┘ ░ └────────────────┘ ░ »\n",
       "c2: 1/════════════════════════════════════════════════════════════════»\n",
       "                                                                      »\n",
       "«                  ░    \n",
       "«q2_0: ────────────░────\n",
       "«                  ░    \n",
       "«q2_1: ────────────░────\n",
       "«      ┌─────────┐ ░ ┌─┐\n",
       "«q2_2: ┤ U2(0,0) ├─░─┤M├\n",
       "«      └─────────┘ ░ └╥┘\n",
       "«c2: 1/═══════════════╩═\n",
       "«                     0 "
      ]
     },
     "execution_count": 29,
     "metadata": {},
     "output_type": "execute_result"
    }
   ],
   "source": [
    "t2ecircuits[-1].draw()"
   ]
  },
  {
   "cell_type": "markdown",
   "id": "462b35f5",
   "metadata": {
    "id": "462b35f5"
   },
   "source": [
    "### Readout Error Mitigation"
   ]
  },
  {
   "cell_type": "code",
   "execution_count": 30,
   "id": "4ebb6eeb",
   "metadata": {
    "executionInfo": {
     "elapsed": 147,
     "status": "ok",
     "timestamp": 1633428251300,
     "user": {
      "displayName": "Dean Brand",
      "photoUrl": "https://lh3.googleusercontent.com/a/default-user=s64",
      "userId": "08092671779044246052"
     },
     "user_tz": -120
    },
    "id": "4ebb6eeb"
   },
   "outputs": [],
   "source": [
    "meas_calibs, state_labels = complete_meas_cal(qubit_list=qubits, qr=qr, circlabel='mcal')"
   ]
  },
  {
   "cell_type": "markdown",
   "id": "e1671984",
   "metadata": {
    "id": "e1671984"
   },
   "source": [
    "## Backend Execution"
   ]
  },
  {
   "cell_type": "code",
   "execution_count": 31,
   "id": "703f0e64",
   "metadata": {
    "executionInfo": {
     "elapsed": 126630,
     "status": "ok",
     "timestamp": 1633428377784,
     "user": {
      "displayName": "Dean Brand",
      "photoUrl": "https://lh3.googleusercontent.com/a/default-user=s64",
      "userId": "08092671779044246052"
     },
     "user_tz": -120
    },
    "id": "703f0e64"
   },
   "outputs": [],
   "source": [
    "# Run the Readout Error Mitigation circuits\n",
    "cal_results = qiskit.execute(meas_calibs, backend = backend, shots = shots).result()\n",
    "# cal_results = backend.retrieve_job('628b8a1eff7757f7f254d7a0').result()\n"
   ]
  },
  {
   "cell_type": "code",
   "execution_count": 32,
   "id": "49ba2130",
   "metadata": {
    "executionInfo": {
     "elapsed": 416518,
     "status": "ok",
     "timestamp": 1633428794269,
     "user": {
      "displayName": "Dean Brand",
      "photoUrl": "https://lh3.googleusercontent.com/a/default-user=s64",
      "userId": "08092671779044246052"
     },
     "user_tz": -120
    },
    "id": "49ba2130"
   },
   "outputs": [],
   "source": [
    "# Run the T1 circuits\n",
    "t1_backend_result = qiskit.execute(t1circuits, backend, shots = shots, optimization_level = 0).result()\n",
    "# t1_backend_result = backend.retrieve_job('628b8c3c158b8b2b4a9453fa').result()\n"
   ]
  },
  {
   "cell_type": "code",
   "execution_count": 33,
   "id": "3dbf6824",
   "metadata": {
    "executionInfo": {
     "elapsed": 392943,
     "status": "ok",
     "timestamp": 1633429188825,
     "user": {
      "displayName": "Dean Brand",
      "photoUrl": "https://lh3.googleusercontent.com/a/default-user=s64",
      "userId": "08092671779044246052"
     },
     "user_tz": -120
    },
    "id": "3dbf6824"
   },
   "outputs": [],
   "source": [
    "# Run the T2* circuits\n",
    "t2star_backend_result = qiskit.execute(t2scircuits, backend, shots = shots, optimization_level = 0).result()\n",
    "# t2star_backend_result = backend.retrieve_job(\n",
    "#     '628b90e2158b8bdeaa94541d').result()\n"
   ]
  },
  {
   "cell_type": "code",
   "execution_count": 34,
   "id": "bd77dda9",
   "metadata": {
    "executionInfo": {
     "elapsed": 531556,
     "status": "ok",
     "timestamp": 1633429720344,
     "user": {
      "displayName": "Dean Brand",
      "photoUrl": "https://lh3.googleusercontent.com/a/default-user=s64",
      "userId": "08092671779044246052"
     },
     "user_tz": -120
    },
    "id": "bd77dda9"
   },
   "outputs": [],
   "source": [
    "# Run the T2 Echo circuits\n",
    "t2e_backend_result = qiskit.execute(t2ecircuits, backend, shots = shots, optimization_level = 0).result()\n",
    "# t2e_backend_result = backend.retrieve_job('628b9612ff77571c8054d809').result()\n"
   ]
  },
  {
   "cell_type": "code",
   "execution_count": 35,
   "id": "9e6d822c",
   "metadata": {
    "executionInfo": {
     "elapsed": 672178,
     "status": "ok",
     "timestamp": 1633430392484,
     "user": {
      "displayName": "Dean Brand",
      "photoUrl": "https://lh3.googleusercontent.com/a/default-user=s64",
      "userId": "08092671779044246052"
     },
     "user_tz": -120
    },
    "id": "9e6d822c"
   },
   "outputs": [],
   "source": [
    "# Run the T2 CPMG circuits\n",
    "# t2c_backend_result = qiskit.execute(t2ccircuits, backend, shots = shots, optimization_level = 0).result()"
   ]
  },
  {
   "cell_type": "markdown",
   "id": "740c5e20",
   "metadata": {
    "id": "740c5e20"
   },
   "source": [
    "Let's look at the calibration results"
   ]
  },
  {
   "cell_type": "code",
   "execution_count": 36,
   "id": "d4376d2f",
   "metadata": {
    "colab": {
     "base_uri": "https://localhost:8080/",
     "height": 301
    },
    "executionInfo": {
     "elapsed": 142,
     "status": "ok",
     "timestamp": 1633430392525,
     "user": {
      "displayName": "Dean Brand",
      "photoUrl": "https://lh3.googleusercontent.com/a/default-user=s64",
      "userId": "08092671779044246052"
     },
     "user_tz": -120
    },
    "id": "d4376d2f",
    "outputId": "f1193a89-7a83-4fd9-bb70-379466c888e1"
   },
   "outputs": [
    {
     "name": "stdout",
     "output_type": "stream",
     "text": [
      "Average Measurement Fidelity: 0.966675\n"
     ]
    },
    {
     "data": {
      "image/png": "[encoded data removed]",
      "text/plain": [
       "<Figure size 432x288 with 2 Axes>"
      ]
     },
     "metadata": {
      "needs_background": "light"
     },
     "output_type": "display_data"
    }
   ],
   "source": [
    "meas_fitter = CompleteMeasFitter(cal_results, state_labels, circlabel = 'mcal')\n",
    "print(\"Average Measurement Fidelity: %f\" % meas_fitter.readout_fidelity())\n",
    "meas_fitter.plot_calibration()"
   ]
  },
  {
   "cell_type": "markdown",
   "id": "bdfdddda",
   "metadata": {
    "id": "bdfdddda"
   },
   "source": [
    "Apply the error mitigation"
   ]
  },
  {
   "cell_type": "code",
   "execution_count": 37,
   "id": "dc029d75",
   "metadata": {
    "executionInfo": {
     "elapsed": 124,
     "status": "ok",
     "timestamp": 1633430392528,
     "user": {
      "displayName": "Dean Brand",
      "photoUrl": "https://lh3.googleusercontent.com/a/default-user=s64",
      "userId": "08092671779044246052"
     },
     "user_tz": -120
    },
    "id": "dc029d75"
   },
   "outputs": [],
   "source": [
    "# Results without mitigation\n",
    "t1_raw_counts = t1_backend_result.get_counts(0)\n",
    "t2s_raw_counts = t2star_backend_result.get_counts(0)\n",
    "t2e_raw_counts = t2e_backend_result.get_counts(0)\n",
    "# t2c_raw_counts = t2c_backend_result.get_counts(0)\n",
    "\n",
    "# Get the filter object\n",
    "meas_filter = meas_fitter.filter\n",
    "\n",
    "# Results with mitigation\n",
    "\n",
    "t1_mitigated_results = meas_filter.apply(t1_backend_result)\n",
    "t2s_mitigated_results = meas_filter.apply(t2star_backend_result)\n",
    "t2e_mitigated_results = meas_filter.apply(t2e_backend_result)\n",
    "# t2c_mitigated_results = meas_filter.apply(t2c_backend_result)\n",
    "\n",
    "t1_mitigated_counts = t1_mitigated_results.get_counts(0)\n",
    "t2s_mitigated_counts = t2s_mitigated_results.get_counts(0)\n",
    "t2e_mitigated_counts = t2e_mitigated_results.get_counts(0)\n",
    "# t2c_mitigated_counts = t2c_mitigated_results.get_counts(0)"
   ]
  },
  {
   "cell_type": "code",
   "execution_count": 38,
   "id": "a1e660a3",
   "metadata": {
    "colab": {
     "base_uri": "https://localhost:8080/",
     "height": 323
    },
    "executionInfo": {
     "elapsed": 123,
     "status": "ok",
     "timestamp": 1633430392530,
     "user": {
      "displayName": "Dean Brand",
      "photoUrl": "https://lh3.googleusercontent.com/a/default-user=s64",
      "userId": "08092671779044246052"
     },
     "user_tz": -120
    },
    "id": "a1e660a3",
    "outputId": "c4744258-9e84-47b7-8cea-c33d833b4a2c"
   },
   "outputs": [
    {
     "data": {
      "image/png": "[encoded data removed]",
      "text/plain": [
       "<Figure size 504x360 with 1 Axes>"
      ]
     },
     "execution_count": 38,
     "metadata": {},
     "output_type": "execute_result"
    }
   ],
   "source": [
    "# T1 Mitigated Counts\n",
    "plot_histogram([t1_raw_counts, t1_mitigated_counts], legend = ['Raw', 'Mitigated'])"
   ]
  },
  {
   "cell_type": "code",
   "execution_count": 39,
   "id": "643507b4",
   "metadata": {
    "colab": {
     "base_uri": "https://localhost:8080/",
     "height": 323
    },
    "executionInfo": {
     "elapsed": 121,
     "status": "ok",
     "timestamp": 1633430392531,
     "user": {
      "displayName": "Dean Brand",
      "photoUrl": "https://lh3.googleusercontent.com/a/default-user=s64",
      "userId": "08092671779044246052"
     },
     "user_tz": -120
    },
    "id": "643507b4",
    "outputId": "554845cf-f00e-451f-e7fc-f5c8f8e7404d"
   },
   "outputs": [
    {
     "data": {
      "image/png": "[encoded data removed]",
      "text/plain": [
       "<Figure size 504x360 with 1 Axes>"
      ]
     },
     "execution_count": 39,
     "metadata": {},
     "output_type": "execute_result"
    }
   ],
   "source": [
    "# T2* Mitigated Counts\n",
    "plot_histogram([t2s_raw_counts, t2s_mitigated_counts], legend = ['Raw', 'Mitigated'])"
   ]
  },
  {
   "cell_type": "code",
   "execution_count": 40,
   "id": "c5bf21d9",
   "metadata": {
    "colab": {
     "base_uri": "https://localhost:8080/",
     "height": 323
    },
    "executionInfo": {
     "elapsed": 2275,
     "status": "ok",
     "timestamp": 1633430394688,
     "user": {
      "displayName": "Dean Brand",
      "photoUrl": "https://lh3.googleusercontent.com/a/default-user=s64",
      "userId": "08092671779044246052"
     },
     "user_tz": -120
    },
    "id": "c5bf21d9",
    "outputId": "16a68f59-8ce3-49e3-bfa7-804df453de68"
   },
   "outputs": [
    {
     "data": {
      "image/png": "[encoded data removed]",
      "text/plain": [
       "<Figure size 504x360 with 1 Axes>"
      ]
     },
     "execution_count": 40,
     "metadata": {},
     "output_type": "execute_result"
    }
   ],
   "source": [
    "# T2 Echo Mitigated Counts\n",
    "plot_histogram([t2e_raw_counts, t2e_mitigated_counts], legend = ['Raw', 'Mitigated'])"
   ]
  },
  {
   "cell_type": "code",
   "execution_count": 41,
   "id": "d7d99224",
   "metadata": {
    "colab": {
     "base_uri": "https://localhost:8080/",
     "height": 323
    },
    "executionInfo": {
     "elapsed": 131,
     "status": "ok",
     "timestamp": 1633430394689,
     "user": {
      "displayName": "Dean Brand",
      "photoUrl": "https://lh3.googleusercontent.com/a/default-user=s64",
      "userId": "08092671779044246052"
     },
     "user_tz": -120
    },
    "id": "d7d99224",
    "outputId": "809d4d86-3c27-429e-edec-f51e015094ec"
   },
   "outputs": [],
   "source": [
    "# T2 CPMG Mitigated Counts\n",
    "# plot_histogram([t2c_raw_counts, t2c_mitigated_counts], legend = ['Raw', 'Mitigated'])"
   ]
  },
  {
   "cell_type": "markdown",
   "id": "5b4ad782",
   "metadata": {
    "id": "5b4ad782"
   },
   "source": [
    "## Data Fitting"
   ]
  },
  {
   "cell_type": "code",
   "execution_count": 42,
   "id": "f427a2eb",
   "metadata": {
    "executionInfo": {
     "elapsed": 128,
     "status": "ok",
     "timestamp": 1633430394690,
     "user": {
      "displayName": "Dean Brand",
      "photoUrl": "https://lh3.googleusercontent.com/a/default-user=s64",
      "userId": "08092671779044246052"
     },
     "user_tz": -120
    },
    "id": "f427a2eb"
   },
   "outputs": [],
   "source": [
    "# T1 Raw\n",
    "\n",
    "t1raw_lst0 = []\n",
    "t1raw_lst1 = []\n",
    "\n",
    "t1ystd0 = []\n",
    "t1ystd1 = []\n",
    "\n",
    "for i in range(len(time)):\n",
    "    if '1' in t1_backend_result.get_counts(i):\n",
    "        i1 = t1_backend_result.get_counts(i)['1']\n",
    "    else:\n",
    "        i1 = 0\n",
    "    if '0' in t1_backend_result.get_counts(i):\n",
    "        i0 = t1_backend_result.get_counts(i)['0']\n",
    "    else:\n",
    "        i0 = 0\n",
    "    \n",
    "    q0 = i0/shots\n",
    "    q1 = i1/shots\n",
    "    \n",
    "    t1ystd0.append(np.sqrt(q0 * (1-q0) / shots) + (2 * q0err * q0))\n",
    "    # t1ystd1.append(np.sqrt(q1 * (1-q1) / shots) + (2 * q1err * q1))\n",
    "    \n",
    "    t1raw_lst0.append(q0)\n",
    "    t1raw_lst1.append(q1)"
   ]
  },
  {
   "cell_type": "code",
   "execution_count": 43,
   "id": "2cc21939",
   "metadata": {
    "executionInfo": {
     "elapsed": 125,
     "status": "ok",
     "timestamp": 1633430394690,
     "user": {
      "displayName": "Dean Brand",
      "photoUrl": "https://lh3.googleusercontent.com/a/default-user=s64",
      "userId": "08092671779044246052"
     },
     "user_tz": -120
    },
    "id": "2cc21939"
   },
   "outputs": [],
   "source": [
    "# T1 Mitigated\n",
    "\n",
    "t1mit_lst0 = []\n",
    "t1mit_lst1 = []\n",
    "\n",
    "for i in range(len(time)):\n",
    "    if '1' in t1_mitigated_results.get_counts(i):\n",
    "        i1 = t1_mitigated_results.get_counts(i)['1']\n",
    "    else:\n",
    "        i1 = 0\n",
    "    if '0' in t1_mitigated_results.get_counts(i):\n",
    "        i0 = t1_mitigated_results.get_counts(i)['0']\n",
    "    else:\n",
    "        i0 = 0\n",
    "    \n",
    "    q0 = i0/shots\n",
    "    q1 = i1/shots\n",
    "    \n",
    "    t1mit_lst0.append(q0)\n",
    "    t1mit_lst1.append(q1)"
   ]
  },
  {
   "cell_type": "code",
   "execution_count": 44,
   "id": "ed564e6e",
   "metadata": {
    "executionInfo": {
     "elapsed": 124,
     "status": "ok",
     "timestamp": 1633430394691,
     "user": {
      "displayName": "Dean Brand",
      "photoUrl": "https://lh3.googleusercontent.com/a/default-user=s64",
      "userId": "08092671779044246052"
     },
     "user_tz": -120
    },
    "id": "ed564e6e"
   },
   "outputs": [],
   "source": [
    "# T2* Raw\n",
    "\n",
    "t2sraw_lst0 = []\n",
    "t2sraw_lst1 = []\n",
    "\n",
    "for i in range(len(time)):\n",
    "    if '0' in t2star_backend_result.get_counts(i):\n",
    "        i0 = t2star_backend_result.get_counts(i)['0']\n",
    "    else:\n",
    "        i0 = 0\n",
    "    if '1' in t2star_backend_result.get_counts(i):\n",
    "        i1 = t2star_backend_result.get_counts(i)['1']\n",
    "    else:\n",
    "        i1 = 0\n",
    "    \n",
    "    q0 = i0/shots\n",
    "    q1 = i1/shots\n",
    "    \n",
    "    t2sraw_lst0.append(q0)\n",
    "    t2sraw_lst1.append(q1)"
   ]
  },
  {
   "cell_type": "code",
   "execution_count": 45,
   "id": "04822f2f",
   "metadata": {
    "executionInfo": {
     "elapsed": 124,
     "status": "ok",
     "timestamp": 1633430394692,
     "user": {
      "displayName": "Dean Brand",
      "photoUrl": "https://lh3.googleusercontent.com/a/default-user=s64",
      "userId": "08092671779044246052"
     },
     "user_tz": -120
    },
    "id": "04822f2f"
   },
   "outputs": [],
   "source": [
    "# T2* Mitigated\n",
    "\n",
    "t2smit_lst0 = []\n",
    "t2smit_lst1 = []\n",
    "\n",
    "for i in range(len(time)):\n",
    "    if '0' in t2s_mitigated_results.get_counts(i):\n",
    "        i0 = t2s_mitigated_results.get_counts(i)['0']\n",
    "    else:\n",
    "        i0 = 0\n",
    "    if '1' in t2s_mitigated_results.get_counts(i):\n",
    "        i1 = t2s_mitigated_results.get_counts(i)['1']\n",
    "    else:\n",
    "        i1 = 0\n",
    "    \n",
    "    q0 = i0/shots\n",
    "    q1 = i1/shots\n",
    "    \n",
    "    t2smit_lst0.append(q0)\n",
    "    t2smit_lst1.append(q1)"
   ]
  },
  {
   "cell_type": "code",
   "execution_count": 46,
   "id": "06da8f2f",
   "metadata": {
    "executionInfo": {
     "elapsed": 124,
     "status": "ok",
     "timestamp": 1633430394693,
     "user": {
      "displayName": "Dean Brand",
      "photoUrl": "https://lh3.googleusercontent.com/a/default-user=s64",
      "userId": "08092671779044246052"
     },
     "user_tz": -120
    },
    "id": "06da8f2f"
   },
   "outputs": [],
   "source": [
    "# T2E Raw\n",
    "\n",
    "t2eraw_lst0 = []\n",
    "t2eraw_lst1 = []\n",
    "\n",
    "for i in range(len(time)):\n",
    "    if '0' in t2e_backend_result.get_counts(i):\n",
    "        i0 = t2e_backend_result.get_counts(i)['0']\n",
    "    else:\n",
    "        i0 = 0\n",
    "    if '1' in t2e_backend_result.get_counts(i):\n",
    "        i1 = t2e_backend_result.get_counts(i)['1']\n",
    "    else:\n",
    "        i1 = 0\n",
    "    \n",
    "    q0 = i0/shots\n",
    "    q1 = i1/shots\n",
    "    \n",
    "    t2eraw_lst0.append(q0)\n",
    "    t2eraw_lst1.append(q1)"
   ]
  },
  {
   "cell_type": "code",
   "execution_count": 47,
   "id": "dfba428c",
   "metadata": {
    "executionInfo": {
     "elapsed": 124,
     "status": "ok",
     "timestamp": 1633430394694,
     "user": {
      "displayName": "Dean Brand",
      "photoUrl": "https://lh3.googleusercontent.com/a/default-user=s64",
      "userId": "08092671779044246052"
     },
     "user_tz": -120
    },
    "id": "dfba428c"
   },
   "outputs": [],
   "source": [
    "# T2E Mitigated\n",
    "\n",
    "t2emit_lst0 = []\n",
    "t2emit_lst1 = []\n",
    "\n",
    "for i in range(len(time)):\n",
    "    if '0' in t2e_mitigated_results.get_counts(i):\n",
    "        i0 = t2e_mitigated_results.get_counts(i)['0']\n",
    "    else:\n",
    "        i0 = 0\n",
    "    if '1' in t2e_mitigated_results.get_counts(i):\n",
    "        i1 = t2e_mitigated_results.get_counts(i)['1']\n",
    "    else:\n",
    "        i1 = 0\n",
    "    \n",
    "    q0 = i0/shots\n",
    "    q1 = i1/shots\n",
    "    \n",
    "    t2emit_lst0.append(q0)\n",
    "    t2emit_lst1.append(q1)"
   ]
  },
  {
   "cell_type": "code",
   "execution_count": 48,
   "id": "c24c26b6",
   "metadata": {
    "executionInfo": {
     "elapsed": 122,
     "status": "ok",
     "timestamp": 1633430394695,
     "user": {
      "displayName": "Dean Brand",
      "photoUrl": "https://lh3.googleusercontent.com/a/default-user=s64",
      "userId": "08092671779044246052"
     },
     "user_tz": -120
    },
    "id": "c24c26b6"
   },
   "outputs": [],
   "source": [
    "# T2 CPMG Raw\n",
    "\n",
    "# t2craw_lst0 = []\n",
    "# t2craw_lst1 = []\n",
    "\n",
    "# for i in range(len(time)):\n",
    "#     if '0' in t2c_backend_result.get_counts(i):\n",
    "#         i0 = t2c_backend_result.get_counts(i)['0']\n",
    "#     else:\n",
    "#         i0 = 0\n",
    "#     if '1' in t2c_backend_result.get_counts(i):\n",
    "#         i1 = t2c_backend_result.get_counts(i)['1']\n",
    "#     else:\n",
    "#         i1 = 0\n",
    "    \n",
    "#     q0 = i0/shots\n",
    "#     q1 = i1/shots\n",
    "    \n",
    "#     t2craw_lst0.append(q0)\n",
    "#     t2craw_lst1.append(q1)"
   ]
  },
  {
   "cell_type": "code",
   "execution_count": 49,
   "id": "6564ac04",
   "metadata": {
    "executionInfo": {
     "elapsed": 122,
     "status": "ok",
     "timestamp": 1633430394696,
     "user": {
      "displayName": "Dean Brand",
      "photoUrl": "https://lh3.googleusercontent.com/a/default-user=s64",
      "userId": "08092671779044246052"
     },
     "user_tz": -120
    },
    "id": "6564ac04"
   },
   "outputs": [],
   "source": [
    "# T2 CPMG Mitigated\n",
    "\n",
    "# t2cmit_lst0 = []\n",
    "# t2cmit_lst1 = []\n",
    "\n",
    "# for i in range(len(time)):\n",
    "#     if '0' in t2c_mitigated_results.get_counts(i):\n",
    "#         i0 = t2c_mitigated_results.get_counts(i)['0']\n",
    "#     else:\n",
    "#         i0 = 0\n",
    "#     if '1' in t2c_mitigated_results.get_counts(i):\n",
    "#         i1 = t2c_mitigated_results.get_counts(i)['1']\n",
    "#     else:\n",
    "#         i1 = 0\n",
    "    \n",
    "#     q0 = i0/shots\n",
    "#     q1 = i1/shots\n",
    "    \n",
    "#     t2cmit_lst0.append(q0)\n",
    "#     t2cmit_lst1.append(q1)"
   ]
  },
  {
   "cell_type": "markdown",
   "id": "f61ff54a",
   "metadata": {
    "id": "f61ff54a"
   },
   "source": [
    "## Plot the $T_1$ Results"
   ]
  },
  {
   "cell_type": "code",
   "execution_count": 50,
   "id": "6c0a4975",
   "metadata": {
    "colab": {
     "base_uri": "https://localhost:8080/",
     "height": 570
    },
    "executionInfo": {
     "elapsed": 122,
     "status": "ok",
     "timestamp": 1633430394697,
     "user": {
      "displayName": "Dean Brand",
      "photoUrl": "https://lh3.googleusercontent.com/a/default-user=s64",
      "userId": "08092671779044246052"
     },
     "user_tz": -120
    },
    "id": "6c0a4975",
    "outputId": "242a975b-b676-4a1f-dec6-4b523b558033"
   },
   "outputs": [
    {
     "data": {
      "image/png": "[encoded data removed]",
      "text/plain": [
       "<Figure size 864x648 with 1 Axes>"
      ]
     },
     "metadata": {},
     "output_type": "display_data"
    }
   ],
   "source": [
    "%matplotlib inline\n",
    "plt.style.use('seaborn')\n",
    "# matplotlib.rcParams.update({'font.size': 16,'font.family':'serif'})\n",
    "fig, ax = plt.subplots(figsize=(12, 9))\n",
    "\n",
    "plt.title('T1 Decay of Qubit ' + str(qubits[0]))\n",
    "plt.xlabel('$t$ ($\\mu$s)')\n",
    "plt.ylabel('Excited State Population')\n",
    "plt.ylim(-0.05, 1.05)\n",
    "\n",
    "plt.errorbar(time, t1mit_lst0, label = \"0\", marker='.', markersize=10, linestyle='', c = cool[0])\n",
    "plt.errorbar(time, t1mit_lst1, label = \"1\", marker='.', markersize=10, linestyle='', c = cool[1])\n",
    "\n",
    "plt.legend(loc = \"best\", numpoints = 1, frameon = True)\n",
    "    \n",
    "plt.show()"
   ]
  },
  {
   "cell_type": "markdown",
   "id": "a192c289",
   "metadata": {
    "id": "a192c289"
   },
   "source": [
    "## Plot the $T_2^*$ Results"
   ]
  },
  {
   "cell_type": "code",
   "execution_count": 51,
   "id": "40c08650",
   "metadata": {
    "colab": {
     "base_uri": "https://localhost:8080/",
     "height": 570
    },
    "executionInfo": {
     "elapsed": 1895,
     "status": "ok",
     "timestamp": 1633430396473,
     "user": {
      "displayName": "Dean Brand",
      "photoUrl": "https://lh3.googleusercontent.com/a/default-user=s64",
      "userId": "08092671779044246052"
     },
     "user_tz": -120
    },
    "id": "40c08650",
    "outputId": "855a2b86-ba3e-4db9-e535-281d85e216d7"
   },
   "outputs": [
    {
     "data": {
      "image/png": "[encoded data removed]",
      "text/plain": [
       "<Figure size 864x648 with 1 Axes>"
      ]
     },
     "metadata": {},
     "output_type": "display_data"
    }
   ],
   "source": [
    "%matplotlib inline\n",
    "plt.style.use('seaborn')\n",
    "# matplotlib.rcParams.update({'font.size': 16,'font.family':'serif'})\n",
    "fig, ax = plt.subplots(figsize=(12, 9))\n",
    "\n",
    "plt.title('T2* Decay of Qubit ' + str(qubits[0]))\n",
    "plt.xlabel('$t$ ($\\mu$s)')\n",
    "plt.ylabel('Ground State Population')\n",
    "plt.ylim(-0.05, 1.05)\n",
    "\n",
    "plt.plot(time, t2smit_lst0, label = \"0\", marker='.', markersize=9, c = cool[0])\n",
    "plt.plot(time, t2smit_lst1, label = \"1\", marker='.', markersize=9, c = cool[1])\n",
    "\n",
    "plt.legend(loc = \"best\", numpoints = 1, frameon = True)\n",
    "    \n",
    "plt.show()"
   ]
  },
  {
   "cell_type": "markdown",
   "id": "6c761415",
   "metadata": {
    "id": "6c761415"
   },
   "source": [
    "## Plot the $T_2$ Echo Results"
   ]
  },
  {
   "cell_type": "code",
   "execution_count": 52,
   "id": "b6cf1999",
   "metadata": {
    "colab": {
     "base_uri": "https://localhost:8080/",
     "height": 570
    },
    "executionInfo": {
     "elapsed": 116,
     "status": "ok",
     "timestamp": 1633430396534,
     "user": {
      "displayName": "Dean Brand",
      "photoUrl": "https://lh3.googleusercontent.com/a/default-user=s64",
      "userId": "08092671779044246052"
     },
     "user_tz": -120
    },
    "id": "b6cf1999",
    "outputId": "f7debbf5-e2b7-4f69-a1dc-ef98d73d5732"
   },
   "outputs": [
    {
     "data": {
      "image/png": "[encoded data removed]",
      "text/plain": [
       "<Figure size 864x648 with 1 Axes>"
      ]
     },
     "metadata": {},
     "output_type": "display_data"
    }
   ],
   "source": [
    "%matplotlib inline\n",
    "plt.style.use('seaborn')\n",
    "# matplotlib.rcParams.update({'font.size': 16,'font.family':'serif'})\n",
    "fig, ax = plt.subplots(figsize=(12, 9))\n",
    "\n",
    "plt.title('T2 Echo Decay of Qubit ' + str(qubits[0]))\n",
    "plt.xlabel('$t$ ($\\mu$s)')\n",
    "plt.ylabel('Ground State Population')\n",
    "plt.ylim(-0.05, 1.05)\n",
    "\n",
    "plt.plot(time, t2emit_lst0, label = \"0\", marker='.', markersize=9, c = cool[0])\n",
    "plt.plot(time, t2emit_lst1, label = \"1\", marker='.', markersize=9, c = cool[1])\n",
    "\n",
    "plt.legend(loc = \"best\", numpoints = 1, frameon = True)\n",
    "    \n",
    "plt.show()"
   ]
  },
  {
   "cell_type": "markdown",
   "id": "a33c3d97",
   "metadata": {
    "id": "a33c3d97"
   },
   "source": [
    "## Plot the $T_2$ CPMG Results"
   ]
  },
  {
   "cell_type": "code",
   "execution_count": 53,
   "id": "a9d5e04a",
   "metadata": {
    "colab": {
     "base_uri": "https://localhost:8080/",
     "height": 570
    },
    "executionInfo": {
     "elapsed": 110,
     "status": "ok",
     "timestamp": 1633430396534,
     "user": {
      "displayName": "Dean Brand",
      "photoUrl": "https://lh3.googleusercontent.com/a/default-user=s64",
      "userId": "08092671779044246052"
     },
     "user_tz": -120
    },
    "id": "a9d5e04a",
    "outputId": "cb4a9aad-5b65-4248-814e-73270bc79764"
   },
   "outputs": [],
   "source": [
    "# %matplotlib inline\n",
    "# plt.style.use('seaborn')\n",
    "# # matplotlib.rcParams.update({'font.size': 16,'font.family':'serif'})\n",
    "# fig, ax = plt.subplots(figsize=(12, 9))\n",
    "\n",
    "# plt.title('T2 Echo Decay of Qubit ' + str(qubits[0]))\n",
    "# plt.xlabel('$t$ ($\\mu$s)')\n",
    "# plt.ylabel('Ground State Population')\n",
    "# plt.ylim(-0.05, 1.05)\n",
    "\n",
    "# plt.plot(time, t2cmit_lst0, label = \"0\", marker='.', markersize=9, c = cool[0])\n",
    "# plt.plot(time, t2cmit_lst1, label = \"1\", marker='.', markersize=9, c = cool[1])\n",
    "\n",
    "# plt.legend(loc = \"best\", numpoints = 1, frameon = True)\n",
    "    \n",
    "# plt.show()"
   ]
  },
  {
   "cell_type": "markdown",
   "id": "dd66e996",
   "metadata": {
    "id": "dd66e996"
   },
   "source": [
    "# Numerical Solutions"
   ]
  },
  {
   "cell_type": "code",
   "execution_count": 54,
   "id": "e457a6a3",
   "metadata": {},
   "outputs": [
    {
     "data": {
      "text/plain": [
       "DeviceArray([0.70710677+0.j, 0.70710677+0.j], dtype=complex64)"
      ]
     },
     "execution_count": 54,
     "metadata": {},
     "output_type": "execute_result"
    }
   ],
   "source": [
    "1/np.sqrt(2) * jnp.array([1, 1], dtype=jnp.complex64)"
   ]
  },
  {
   "cell_type": "code",
   "execution_count": 55,
   "id": "d1921d04",
   "metadata": {
    "executionInfo": {
     "elapsed": 108,
     "status": "ok",
     "timestamp": 1633430396536,
     "user": {
      "displayName": "Dean Brand",
      "photoUrl": "https://lh3.googleusercontent.com/a/default-user=s64",
      "userId": "08092671779044246052"
     },
     "user_tz": -120
    },
    "id": "d1921d04"
   },
   "outputs": [],
   "source": [
    "sz = jnp.array([[1,0],[0,-1]], dtype = jnp.complex64)\n",
    "sx = jnp.array([[0,1],[1,0]], dtype = jnp.complex64)\n",
    "sy = jnp.array([[0, -1j],[1j, 0]], dtype = jnp.complex64)\n",
    "\n",
    "sp = jnp.array([[0,1],[0,0]], dtype = jnp.complex64)\n",
    "sm = jnp.array([[0,0],[1,0]], dtype = jnp.complex64)\n",
    "\n",
    "zero = jnp.array([1, 0], dtype = jnp.complex64)\n",
    "one = jnp.array([0, 1], dtype = jnp.complex64)\n",
    "plus = 1/np.sqrt(2) * jnp.array([1, 1], dtype=jnp.complex64)\n",
    "minus = 1/np.sqrt(2) * jnp.array([1, -1], dtype = jnp.complex64)\n",
    "right = 1/np.sqrt(2) * (zero + 1j * one)\n",
    "left = 1/np.sqrt(2) * (zero - 1j * one)\n",
    "\n",
    "id2 = jnp.identity(2, dtype = jnp.complex64)\n",
    "id4 = jnp.kron(id2, id2)\n",
    "\n",
    "sz1 = jnp.kron(sz, id2)\n",
    "sx1 = jnp.kron(sx, id2)\n",
    "sy1 = jnp.kron(sy, id2)\n",
    "sp1 = jnp.kron(sp, id2)\n",
    "sm1 = jnp.kron(sm, id2)\n",
    "\n",
    "sz2 = jnp.kron(id2, sz)\n",
    "sx2 = jnp.kron(id2, sx)\n",
    "sy2 = jnp.kron(id2, sy)\n",
    "sp2 = jnp.kron(id2, sp)\n",
    "sm2 = jnp.kron(id2, sm)\n",
    "\n",
    "O1 = (jnp.identity(4) - sz1)/2\n",
    "O2 = (jnp.identity(4) - sz2)/2\n",
    "\n",
    "H2 = 1/jnp.sqrt(2) * jnp.array([[1, 1],\n",
    "                                [1, -1]], dtype = jnp.complex64)\n",
    "\n",
    "H4 = np.kron(H2, H2)\n",
    "\n",
    "def ugate(t, p, l):\n",
    "    u = jnp.array([[jnp.cos(t/2), - jnp.exp(1j * l) * jnp.sin(t/2)],\n",
    "                  [jnp.exp(1j * p) * jnp.sin(t/2), jnp.exp(1j * (p + l)) * jnp.cos(t/2)]], dtype = jnp.complex64)\n",
    "    return u\n",
    "\n",
    "def u1gate(l):\n",
    "    u = jnp.array([[1, 0],\n",
    "                  [0, jnp.exp(1j * l)]], dtype = jnp.complex64)\n",
    "    return u\n",
    "\n",
    "def u2gate(p, l):\n",
    "    u = 1/jnp.sqrt(2) * jnp.array([[1, -jnp.exp(1j * l)],\n",
    "                                   [jnp.exp(1j * p), jnp.exp(1j * (p + l))]], dtype = jnp.complex64)\n",
    "    return u\n",
    "\n",
    "def dagger(A):\n",
    "    return jnp.transpose(jnp.conjugate(A))\n",
    "\n",
    "Y90 = jnp.kron(u2gate(0, 0), u2gate(0, 0))\n",
    "\n",
    "X = jnp.kron(sx, sx)\n",
    "Y = jnp.kron(sy, sy)\n",
    "\n",
    "xdata = time / 1e6"
   ]
  },
  {
   "cell_type": "markdown",
   "id": "22c9ff5d",
   "metadata": {
    "id": "22c9ff5d"
   },
   "source": [
    "We will solve the following equation. The Quantum Master equation for a two-qubit system undergoing thermal relaxation and decoherence:\n",
    "$$\\frac{d \\rho}{dt}=\\mathcal{L}\\rho,$$\n",
    "where\n",
    "$$\\mathcal{L}\\rho =-\\imath[H,\\rho]+\\gamma(\\langle n \\rangle +1)\\left(\\sigma_-\\rho\\sigma_++\\frac{1}{2}\\left\\{\\sigma_+\\sigma_-,\\rho\\right\\}\\right) + \\gamma(\\langle n \\rangle)\\left(\\sigma_+\\rho\\sigma_-+\\frac{1}{2}\\left\\{\\sigma_-\\sigma_+,\\rho\\right\\}\\right) + \\gamma_z \\left( \\sigma_z \\rho \\sigma_z - \\rho \\right)$$\n",
    "\n",
    "and\n",
    "$$\n",
    "H = \\frac{\\omega_1}{2}\\sigma_x + \\frac{\\omega_2}{2}\\sigma_y + \\frac{\\omega_2}{2}\\sigma_z\n",
    "$$\n",
    "\n",
    "$$\n",
    "\\langle n \\rangle=\\frac{1}{e^{\\hbar\\omega/kT}-1}\n",
    "$$"
   ]
  },
  {
   "cell_type": "markdown",
   "id": "ddaee154",
   "metadata": {
    "id": "ddaee154"
   },
   "source": [
    "The initial condition of the $T_1$ solution is:\n",
    "$$\\rho(0)=|0\\rangle\\langle 0|,$$\n",
    "where \n",
    "$$|0\\rangle=\\left(\\begin{matrix}\n",
    "1\\\\\n",
    "0\n",
    "\\end{matrix}\\right)$$\n",
    "\n",
    "$$\n",
    "\\rho_0 = \\begin{pmatrix}\n",
    "1 & 0 \\\\\n",
    "0 & 0 \\\\\n",
    "\\end{pmatrix}\n",
    "$$"
   ]
  },
  {
   "cell_type": "code",
   "execution_count": 56,
   "id": "a2fc6e3f",
   "metadata": {
    "executionInfo": {
     "elapsed": 108,
     "status": "ok",
     "timestamp": 1633430396537,
     "user": {
      "displayName": "Dean Brand",
      "photoUrl": "https://lh3.googleusercontent.com/a/default-user=s64",
      "userId": "08092671779044246052"
     },
     "user_tz": -120
    },
    "id": "a2fc6e3f"
   },
   "outputs": [],
   "source": [
    "init = jnp.array(jnp.outer(plus, plus), dtype = jnp.complex64)\n",
    "\n",
    "inio = jnp.array(jnp.outer(zero, zero), dtype = jnp.complex64)\n",
    "\n",
    "ini1 = jnp.array(jnp.outer(one, one), dtype = jnp.complex64)\n",
    "\n",
    "# inim = jnp.array(jnp.outer(jnp.kron(minus, minus), jnp.kron(minus, minus)), dtype = jnp.complex64)\n",
    "\n",
    "# inid = jnp.array(jnp.outer(jnp.kron(plus, minus), jnp.kron(plus, minus)), dtype = jnp.complex64)\n",
    "\n",
    "# inip = jnp.array(jnp.outer(jnp.kron(minus, plus), jnp.kron(minus, plus)), dtype = jnp.complex64)\n",
    "\n",
    "# iniP = jnp.array(jnp.outer(jnp.kron(plus, plus), jnp.kron(minus, minus)), dtype = jnp.complex64)\n",
    "\n",
    "# inir = jnp.array(jnp.outer(jnp.kron(right, right), jnp.kron(right, right)), dtype = jnp.complex64)\n",
    "\n",
    "# inil = jnp.array(jnp.outer(jnp.kron(left, left), jnp.kron(left, left)), dtype = jnp.complex64)\n",
    "\n",
    "# inix = jnp.diag(jnp.array([0.25, 0.25, 0.25, 0.25]))"
   ]
  },
  {
   "cell_type": "code",
   "execution_count": 57,
   "id": "VYUoZsHHy7Cp",
   "metadata": {
    "executionInfo": {
     "elapsed": 108,
     "status": "ok",
     "timestamp": 1633430396538,
     "user": {
      "displayName": "Dean Brand",
      "photoUrl": "https://lh3.googleusercontent.com/a/default-user=s64",
      "userId": "08092671779044246052"
     },
     "user_tz": -120
    },
    "id": "VYUoZsHHy7Cp"
   },
   "outputs": [],
   "source": [
    "xdata = time / 1e6\n",
    "xd = time/1e3\n",
    "qtime = jnp.linspace(0, 0.075, 75)\n",
    "# prmsl = [w0, w1, g1l[0], g1l[1], j01, n1, n2]\n",
    "# prms1 = jnp.array([w0, w1, g1l[0] * 1e6, g1l[1] * 1e6, j01, n1, n2]) / 1e9\n",
    "# prms2s = jnp.array([w0, w1, 6 * g2l[0] * 1e6, 6 * g2l[1] * 1e6, j01, n1, n2]) / 1e9\n",
    "# prms2e = jnp.array([w0, w1, g2l[0] * 1e6, g2l[1] * 1e6, j01, n1, n2]) / 1e9\n",
    "\n",
    "# prms1 = jnp.array([g1l[0] * 1e6, g1l[1] * 1e6, j01, n1, n2]) / 1e9\n",
    "# prms2s = jnp.array([6 * g2l[0] * 1e6, 6 * g2l[1] * 1e6, j01, n1, n2]) / 1e9\n",
    "# prmsl_hc = jnp.array([g1l[0] * 1e6, g1l[1] * 1e6, j01 * 1e4, n1, n2]) / 1e9\n",
    "# prms2e = jnp.array([g2l[0] * 1e6, g2l[1] * 1e6, j01, n1, n2]) / 1e9\n",
    "\n",
    "# prms_t1 = jnp.array([w0, w0, w0, g1l[0] * 1e6, g1l[0] * 1e6, n1]) / 1e9\n",
    "prms_t1 = jnp.array([w0, w0, w0, g1l[0] * 1e6, 0, n1]) / 1e9\n",
    "prms_t2s = jnp.array([0, 0, w0 * 6, g2l[0] * 1e6 * 5, 0, n1]) / 1e9"
   ]
  },
  {
   "cell_type": "markdown",
   "id": "bcep7HflyufS",
   "metadata": {
    "id": "bcep7HflyufS"
   },
   "source": [
    "## Define the Master Equation Solvers"
   ]
  },
  {
   "cell_type": "code",
   "execution_count": 58,
   "id": "1f6ca767",
   "metadata": {
    "executionInfo": {
     "elapsed": 108,
     "status": "ok",
     "timestamp": 1633430396539,
     "user": {
      "displayName": "Dean Brand",
      "photoUrl": "https://lh3.googleusercontent.com/a/default-user=s64",
      "userId": "08092671779044246052"
     },
     "user_tz": -120
    },
    "id": "1f6ca767"
   },
   "outputs": [],
   "source": [
    "# Function for the T1 Solution\n",
    "\n",
    "@jit\n",
    "def func_t1(r, Wx, Wy, Wz, cg1, cgz, pn):\n",
    "\n",
    "    # W1 = w0 / 1e9\n",
    "    # W2 = w1 / 1e9\n",
    "\n",
    "    def LinEm(x, t, omegax=Wx, omegay=Wy, omegaz=Wz, gamma1=cg1, gammaz=cgz, Np=pn):\n",
    "        x = x.reshape(N, N)\n",
    "        H = omegax/2 * sx + omegay/2 * sy + omegaz/2 * sz\n",
    "        res = -1j*(jnp.dot(H, x) - jnp.dot(x, H))\n",
    "        res += gamma1*(Np + 1)*(multi_dot([sm,x,sp])-0.5*multi_dot([sp,sm,x])-0.5*multi_dot([x,sp,sm]))\n",
    "        res += gamma1*(Np)*(multi_dot([sp,x,sm])-0.5*multi_dot([sm,sp,x])-0.5*multi_dot([x,sm,sp]))\n",
    "        res += gammaz * (multi_dot([sz, x, sz]) - x)\n",
    "        return res.ravel().astype(jnp.complex64)\n",
    "\n",
    "    # sol = jnp.zeros((len(r),N,N),dtype=jnp.complex64)\n",
    "    solint = jnp.array(odeint(LinEm,\n",
    "                                    y0 = inio.ravel(),\n",
    "                                    t = r).reshape(len(r), N, N), dtype=jnp.complex64)\n",
    "\n",
    "    # for step in range(len(r)):\n",
    "    #     sol = index_update(sol,\n",
    "    #                        index[step],\n",
    "    #                        solint[step])\n",
    "\n",
    "    # return sol\n",
    "    return solint"
   ]
  },
  {
   "cell_type": "code",
   "execution_count": 59,
   "id": "79f65b84",
   "metadata": {
    "executionInfo": {
     "elapsed": 107,
     "status": "ok",
     "timestamp": 1633430396540,
     "user": {
      "displayName": "Dean Brand",
      "photoUrl": "https://lh3.googleusercontent.com/a/default-user=s64",
      "userId": "08092671779044246052"
     },
     "user_tz": -120
    },
    "id": "79f65b84"
   },
   "outputs": [],
   "source": [
    "# Function for the T2* Solution\n",
    "\n",
    "@jit\n",
    "def func_t2s(r, Wx, Wy, Wz, cg1, cgz, pn):\n",
    "\n",
    "    # W1 = w0 / 1e9\n",
    "    # W2 = w1 / 1e9\n",
    "\n",
    "    def LinEm(x, t, omegax=Wx, omegay=Wy, omegaz=Wz, gamma1=cg1, gammaz=cgz, Np=pn):\n",
    "        x = x.reshape(N, N)\n",
    "        H = omegax/2 * sx + omegay/2 * sy + omegaz/2 * sz\n",
    "        res = -1j*(jnp.dot(H, x) - jnp.dot(x, H))\n",
    "        res += gamma1*(Np + 1)*(multi_dot([sm,x,sp])-0.5*multi_dot([sp,sm,x])-0.5*multi_dot([x,sp,sm]))\n",
    "        res += gamma1*(Np)*(multi_dot([sp, x, sm])-0.5 *\n",
    "                            multi_dot([sm, sp, x])-0.5*multi_dot([x, sm, sp]))\n",
    "        res += gammaz * (multi_dot([sz, x, sz]) - x)\n",
    "        return res.ravel().astype(jnp.complex64)\n",
    "\n",
    "    # sol = jnp.zeros((len(r),N,N),dtype=jnp.complex64)\n",
    "    solint = jnp.array(odeint(LinEm,\n",
    "                                    y0 = multi_dot([H2, inio, H2]).ravel(),\n",
    "                                    t = r).reshape(len(r), N, N), dtype=jnp.complex64)\n",
    "\n",
    "    # for step in range(len(r)):\n",
    "    #     sol = index_update(sol,\n",
    "    #                        index[step],\n",
    "    #                        solint[step])\n",
    "    \n",
    "    solH = jnp.zeros((len(r),N,N),dtype=jnp.complex64)\n",
    "\n",
    "    # for step in range(len(r)):\n",
    "    #     solH = index_update(solH,\n",
    "    #                         index[step],\n",
    "    #                         multi_dot([sx, H2, sol[step], H2, sx]))\n",
    "\n",
    "    for step in range(len(r)):\n",
    "        solH = solH.at[step].set(multi_dot([sx, H2, solint[step], H2, sx]))\n",
    "\n",
    "    return solH"
   ]
  },
  {
   "cell_type": "code",
   "execution_count": 60,
   "id": "ad26989a",
   "metadata": {
    "executionInfo": {
     "elapsed": 107,
     "status": "ok",
     "timestamp": 1633430396541,
     "user": {
      "displayName": "Dean Brand",
      "photoUrl": "https://lh3.googleusercontent.com/a/default-user=s64",
      "userId": "08092671779044246052"
     },
     "user_tz": -120
    },
    "id": "ad26989a"
   },
   "outputs": [],
   "source": [
    "# Function for the T2 Echo Solution\n",
    "\n",
    "@jit\n",
    "def func_t2e(r, Wx, Wy, Wz, cg1, cgz, pn):\n",
    "\n",
    "    # W1 = w0 / 1e9\n",
    "    # W2 = w1 / 1e9\n",
    "\n",
    "    def LinEm(x, t, omegax=Wx, omegay=Wy, omegaz=Wz, gamma1=cg1, gammaz=cgz, Np=pn):\n",
    "        x = x.reshape(N, N)\n",
    "        H = omegax/2 * sx + omegay/2 * sy + omegaz/2 * sz\n",
    "        res = -1j*(jnp.dot(H, x) - jnp.dot(x, H))\n",
    "        res += gamma1*(Np + 1)*(multi_dot([sm,x,sp])-0.5*multi_dot([sp,sm,x])-0.5*multi_dot([x,sp,sm]))\n",
    "        res += gamma1*(Np)*(multi_dot([sp, x, sm])-0.5 *\n",
    "                            multi_dot([sm, sp, x])-0.5*multi_dot([x, sm, sp]))\n",
    "        res += gammaz * (multi_dot([sz, x, sz]) - x)\n",
    "        return res.ravel().astype(jnp.complex64)\n",
    "\n",
    "    sol = jnp.zeros((len(r),N,N))\n",
    "\n",
    "    ry = u2gate(0, 0)\n",
    "    \n",
    "    solint1 = jnp.array(odeint(LinEm,\n",
    "                               y0 = multi_dot([ry, inio, dagger(ry)]).ravel(),\n",
    "                               t = r).reshape(len(r), N, N))\n",
    "    \n",
    "    solint2 = jnp.zeros((len(r),N,N))\n",
    "    \n",
    "    for stp in range(len(r)):\n",
    "        # solint2 = index_update(solint2,\n",
    "        #                        index[stp],\n",
    "        #                        jnp.array(odeint(LinEm,\n",
    "        #                                         y0 = multi_dot([sy, solint1[stp], sy]).ravel(),\n",
    "        #                                         t = r)[stp].reshape(N, N)))\n",
    "        solint2 = solint2.at[stp].set(jnp.array(odeint(LinEm,\n",
    "                                                 y0=multi_dot(\n",
    "                                                     [sy, solint1[stp], sy]).ravel(),\n",
    "                                                 t=r)[stp].reshape(N, N)))\n",
    "\n",
    "    for step in range(len(r)):\n",
    "        # sol = index_update(sol,\n",
    "        #                    index[step],\n",
    "        #                    multi_dot([ry, solint2[step], dagger(ry)]))\n",
    "        sol = sol.at[step].set(\n",
    "            multi_dot([ry, solint2[step], dagger(ry)]))\n",
    "\n",
    "    return sol"
   ]
  },
  {
   "cell_type": "markdown",
   "id": "xRr5t-UfzGxz",
   "metadata": {
    "id": "xRr5t-UfzGxz"
   },
   "source": [
    "## Plot the solutions"
   ]
  },
  {
   "cell_type": "code",
   "execution_count": 61,
   "id": "ec1aee0b",
   "metadata": {
    "colab": {
     "base_uri": "https://localhost:8080/",
     "height": 575
    },
    "executionInfo": {
     "elapsed": 4895,
     "status": "ok",
     "timestamp": 1633430401330,
     "user": {
      "displayName": "Dean Brand",
      "photoUrl": "https://lh3.googleusercontent.com/a/default-user=s64",
      "userId": "08092671779044246052"
     },
     "user_tz": -120
    },
    "id": "ec1aee0b",
    "outputId": "331e85bc-b683-407d-a976-6bbd1395f32d"
   },
   "outputs": [
    {
     "data": {
      "image/png": "[encoded data removed]",
      "text/plain": [
       "<Figure size 864x648 with 1 Axes>"
      ]
     },
     "metadata": {},
     "output_type": "display_data"
    }
   ],
   "source": [
    "# T1 Solution\n",
    "\n",
    "%matplotlib inline\n",
    "plt.style.use('seaborn')\n",
    "fig, ax = plt.subplots(figsize=(12, 9))\n",
    "\n",
    "T1Sols = func_t1(xd, *prms_t1)\n",
    "\n",
    "plt.scatter(time, T1Sols[:, 0, 0], label = r'$\\rho_{11}$', color = plasma[0])\n",
    "plt.scatter(time, T1Sols[:, 1, 1], label = r'$\\rho_{22}$', color = plasma[1])\n",
    "\n",
    "plt.title('Time dependence of the elements of the '+r'$\\hat{\\rho}$'+' ODEINT method')\n",
    "plt.xlabel('$t$ ($\\mu$s)')\n",
    "plt.ylabel('State Population')\n",
    "plt.ylim(-0.1, 1.05)\n",
    "plt.legend(loc = \"best\",numpoints=1,frameon=True)\n",
    "\n",
    "plt.show()"
   ]
  },
  {
   "cell_type": "code",
   "execution_count": 62,
   "id": "276ce9ca",
   "metadata": {
    "colab": {
     "base_uri": "https://localhost:8080/",
     "height": 575
    },
    "executionInfo": {
     "elapsed": 11152,
     "status": "ok",
     "timestamp": 1633430412468,
     "user": {
      "displayName": "Dean Brand",
      "photoUrl": "https://lh3.googleusercontent.com/a/default-user=s64",
      "userId": "08092671779044246052"
     },
     "user_tz": -120
    },
    "id": "276ce9ca",
    "outputId": "8d2955c9-0972-4403-cf1a-1ba722ddd394"
   },
   "outputs": [
    {
     "data": {
      "image/png": "[encoded data removed]",
      "text/plain": [
       "<Figure size 864x648 with 1 Axes>"
      ]
     },
     "metadata": {},
     "output_type": "display_data"
    }
   ],
   "source": [
    "# T2 Star Solution\n",
    "\n",
    "%matplotlib inline\n",
    "plt.style.use('seaborn')\n",
    "fig, ax = plt.subplots(figsize=(12, 9))\n",
    "\n",
    "T2sSols = func_t2s(xd, *prms_t2s)\n",
    "\n",
    "plt.plot(time, T2sSols[:, 0, 0], label = r'$\\rho_{11}$', color = plasma[0])\n",
    "plt.plot(time, T2sSols[:, 1, 1], label = r'$\\rho_{22}$', color = plasma[1])\n",
    "\n",
    "plt.title(r'$T_2^*$' + ' of the elements of '+r'$\\hat{\\rho}$'+' using the ODEINT method')\n",
    "plt.xlabel('$t$ ($\\mu$s)')\n",
    "plt.ylabel('State Population')\n",
    "# plt.ylim(-0.1, 1.05)\n",
    "plt.legend(loc = \"best\",numpoints=1,frameon=True)\n",
    "\n",
    "plt.show()"
   ]
  },
  {
   "cell_type": "code",
   "execution_count": 63,
   "id": "5a3fed00",
   "metadata": {
    "colab": {
     "base_uri": "https://localhost:8080/",
     "height": 575
    },
    "executionInfo": {
     "elapsed": 240519,
     "status": "ok",
     "timestamp": 1633430652960,
     "user": {
      "displayName": "Dean Brand",
      "photoUrl": "https://lh3.googleusercontent.com/a/default-user=s64",
      "userId": "08092671779044246052"
     },
     "user_tz": -120
    },
    "id": "5a3fed00",
    "outputId": "77fc734f-1046-412a-8f9a-cc3d792cd7bf"
   },
   "outputs": [
    {
     "data": {
      "image/png": "[encoded data removed]",
      "text/plain": [
       "<Figure size 864x648 with 1 Axes>"
      ]
     },
     "metadata": {},
     "output_type": "display_data"
    }
   ],
   "source": [
    "# T2 Echo Solution\n",
    "\n",
    "%matplotlib inline\n",
    "plt.style.use('seaborn')\n",
    "fig, ax = plt.subplots(figsize=(12, 9))\n",
    "\n",
    "# prmsl_hc = jnp.array([g1l[0] * 1e6, g1l[1] * 1e6, j01 * 1e4, n1, n2]) / 1e9\n",
    "\n",
    "T2eSols = func_t2e(xd * 1.3, *prms_t1)\n",
    "\n",
    "plt.plot(time * 2, T2eSols[:, 0, 0], label = r'$\\rho_{11}$', color = plasma[0])\n",
    "plt.plot(time * 2, T2eSols[:, 1, 1], label = r'$\\rho_{22}$', color = plasma[1])\n",
    "\n",
    "plt.title(r'$T_2$' + ' Echo of the elements of '+r'$\\hat{\\rho}$'+' using the ODEINT method')\n",
    "plt.xlabel('$t$ ($\\mu$s)')\n",
    "plt.ylabel('State Population')\n",
    "plt.ylim(-0.1, 1.05)\n",
    "plt.legend(loc = \"best\",numpoints=1,frameon=True)\n",
    "\n",
    "plt.show()"
   ]
  },
  {
   "cell_type": "markdown",
   "id": "962d1c0b",
   "metadata": {
    "id": "962d1c0b"
   },
   "source": [
    "## Compare the device parameters to the experimental results"
   ]
  },
  {
   "cell_type": "code",
   "execution_count": 64,
   "id": "39a78a93",
   "metadata": {
    "colab": {
     "base_uri": "https://localhost:8080/",
     "height": 572
    },
    "executionInfo": {
     "elapsed": 152,
     "status": "ok",
     "timestamp": 1633430653020,
     "user": {
      "displayName": "Dean Brand",
      "photoUrl": "https://lh3.googleusercontent.com/a/default-user=s64",
      "userId": "08092671779044246052"
     },
     "user_tz": -120
    },
    "id": "39a78a93",
    "outputId": "00428d36-77dc-4abf-d4f5-8c1abe3be82d"
   },
   "outputs": [
    {
     "data": {
      "image/png": "[encoded data removed]",
      "text/plain": [
       "<Figure size 864x648 with 1 Axes>"
      ]
     },
     "metadata": {},
     "output_type": "display_data"
    }
   ],
   "source": [
    "# T1 Solution and Experiments\n",
    "\n",
    "%matplotlib inline\n",
    "plt.style.use('seaborn')\n",
    "# matplotlib.rcParams.update({'font.size': 16,'font.family':'serif'})\n",
    "fig, ax = plt.subplots(figsize=(12, 9))\n",
    "\n",
    "plt.errorbar(time, t1mit_lst1, label = \"1\", marker='.', markersize=10, linestyle='', c = cool[0])\n",
    "plt.errorbar(time, t1mit_lst0, label = \"0\", marker='.', markersize=10, linestyle='', c = cool[1])\n",
    "\n",
    "plt.plot(time, T1Sols[:, 0, 0], label = r'$\\rho_{11}$', color = cool[0])\n",
    "plt.plot(time, T1Sols[:, 1, 1], label = r'$\\rho_{22}$', color = cool[1])\n",
    "\n",
    "plt.title(f'$T1$ Decay of Qubit {qubits[0]}')\n",
    "plt.xlabel('$t$ ($\\mu$s)')\n",
    "plt.ylabel('State Population')\n",
    "plt.ylim(-0.05, 1.05)\n",
    "plt.legend(loc = \"best\",numpoints=1,frameon=True)\n",
    "\n",
    "plt.show()"
   ]
  },
  {
   "cell_type": "code",
   "execution_count": 65,
   "id": "Bp6Vno84zjzh",
   "metadata": {
    "colab": {
     "base_uri": "https://localhost:8080/",
     "height": 572
    },
    "executionInfo": {
     "elapsed": 147,
     "status": "ok",
     "timestamp": 1633430653023,
     "user": {
      "displayName": "Dean Brand",
      "photoUrl": "https://lh3.googleusercontent.com/a/default-user=s64",
      "userId": "08092671779044246052"
     },
     "user_tz": -120
    },
    "id": "Bp6Vno84zjzh",
    "outputId": "acbc46e5-7dad-47aa-e571-3e7968a5583d"
   },
   "outputs": [
    {
     "data": {
      "image/png": "[encoded data removed]",
      "text/plain": [
       "<Figure size 864x648 with 1 Axes>"
      ]
     },
     "metadata": {},
     "output_type": "display_data"
    }
   ],
   "source": [
    "# T2 Star Solution and Experiments\n",
    "\n",
    "%matplotlib inline\n",
    "plt.style.use('seaborn')\n",
    "# matplotlib.rcParams.update({'font.size': 16,'font.family':'serif'})\n",
    "fig, ax = plt.subplots(figsize=(12, 9))\n",
    "\n",
    "plt.errorbar(time, t2smit_lst1, label = \"1\", marker='.', markersize=10, c = cool[0])\n",
    "plt.errorbar(time, t2smit_lst0, label = \"0\", marker='.', markersize=10, c = cool[1])\n",
    "\n",
    "plt.plot(time, T2sSols[:, 0, 0], label = r'$\\rho_{11}$', color = plasma[0])\n",
    "plt.plot(time, T2sSols[:, 1, 1], label = r'$\\rho_{22}$', color = plasma[1])\n",
    "\n",
    "plt.title(f'$T2^*$ Decay of Qubit {qubits[0]}')\n",
    "plt.xlabel('$t$ ($\\mu$s)')\n",
    "plt.ylabel('State Population')\n",
    "plt.ylim(-0.05, 1.05)\n",
    "plt.legend(loc = \"best\",numpoints=1,frameon=True)\n",
    "\n",
    "plt.show()"
   ]
  },
  {
   "cell_type": "code",
   "execution_count": 66,
   "id": "FJHQ0TD_F4p8",
   "metadata": {
    "colab": {
     "base_uri": "https://localhost:8080/",
     "height": 575
    },
    "executionInfo": {
     "elapsed": 145,
     "status": "ok",
     "timestamp": 1633430653026,
     "user": {
      "displayName": "Dean Brand",
      "photoUrl": "https://lh3.googleusercontent.com/a/default-user=s64",
      "userId": "08092671779044246052"
     },
     "user_tz": -120
    },
    "id": "FJHQ0TD_F4p8",
    "outputId": "7aaddbdb-69ee-470d-978d-4c84e79139fb"
   },
   "outputs": [
    {
     "data": {
      "image/png": "[encoded data removed]",
      "text/plain": [
       "<Figure size 864x648 with 1 Axes>"
      ]
     },
     "metadata": {},
     "output_type": "display_data"
    }
   ],
   "source": [
    "# T2 Echo Solution and Experiments\n",
    "\n",
    "%matplotlib inline\n",
    "plt.style.use('seaborn')\n",
    "# matplotlib.rcParams.update({'font.size': 16,'font.family':'serif'})\n",
    "fig, ax = plt.subplots(figsize=(12, 9))\n",
    "\n",
    "plt.plot(time * 2, T2eSols[:, 0, 0], label = r'$\\rho_{11}$', marker='*', color = plasma[0])\n",
    "plt.plot(time * 2, T2eSols[:, 1, 1], label = r'$\\rho_{22}$', marker='*', color = plasma[1])\n",
    "\n",
    "plt.plot(time * 2, t2emit_lst0, label = \"0\", marker='.', linestyle = '', markersize=10, c = cool[0])\n",
    "plt.plot(time * 2, t2emit_lst1, label = \"1\", marker='.', linestyle = '', markersize=10, c = cool[1])\n",
    "\n",
    "plt.title(f'$T2$ Echo Decay of Qubit {qubits[0]}')\n",
    "plt.xlabel('$t$ ($\\mu$s)')\n",
    "plt.ylabel('State Population')\n",
    "# plt.ylim(-0.1, 1.05)\n",
    "plt.legend(loc = \"best\",numpoints=1,frameon=True)\n",
    "\n",
    "plt.show()"
   ]
  },
  {
   "cell_type": "code",
   "execution_count": 67,
   "id": "jATkB6CfHDDf",
   "metadata": {
    "colab": {
     "base_uri": "https://localhost:8080/",
     "height": 38
    },
    "executionInfo": {
     "elapsed": 144,
     "status": "ok",
     "timestamp": 1633430653029,
     "user": {
      "displayName": "Dean Brand",
      "photoUrl": "https://lh3.googleusercontent.com/a/default-user=s64",
      "userId": "08092671779044246052"
     },
     "user_tz": -120
    },
    "id": "jATkB6CfHDDf",
    "outputId": "dd440a72-f63a-47d7-e13e-71ab80293a64"
   },
   "outputs": [
    {
     "data": {
      "text/latex": [
       "$[84,~85.2,~86.4,~87.6,~88.8] \\; \\mathrm{\\mu s}$"
      ],
      "text/plain": [
       "<Quantity [84. , 85.2, 86.4, 87.6, 88.8] us>"
      ]
     },
     "execution_count": 67,
     "metadata": {},
     "output_type": "execute_result"
    }
   ],
   "source": [
    "((xd)[-5:] * unts.ms).to(unts.us) * 0.3"
   ]
  },
  {
   "cell_type": "markdown",
   "id": "4c95a94f",
   "metadata": {
    "id": "4c95a94f"
   },
   "source": [
    "## Data Optimisation"
   ]
  },
  {
   "cell_type": "code",
   "execution_count": 68,
   "id": "6b476bd7",
   "metadata": {
    "executionInfo": {
     "elapsed": 142,
     "status": "ok",
     "timestamp": 1633430653031,
     "user": {
      "displayName": "Dean Brand",
      "photoUrl": "https://lh3.googleusercontent.com/a/default-user=s64",
      "userId": "08092671779044246052"
     },
     "user_tz": -120
    },
    "id": "6b476bd7"
   },
   "outputs": [],
   "source": [
    "# Least Squares Function\n",
    "\n",
    "def mse(observations, estimates):\n",
    "    '''\n",
    "    INPUT:\n",
    "        observations - numpy array of values indicating observed values\n",
    "        estimates - numpy array of values indicating an estimate of values\n",
    "    OUTPUT:\n",
    "        Mean Square Error value\n",
    "    '''\n",
    "    \n",
    "    obav = []\n",
    "    diff = []\n",
    "    var = []\n",
    "    dlen = len(time)\n",
    "    \n",
    "    for i in range(N):\n",
    "        obav.append(sum(observations[i])/dlen)\n",
    "    \n",
    "    for d in range(N):\n",
    "        diff.append(jnp.abs(observations[d] - estimates[d]))\n",
    "    \n",
    "    for a in range(N):\n",
    "        var.append(jnp.abs(observations[a] - obav[a]))\n",
    "    \n",
    "    sq_diff = sum(diff) ** 2\n",
    "    mse = sum(sq_diff)\n",
    "    vari = sum(sum(var) ** 2)\n",
    "    r2 = (1 - (mse/vari)) * 100\n",
    "    \n",
    "    return mse"
   ]
  },
  {
   "cell_type": "code",
   "execution_count": 69,
   "id": "A8GKU2c6ExOv",
   "metadata": {
    "executionInfo": {
     "elapsed": 143,
     "status": "ok",
     "timestamp": 1633430653032,
     "user": {
      "displayName": "Dean Brand",
      "photoUrl": "https://lh3.googleusercontent.com/a/default-user=s64",
      "userId": "08092671779044246052"
     },
     "user_tz": -120
    },
    "id": "A8GKU2c6ExOv"
   },
   "outputs": [],
   "source": [
    "def reg(observations, estimates):\n",
    "    obav = []\n",
    "    diff = []\n",
    "    var = []\n",
    "    dlen = len(time)\n",
    "    \n",
    "    for i in range(N):\n",
    "        obav.append(sum(observations[i])/dlen)\n",
    "    \n",
    "    for d in range(N):\n",
    "        diff.append(jnp.abs(observations[d] - estimates[d]))\n",
    "    \n",
    "    for a in range(N):\n",
    "        var.append(jnp.abs(observations[a] - obav[a]))\n",
    "    \n",
    "    sq_diff = sum(diff) ** 2\n",
    "    mse = sum(sq_diff)\n",
    "    vari = sum(sum(var) ** 2)\n",
    "    r2 = (1 - (mse/vari)) * 100\n",
    "    \n",
    "    return r2"
   ]
  },
  {
   "cell_type": "code",
   "execution_count": 70,
   "id": "cf3fd164",
   "metadata": {
    "executionInfo": {
     "elapsed": 143,
     "status": "ok",
     "timestamp": 1633430653034,
     "user": {
      "displayName": "Dean Brand",
      "photoUrl": "https://lh3.googleusercontent.com/a/default-user=s64",
      "userId": "08092671779044246052"
     },
     "user_tz": -120
    },
    "id": "cf3fd164"
   },
   "outputs": [],
   "source": [
    "# Minimise the LstSqrs Function\n",
    "\n",
    "def minmse(y):\n",
    "    Y = y[0]\n",
    "    \n",
    "    rhot1 = func_t1(xd, *Y)\n",
    "    \n",
    "    t1data = jnp.array(t1mit_lst1, dtype=jnp.float64)\n",
    "    t2data = jnp.array(t1mit_lst0, dtype=jnp.float64)\n",
    "    tdata = [t1data, t2data]\n",
    "    \n",
    "    tst1 = rhot1[:, 0, 0]\n",
    "    tst2 = rhot1[:, 1, 1]\n",
    "    tstd = [tst1, tst2]\n",
    "    \n",
    "    return mse(tdata, tstd)"
   ]
  },
  {
   "cell_type": "code",
   "execution_count": 71,
   "id": "f7dd82f0-e372-4985-812d-528f9dff14c1",
   "metadata": {
    "colab": {
     "base_uri": "https://localhost:8080/"
    },
    "executionInfo": {
     "elapsed": 1282,
     "status": "ok",
     "timestamp": 1633430654174,
     "user": {
      "displayName": "Dean Brand",
      "photoUrl": "https://lh3.googleusercontent.com/a/default-user=s64",
      "userId": "08092671779044246052"
     },
     "user_tz": -120
    },
    "id": "f7dd82f0-e372-4985-812d-528f9dff14c1",
    "outputId": "b6119d31-5af5-4a27-d81a-51ef5db44abc"
   },
   "outputs": [
    {
     "data": {
      "text/plain": [
       "DeviceArray(10.91713, dtype=float32)"
      ]
     },
     "execution_count": 71,
     "metadata": {},
     "output_type": "execute_result"
    }
   ],
   "source": [
    "minmse(jnp.array([prms_t1]))"
   ]
  },
  {
   "cell_type": "code",
   "execution_count": 72,
   "id": "8bb9157a",
   "metadata": {
    "executionInfo": {
     "elapsed": 27,
     "status": "ok",
     "timestamp": 1633430654175,
     "user": {
      "displayName": "Dean Brand",
      "photoUrl": "https://lh3.googleusercontent.com/a/default-user=s64",
      "userId": "08092671779044246052"
     },
     "user_tz": -120
    },
    "id": "8bb9157a"
   },
   "outputs": [],
   "source": [
    "# Define an adam gradient descent optimiser\n",
    "\n",
    "minfunc = vmap(minmse)\n",
    "\n",
    "scorelst = []\n",
    "tlst = []\n",
    "\n",
    "# bounds = jnp.array([w0, w1, g1l[0], g1l[1], j01, n1, n2], dtype = jnp.float32)\n",
    "\n",
    "def adam_jack(bound, n_iter, alpha, beta1, beta2, eps=1e-8):\n",
    "  x = bound\n",
    "  first = x\n",
    "  best = x\n",
    "  worst = x\n",
    "  score = minfunc(jnp.array([[x]]))\n",
    "  # score = minmse(jnp.array([x]))\n",
    "  scbest = score\n",
    "  print('f(%s) = %f' % (x, score))\n",
    "  \n",
    "  J = jacrev(minmse)\n",
    "  \n",
    "  m = jnp.zeros(len(prms_t1))\n",
    "  v = jnp.zeros(len(prms_t1))\n",
    "  \n",
    "  for t in range(n_iter + 1):\n",
    "      # calculate gradient g(t)\n",
    "      g = J([x])[0]\n",
    "      \n",
    "      m = beta1 * m + (1.0 - beta1) * g\n",
    "      v = beta2 * v + (1.0 - beta2) * g**2\n",
    "      \n",
    "      mhat = m / (1.0 - beta1**(t+1))\n",
    "      vhat = v / (1.0 - beta2**(t+1))\n",
    "      \n",
    "      x = x - alpha * mhat / (sqrt(vhat) + eps)\n",
    "      \n",
    "      for i in range(len(x)):\n",
    "          if x[i] < 0:\n",
    "            #   x = index_update(x, index[i], bound[i])\n",
    "            # x[i] = bound[i]\n",
    "            x = x.at[i].set(bound[i])\n",
    "      \n",
    "      if scbest > minmse(jnp.array([x])):\n",
    "          best = x\n",
    "          scbest = minmse(jnp.array([best]))\n",
    "      \n",
    "      # evaluate candidate point\n",
    "      score = minfunc(jnp.array([[x]]))\n",
    "      # score = minmse(jnp.array([x]))\n",
    "      scorelst.append(score)\n",
    "      tlst.append(t)\n",
    "      print('>%d => %f' % (t, score))\n",
    "  return [best, scbest]"
   ]
  },
  {
   "cell_type": "code",
   "execution_count": 73,
   "id": "4fefe3ef-474d-47b7-acfa-585c97906402",
   "metadata": {
    "executionInfo": {
     "elapsed": 27,
     "status": "ok",
     "timestamp": 1633430654176,
     "user": {
      "displayName": "Dean Brand",
      "photoUrl": "https://lh3.googleusercontent.com/a/default-user=s64",
      "userId": "08092671779044246052"
     },
     "user_tz": -120
    },
    "id": "4fefe3ef-474d-47b7-acfa-585c97906402"
   },
   "outputs": [],
   "source": [
    "# bnds = prms_t1\n",
    "bnds = jnp.array([0, 0, w0, g1l[0] * 1e6, g1l[1] * 1e6, n1]) / 1e9\n",
    "# bnds = prmsl_hc"
   ]
  },
  {
   "cell_type": "code",
   "execution_count": 74,
   "id": "569ec44c",
   "metadata": {
    "colab": {
     "base_uri": "https://localhost:8080/"
    },
    "executionInfo": {
     "elapsed": 105359,
     "status": "ok",
     "timestamp": 1633430759510,
     "user": {
      "displayName": "Dean Brand",
      "photoUrl": "https://lh3.googleusercontent.com/a/default-user=s64",
      "userId": "08092671779044246052"
     },
     "user_tz": -120
    },
    "id": "569ec44c",
    "outputId": "823e5e39-b848-48be-99c6-8c45ae9b07fd",
    "scrolled": true
   },
   "outputs": [
    {
     "name": "stdout",
     "output_type": "stream",
     "text": [
      "f([0.0000000e+00 0.0000000e+00 3.0286737e+01 3.5453693e+01 7.5165200e+00\n",
      " 2.0049516e-16]) = 24.290545\n",
      ">0 => 11.289156\n",
      ">1 => 13.135298\n",
      ">2 => 14.184821\n",
      ">3 => 14.818696\n",
      ">4 => 15.225926\n",
      ">5 => 15.495909\n",
      ">6 => 15.675673\n",
      ">7 => 15.792243\n",
      ">8 => 15.862222\n",
      ">9 => 15.896273\n",
      ">10 => 15.901549\n",
      ">11 => 15.882851\n",
      ">12 => 15.843496\n",
      ">13 => 15.785671\n",
      ">14 => 15.710724\n",
      ">15 => 15.619349\n",
      ">16 => 15.511721\n",
      ">17 => 15.387424\n",
      ">18 => 15.245615\n",
      ">19 => 15.084875\n",
      ">20 => 14.903214\n",
      ">21 => 14.697992\n",
      ">22 => 14.465657\n",
      ">23 => 14.201627\n",
      ">24 => 13.899872\n",
      ">25 => 13.552476\n",
      ">26 => 13.148853\n",
      ">27 => 12.674721\n",
      ">28 => 12.110347\n",
      ">29 => 11.427982\n",
      ">30 => 10.587802\n",
      ">31 => 9.531630\n",
      ">32 => 8.174648\n",
      ">33 => 6.400912\n",
      ">34 => 4.105634\n",
      ">35 => 1.504935\n",
      ">36 => 0.103692\n",
      ">37 => 0.482146\n",
      ">38 => 0.750069\n",
      ">39 => 0.308136\n",
      ">40 => 0.162251\n",
      ">41 => 0.308241\n",
      ">42 => 0.249588\n",
      ">43 => 0.146054\n",
      ">44 => 0.166854\n",
      ">45 => 0.176616\n",
      ">46 => 0.130421\n",
      ">47 => 0.083649\n",
      ">48 => 0.091109\n",
      ">49 => 0.121885\n",
      ">50 => 0.103611\n",
      ">51 => 0.068197\n",
      ">52 => 0.070204\n",
      ">53 => 0.086065\n",
      ">54 => 0.083264\n",
      ">55 => 0.069929\n",
      ">56 => 0.067362\n",
      ">57 => 0.071671\n",
      ">58 => 0.069903\n",
      ">59 => 0.066978\n",
      ">60 => 0.067710\n",
      ">61 => 0.067642\n",
      ">62 => 0.065572\n",
      ">63 => 0.065083\n",
      ">64 => 0.066334\n",
      ">65 => 0.066087\n",
      ">66 => 0.064668\n",
      ">67 => 0.064567\n",
      ">68 => 0.065237\n",
      ">69 => 0.065071\n",
      ">70 => 0.064549\n",
      ">71 => 0.064567\n",
      ">72 => 0.064703\n",
      ">73 => 0.064574\n",
      ">74 => 0.064508\n",
      ">75 => 0.064553\n",
      ">76 => 0.064493\n",
      ">77 => 0.064424\n",
      ">78 => 0.064469\n",
      ">79 => 0.064488\n",
      ">80 => 0.064425\n",
      ">81 => 0.064405\n",
      ">82 => 0.064438\n",
      ">83 => 0.064433\n",
      ">84 => 0.064409\n",
      ">85 => 0.064410\n",
      ">86 => 0.064416\n",
      ">87 => 0.064409\n",
      ">88 => 0.064407\n",
      ">89 => 0.064409\n",
      ">90 => 0.064405\n",
      ">91 => 0.064403\n",
      ">92 => 0.064406\n",
      ">93 => 0.064405\n",
      ">94 => 0.064402\n",
      ">95 => 0.064403\n",
      ">96 => 0.064404\n",
      ">97 => 0.064403\n",
      ">98 => 0.064402\n",
      ">99 => 0.064402\n",
      ">100 => 0.064402\n",
      ">101 => 0.064402\n",
      ">102 => 0.064402\n",
      ">103 => 0.064402\n",
      ">104 => 0.064402\n",
      ">105 => 0.064402\n",
      ">106 => 0.064401\n",
      ">107 => 0.064402\n",
      ">108 => 0.064401\n",
      ">109 => 0.064402\n",
      ">110 => 0.064402\n",
      ">111 => 0.064402\n",
      ">112 => 0.064402\n",
      ">113 => 0.064401\n",
      ">114 => 0.064401\n",
      ">115 => 0.064402\n",
      ">116 => 0.064402\n",
      ">117 => 0.064402\n",
      ">118 => 0.064402\n",
      ">119 => 0.064402\n",
      ">120 => 0.064402\n",
      ">121 => 0.064403\n",
      ">122 => 0.064402\n",
      ">123 => 0.064402\n",
      ">124 => 0.064402\n",
      ">125 => 0.064402\n",
      ">126 => 0.064402\n",
      ">127 => 0.064402\n",
      ">128 => 0.064402\n",
      ">129 => 0.064402\n",
      ">130 => 0.064402\n",
      ">131 => 0.064402\n",
      ">132 => 0.064402\n",
      ">133 => 0.064402\n",
      ">134 => 0.064402\n",
      ">135 => 0.064402\n",
      ">136 => 0.064402\n",
      ">137 => 0.064402\n",
      ">138 => 0.064402\n",
      ">139 => 0.064402\n",
      ">140 => 0.064402\n",
      ">141 => 0.064402\n",
      ">142 => 0.064402\n",
      ">143 => 0.064402\n",
      ">144 => 0.064401\n",
      ">145 => 0.064402\n",
      ">146 => 0.064402\n",
      ">147 => 0.064402\n",
      ">148 => 0.064402\n",
      ">149 => 0.064402\n",
      ">150 => 0.064402\n",
      ">151 => 0.064402\n",
      ">152 => 0.064402\n",
      ">153 => 0.064402\n",
      ">154 => 0.064402\n",
      ">155 => 0.064401\n",
      ">156 => 0.064401\n",
      ">157 => 0.064402\n",
      ">158 => 0.064401\n",
      ">159 => 0.064402\n",
      ">160 => 0.064402\n",
      ">161 => 0.064402\n",
      ">162 => 0.064402\n",
      ">163 => 0.064402\n",
      ">164 => 0.064402\n",
      ">165 => 0.064401\n",
      ">166 => 0.064402\n",
      ">167 => 0.064402\n",
      ">168 => 0.064402\n",
      ">169 => 0.064402\n",
      ">170 => 0.064401\n",
      ">171 => 0.064401\n",
      ">172 => 0.064402\n",
      ">173 => 0.064401\n",
      ">174 => 0.064402\n",
      ">175 => 0.064402\n",
      ">176 => 0.064402\n",
      ">177 => 0.064401\n",
      ">178 => 0.064402\n",
      ">179 => 0.064401\n",
      ">180 => 0.064402\n",
      ">181 => 0.064401\n",
      ">182 => 0.064402\n",
      ">183 => 0.064402\n",
      ">184 => 0.064401\n",
      ">185 => 0.064402\n",
      ">186 => 0.064402\n",
      ">187 => 0.064402\n",
      ">188 => 0.064401\n",
      ">189 => 0.064402\n",
      ">190 => 0.064401\n",
      ">191 => 0.064402\n",
      ">192 => 0.064402\n",
      ">193 => 0.064402\n",
      ">194 => 0.064401\n",
      ">195 => 0.064402\n",
      ">196 => 0.064402\n",
      ">197 => 0.064402\n",
      ">198 => 0.064402\n",
      ">199 => 0.064402\n",
      ">200 => 0.064402\n",
      "Done!\n",
      "f([ 0.          0.         30.286737    8.893611    7.51652     0.07309552]) = 0.064401\n"
     ]
    }
   ],
   "source": [
    "# Run the gradient descent algorithm\n",
    "\n",
    "# define the total iterations\n",
    "n_iter = 200\n",
    "# steps size\n",
    "alpha = 1\n",
    "# factor for average gradient\n",
    "beta1 = 0.8\n",
    "# factor for average squared gradient\n",
    "beta2 = 0.999\n",
    "# perform the gradient descent search with adam\n",
    "best, score = adam_jack(bnds, n_iter, alpha, beta1, beta2)\n",
    "print('Done!')\n",
    "print('f(%s) = %f' % (best, score))"
   ]
  },
  {
   "cell_type": "code",
   "execution_count": 75,
   "id": "NA4qdrGWGMOT",
   "metadata": {
    "colab": {
     "base_uri": "https://localhost:8080/",
     "height": 568
    },
    "executionInfo": {
     "elapsed": 66,
     "status": "ok",
     "timestamp": 1633430759527,
     "user": {
      "displayName": "Dean Brand",
      "photoUrl": "https://lh3.googleusercontent.com/a/default-user=s64",
      "userId": "08092671779044246052"
     },
     "user_tz": -120
    },
    "id": "NA4qdrGWGMOT",
    "outputId": "f46c67f9-19a6-4334-9b7e-317a9de5b2e0"
   },
   "outputs": [
    {
     "data": {
      "image/png": "[encoded data removed]",
      "text/plain": [
       "<Figure size 864x648 with 1 Axes>"
      ]
     },
     "metadata": {},
     "output_type": "display_data"
    }
   ],
   "source": [
    "%matplotlib inline\n",
    "plt.style.use('seaborn')\n",
    "fig, ax = plt.subplots(figsize=(12, 9))\n",
    "\n",
    "plt.plot(tlst, scorelst, label = 'Least Squares Error', color = cool[1])\n",
    "\n",
    "plt.title('Optimisation of $T1$ Parameters for ' + r'$\\alpha$' + ' = ' + str(alpha))\n",
    "plt.xlabel('Iterations')\n",
    "plt.ylabel('Error')\n",
    "plt.legend(loc = \"best\",numpoints=1,frameon=True)\n",
    "\n",
    "plt.show()"
   ]
  },
  {
   "cell_type": "markdown",
   "id": "bfede560",
   "metadata": {
    "id": "bfede560"
   },
   "source": [
    "## Plot the fitted results"
   ]
  },
  {
   "cell_type": "code",
   "execution_count": 76,
   "id": "cf910ff3-d2f1-46d3-9582-8a7945d610de",
   "metadata": {
    "executionInfo": {
     "elapsed": 63,
     "status": "ok",
     "timestamp": 1633430759529,
     "user": {
      "displayName": "Dean Brand",
      "photoUrl": "https://lh3.googleusercontent.com/a/default-user=s64",
      "userId": "08092671779044246052"
     },
     "user_tz": -120
    },
    "id": "cf910ff3-d2f1-46d3-9582-8a7945d610de"
   },
   "outputs": [],
   "source": [
    "t1_best = func_t1(xd, *best)"
   ]
  },
  {
   "cell_type": "code",
   "execution_count": 77,
   "id": "Za40OnU3FCaX",
   "metadata": {
    "colab": {
     "base_uri": "https://localhost:8080/"
    },
    "executionInfo": {
     "elapsed": 62,
     "status": "ok",
     "timestamp": 1633430759531,
     "user": {
      "displayName": "Dean Brand",
      "photoUrl": "https://lh3.googleusercontent.com/a/default-user=s64",
      "userId": "08092671779044246052"
     },
     "user_tz": -120
    },
    "id": "Za40OnU3FCaX",
    "outputId": "053d9ed8-f118-40c9-a5fc-65356cd33bb1"
   },
   "outputs": [
    {
     "data": {
      "text/plain": [
       "DeviceArray(99.619995, dtype=float32)"
      ]
     },
     "execution_count": 77,
     "metadata": {},
     "output_type": "execute_result"
    }
   ],
   "source": [
    "#R2 Regression\n",
    "\n",
    "np.round(reg([jnp.array(t1mit_lst1, dtype=jnp.float64), jnp.array(t1mit_lst0, dtype=jnp.float64)],\n",
    "    [t1_best[:, 0, 0], t1_best[:, 1, 1]]), 2)"
   ]
  },
  {
   "cell_type": "code",
   "execution_count": 78,
   "id": "6a8a5afa",
   "metadata": {
    "colab": {
     "base_uri": "https://localhost:8080/",
     "height": 572
    },
    "executionInfo": {
     "elapsed": 5101,
     "status": "ok",
     "timestamp": 1633430764578,
     "user": {
      "displayName": "Dean Brand",
      "photoUrl": "https://lh3.googleusercontent.com/a/default-user=s64",
      "userId": "08092671779044246052"
     },
     "user_tz": -120
    },
    "id": "6a8a5afa",
    "outputId": "bd19a34e-97e2-4672-f2dd-427eaa8c34df"
   },
   "outputs": [
    {
     "data": {
      "image/png": "[encoded data removed]",
      "text/plain": [
       "<Figure size 864x648 with 1 Axes>"
      ]
     },
     "metadata": {},
     "output_type": "display_data"
    }
   ],
   "source": [
    "%matplotlib inline\n",
    "plt.style.use('seaborn')\n",
    "# matplotlib.rcParams.update({'font.size': 16,'font.family':'serif'})\n",
    "fig, ax = plt.subplots(figsize=(12, 9))\n",
    "\n",
    "plt.plot(time, t1_best[:, 0, 0], label = 'Best 1', color = cool[0])\n",
    "plt.plot(time, t1_best[:, 1, 1], label = 'Best 0', color = cool[1])\n",
    "plt.plot(time, t1mit_lst1, label = '1', marker='.', markersize=10, linestyle='', color = cool[0])\n",
    "plt.plot(time, t1mit_lst0, label = '0', marker='.', markersize=10, linestyle='', color = cool[1])\n",
    "\n",
    "plt.title('$T1$ Decay of Qubit 1')\n",
    "plt.xlabel('$t$ ($\\mu$s)')\n",
    "plt.ylabel('Excited State Population')\n",
    "plt.ylim(-0.05, 1.05)\n",
    "plt.legend(loc = \"best\",numpoints=1,frameon=True)\n",
    "\n",
    "plt.show()"
   ]
  },
  {
   "cell_type": "code",
   "execution_count": 79,
   "id": "fg06OyDXsLLi",
   "metadata": {
    "colab": {
     "base_uri": "https://localhost:8080/",
     "height": 572
    },
    "executionInfo": {
     "elapsed": 149,
     "status": "ok",
     "timestamp": 1633430764580,
     "user": {
      "displayName": "Dean Brand",
      "photoUrl": "https://lh3.googleusercontent.com/a/default-user=s64",
      "userId": "08092671779044246052"
     },
     "user_tz": -120
    },
    "id": "fg06OyDXsLLi",
    "outputId": "245f5178-4267-4b19-a969-2ffb2c5536e7"
   },
   "outputs": [
    {
     "data": {
      "image/png": "[encoded data removed]",
      "text/plain": [
       "<Figure size 864x648 with 1 Axes>"
      ]
     },
     "metadata": {},
     "output_type": "display_data"
    }
   ],
   "source": [
    "%matplotlib inline\n",
    "plt.style.use('seaborn')\n",
    "# matplotlib.rcParams.update({'font.size': 16,'font.family':'serif'})\n",
    "fig, ax = plt.subplots(figsize=(12, 9))\n",
    "\n",
    "pideal = jnp.array([0, 0, w0, g1l[0] * 1e6, g1l[1] * 1e6, n1]) / 1e9\n",
    "\n",
    "t1_ideal = func_t1(xd, *pideal)\n",
    "\n",
    "plt.plot(time, t1_ideal[:, 0, 0], label = 'Best 1', color = cool[0])\n",
    "plt.plot(time, t1_ideal[:, 1, 1], label = 'Best 0', color = cool[1])\n",
    "plt.plot(time, t1mit_lst1, label = '1', marker='.', markersize=10, linestyle='', color = cool[0])\n",
    "plt.plot(time, t1mit_lst0, label = '0', marker='.', markersize=10, linestyle='', color = cool[1])\n",
    "\n",
    "plt.title('$T1$ Decay of Qubit 1')\n",
    "plt.xlabel('$t$ ($\\mu$s)')\n",
    "plt.ylabel('Excited State Population')\n",
    "plt.ylim(-0.05, 1.05)\n",
    "plt.legend(loc = \"best\",numpoints=1,frameon=True)\n",
    "\n",
    "plt.show()"
   ]
  },
  {
   "cell_type": "markdown",
   "id": "32cd7d46-b7cc-4055-ad4b-6c921ecdf669",
   "metadata": {
    "id": "32cd7d46-b7cc-4055-ad4b-6c921ecdf669"
   },
   "source": [
    "## Same now for $T_2$ Echo"
   ]
  },
  {
   "cell_type": "code",
   "execution_count": 80,
   "id": "7b55d7ed-6733-46ba-8be3-58d66f0d0817",
   "metadata": {
    "executionInfo": {
     "elapsed": 147,
     "status": "ok",
     "timestamp": 1633430764584,
     "user": {
      "displayName": "Dean Brand",
      "photoUrl": "https://lh3.googleusercontent.com/a/default-user=s64",
      "userId": "08092671779044246052"
     },
     "user_tz": -120
    },
    "id": "7b55d7ed-6733-46ba-8be3-58d66f0d0817"
   },
   "outputs": [],
   "source": [
    "def minmse2(y):\n",
    "    Y = y[0]\n",
    "    \n",
    "    rhot2e = func_t2e(xd, *Y)\n",
    "    \n",
    "    t1data = jnp.array(t2emit_lst0, dtype=jnp.float64)\n",
    "    t2data = jnp.array(t2emit_lst1, dtype=jnp.float64)\n",
    "    tdata = [t1data, t2data]\n",
    "    \n",
    "    tst1 = rhot2e[:, 0, 0]\n",
    "    tst2 = rhot2e[:, 1, 1]\n",
    "    tstd = [tst1, tst2]\n",
    "    \n",
    "    return mse(tdata, tstd)"
   ]
  },
  {
   "cell_type": "code",
   "execution_count": 81,
   "id": "aNaZ7qRrFkKS",
   "metadata": {
    "colab": {
     "base_uri": "https://localhost:8080/"
    },
    "executionInfo": {
     "elapsed": 148,
     "status": "ok",
     "timestamp": 1633430764587,
     "user": {
      "displayName": "Dean Brand",
      "photoUrl": "https://lh3.googleusercontent.com/a/default-user=s64",
      "userId": "08092671779044246052"
     },
     "user_tz": -120
    },
    "id": "aNaZ7qRrFkKS",
    "outputId": "9be2a731-6eed-4f06-c5a8-c0e755b0b70a"
   },
   "outputs": [
    {
     "data": {
      "text/plain": [
       "DeviceArray(23.24324, dtype=float32)"
      ]
     },
     "execution_count": 81,
     "metadata": {},
     "output_type": "execute_result"
    }
   ],
   "source": [
    "minmse2([prms_t1])"
   ]
  },
  {
   "cell_type": "code",
   "execution_count": 82,
   "id": "18b60d2d-394e-4cc6-8c8f-0594b06aef85",
   "metadata": {
    "executionInfo": {
     "elapsed": 96,
     "status": "ok",
     "timestamp": 1633430764589,
     "user": {
      "displayName": "Dean Brand",
      "photoUrl": "https://lh3.googleusercontent.com/a/default-user=s64",
      "userId": "08092671779044246052"
     },
     "user_tz": -120
    },
    "id": "18b60d2d-394e-4cc6-8c8f-0594b06aef85"
   },
   "outputs": [],
   "source": [
    "# Define an adam gradient descent optimiser\n",
    "\n",
    "minfunc = vmap(minmse2)\n",
    "\n",
    "scorelst = []\n",
    "tlst = []\n",
    "\n",
    "# bounds = jnp.array([w0, w1, g2l[0], g2l[1], j01, n1, n2], dtype = jnp.float32)\n",
    "\n",
    "def adam_jack2(bounds, n_iter, alpha, beta1, beta2, eps=1e-8):\n",
    "    x = bounds\n",
    "    first = x\n",
    "    best = x\n",
    "    worst = x\n",
    "    score = minfunc(jnp.array([[x]]))\n",
    "    scbest = score\n",
    "    print('f(%s) = %f' % (x, score))\n",
    "    \n",
    "    J = jacrev(minmse2)\n",
    "  \n",
    "    m = jnp.zeros(len(prms_t1))\n",
    "    v = jnp.zeros(len(prms_t1))\n",
    "    \n",
    "    for t in range(n_iter + 1):\n",
    "        # calculate gradient g(t)\n",
    "        g = J([x])[0]\n",
    "        \n",
    "        m = beta1 * m + (1.0 - beta1) * g\n",
    "        v = beta2 * v + (1.0 - beta2) * g**2\n",
    "        \n",
    "        mhat = m / (1.0 - beta1**(t+1))\n",
    "        vhat = v / (1.0 - beta2**(t+1))\n",
    "        \n",
    "        x = x - alpha * mhat / (sqrt(vhat) + eps)\n",
    "        \n",
    "        for i in range(len(x)):\n",
    "            if x[i] < 0:\n",
    "                # x = index_update(x, index[i], bounds[i])\n",
    "                # x[i] = bounds[i]\n",
    "                x = x.at[i].set(bounds[i])\n",
    "        \n",
    "        if scbest > minmse2(jnp.array([x])):\n",
    "            best = x\n",
    "            scbest = minmse2(jnp.array([best]))\n",
    "        \n",
    "        # evaluate candidate point\n",
    "        score = minfunc(jnp.array([[x]]))\n",
    "        scorelst.append(score)\n",
    "        tlst.append(t)\n",
    "        print('>%d => %f' % (t, score))\n",
    "    return [best, scbest, first]"
   ]
  },
  {
   "cell_type": "code",
   "execution_count": 83,
   "id": "ff617449-a988-4bd3-a944-c24787c8d58d",
   "metadata": {
    "executionInfo": {
     "elapsed": 95,
     "status": "ok",
     "timestamp": 1633430764590,
     "user": {
      "displayName": "Dean Brand",
      "photoUrl": "https://lh3.googleusercontent.com/a/default-user=s64",
      "userId": "08092671779044246052"
     },
     "user_tz": -120
    },
    "id": "ff617449-a988-4bd3-a944-c24787c8d58d"
   },
   "outputs": [],
   "source": [
    "# bnds2 = best2\n",
    "# bnds2 = prmsl_hc\n",
    "bnds2 = jnp.array([0, 0, w0, g1l[0] * 1e6, g1l[1] * 1e6, n1]) / 1e9\n",
    "# bnds2 = jnp.array([g2l[0] * 1e-3, g2l[1] * 1e-3, j01 * 1e-3, N1, N2])"
   ]
  },
  {
   "cell_type": "code",
   "execution_count": 84,
   "id": "71c4fba9-ba57-4595-a362-d0c991c3662d",
   "metadata": {
    "colab": {
     "base_uri": "https://localhost:8080/"
    },
    "executionInfo": {
     "elapsed": 6183260,
     "status": "ok",
     "timestamp": 1633436947756,
     "user": {
      "displayName": "Dean Brand",
      "photoUrl": "https://lh3.googleusercontent.com/a/default-user=s64",
      "userId": "08092671779044246052"
     },
     "user_tz": -120
    },
    "id": "71c4fba9-ba57-4595-a362-d0c991c3662d",
    "outputId": "0dbe5598-9a60-4e08-d59c-5a6008f5b179"
   },
   "outputs": [
    {
     "name": "stdout",
     "output_type": "stream",
     "text": [
      "f([0.0000000e+00 0.0000000e+00 3.0286737e+01 3.5453693e+01 7.5165200e+00\n",
      " 2.0049516e-16]) = 0.916165\n",
      ">0 => 0.885274\n",
      ">1 => 0.855466\n",
      ">2 => 0.826805\n",
      ">3 => 0.799355\n",
      ">4 => 0.773170\n",
      ">5 => 0.748287\n",
      ">6 => 0.724730\n",
      ">7 => 0.702487\n",
      ">8 => 0.681522\n",
      ">9 => 0.661781\n",
      ">10 => 0.643194\n",
      ">11 => 0.625679\n",
      ">12 => 0.609134\n",
      ">13 => 0.593448\n",
      ">14 => 0.578502\n",
      ">15 => 0.564173\n",
      ">16 => 0.550343\n",
      ">17 => 0.536896\n",
      ">18 => 0.523728\n",
      ">19 => 0.510747\n",
      ">20 => 0.497878\n",
      ">21 => 0.485064\n",
      ">22 => 0.472261\n",
      ">23 => 0.459443\n",
      ">24 => 0.446595\n",
      ">25 => 0.433715\n",
      ">26 => 0.420810\n",
      ">27 => 0.407890\n",
      ">28 => 0.394973\n",
      ">29 => 0.382075\n",
      ">30 => 0.369215\n",
      ">31 => 0.356411\n",
      ">32 => 0.343678\n",
      ">33 => 0.331033\n",
      ">34 => 0.318491\n",
      ">35 => 0.306063\n",
      ">36 => 0.293765\n",
      ">37 => 0.281607\n",
      ">38 => 0.269603\n",
      ">39 => 0.257768\n",
      ">40 => 0.246115\n",
      ">41 => 0.234660\n",
      ">42 => 0.223418\n",
      ">43 => 0.212406\n",
      ">44 => 0.201641\n",
      ">45 => 0.191141\n",
      ">46 => 0.180921\n",
      ">47 => 0.171000\n",
      ">48 => 0.161393\n",
      ">49 => 0.152117\n",
      ">50 => 0.143187\n",
      ">51 => 0.134615\n",
      ">52 => 0.126416\n",
      ">53 => 0.118599\n",
      ">54 => 0.111174\n",
      ">55 => 0.104148\n",
      ">56 => 0.097528\n",
      ">57 => 0.091317\n",
      ">58 => 0.085516\n",
      ">59 => 0.080123\n",
      ">60 => 0.075135\n",
      ">61 => 0.070547\n",
      ">62 => 0.066349\n",
      ">63 => 0.062529\n",
      ">64 => 0.059075\n",
      ">65 => 0.055971\n",
      ">66 => 0.053200\n",
      ">67 => 0.050742\n",
      ">68 => 0.048576\n",
      ">69 => 0.046682\n",
      ">70 => 0.045037\n",
      ">71 => 0.043619\n",
      ">72 => 0.042405\n",
      ">73 => 0.041374\n",
      ">74 => 0.040504\n",
      ">75 => 0.039775\n",
      ">76 => 0.039169\n",
      ">77 => 0.038667\n",
      ">78 => 0.038254\n",
      ">79 => 0.037916\n",
      ">80 => 0.037639\n",
      ">81 => 0.037412\n",
      ">82 => 0.037226\n",
      ">83 => 0.037073\n",
      ">84 => 0.036945\n",
      ">85 => 0.036837\n",
      ">86 => 0.036744\n",
      ">87 => 0.036663\n",
      ">88 => 0.036589\n",
      ">89 => 0.036522\n",
      ">90 => 0.036460\n",
      ">91 => 0.036400\n",
      ">92 => 0.036343\n",
      ">93 => 0.036287\n",
      ">94 => 0.036233\n",
      ">95 => 0.036180\n",
      ">96 => 0.036128\n",
      ">97 => 0.036076\n",
      ">98 => 0.036026\n",
      ">99 => 0.035976\n",
      ">100 => 0.035927\n",
      ">101 => 0.035879\n",
      ">102 => 0.035831\n",
      ">103 => 0.035785\n",
      ">104 => 0.035740\n",
      ">105 => 0.035696\n",
      ">106 => 0.035653\n",
      ">107 => 0.035611\n",
      ">108 => 0.035570\n",
      ">109 => 0.035529\n",
      ">110 => 0.035490\n",
      ">111 => 0.035452\n",
      ">112 => 0.035415\n",
      ">113 => 0.035379\n",
      ">114 => 0.035343\n",
      ">115 => 0.035309\n",
      ">116 => 0.035275\n",
      ">117 => 0.035242\n",
      ">118 => 0.035211\n",
      ">119 => 0.035180\n",
      ">120 => 0.035149\n",
      ">121 => 0.035120\n",
      ">122 => 0.035091\n",
      ">123 => 0.035063\n",
      ">124 => 0.035036\n",
      ">125 => 0.035009\n",
      ">126 => 0.034983\n",
      ">127 => 0.034958\n",
      ">128 => 0.034934\n",
      ">129 => 0.034910\n",
      ">130 => 0.034887\n",
      ">131 => 0.034864\n",
      ">132 => 0.034843\n",
      ">133 => 0.034821\n",
      ">134 => 0.034801\n",
      ">135 => 0.034781\n",
      ">136 => 0.034761\n",
      ">137 => 0.034742\n",
      ">138 => 0.034724\n",
      ">139 => 0.034706\n",
      ">140 => 0.034689\n",
      ">141 => 0.034672\n",
      ">142 => 0.034656\n",
      ">143 => 0.034640\n",
      ">144 => 0.034624\n",
      ">145 => 0.034610\n",
      ">146 => 0.034595\n",
      ">147 => 0.034581\n",
      ">148 => 0.034568\n",
      ">149 => 0.034554\n",
      ">150 => 0.034542\n",
      ">151 => 0.034529\n",
      ">152 => 0.034518\n",
      ">153 => 0.034506\n",
      ">154 => 0.034495\n",
      ">155 => 0.034484\n",
      ">156 => 0.034473\n",
      ">157 => 0.034463\n",
      ">158 => 0.034453\n",
      ">159 => 0.034444\n",
      ">160 => 0.034435\n",
      ">161 => 0.034426\n",
      ">162 => 0.034417\n",
      ">163 => 0.034409\n",
      ">164 => 0.034401\n",
      ">165 => 0.034393\n",
      ">166 => 0.034386\n",
      ">167 => 0.034379\n",
      ">168 => 0.034372\n",
      ">169 => 0.034365\n",
      ">170 => 0.034358\n",
      ">171 => 0.034352\n",
      ">172 => 0.034346\n",
      ">173 => 0.034340\n",
      ">174 => 0.034334\n",
      ">175 => 0.034329\n",
      ">176 => 0.034324\n",
      ">177 => 0.034319\n",
      ">178 => 0.034314\n",
      ">179 => 0.034309\n",
      ">180 => 0.034305\n",
      ">181 => 0.034300\n",
      ">182 => 0.034296\n",
      ">183 => 0.034292\n",
      ">184 => 0.034288\n",
      ">185 => 0.034284\n",
      ">186 => 0.034281\n",
      ">187 => 0.034277\n",
      ">188 => 0.034274\n",
      ">189 => 0.034270\n",
      ">190 => 0.034267\n",
      ">191 => 0.034264\n",
      ">192 => 0.034262\n",
      ">193 => 0.034259\n",
      ">194 => 0.034256\n",
      ">195 => 0.034253\n",
      ">196 => 0.034251\n",
      ">197 => 0.034249\n",
      ">198 => 0.034246\n",
      ">199 => 0.034244\n",
      ">200 => 0.034242\n",
      "Done!\n",
      "f([1.3259788e+00 1.1348389e-01 3.6103058e+01 2.8553326e+01 6.8318099e-01\n",
      " 2.0049516e-16]) = 0.034242\n"
     ]
    }
   ],
   "source": [
    "# Run the gradient descent algorithm\n",
    "\n",
    "# define the total iterations\n",
    "n_iter = 200\n",
    "# steps size\n",
    "alpha = 0.1\n",
    "# factor for average gradient\n",
    "beta1 = 0.8\n",
    "# factor for average squared gradient\n",
    "beta2 = 0.999\n",
    "# perform the gradient descent search with adam\n",
    "best2, score2, worst = adam_jack2(bnds2, n_iter, alpha, beta1, beta2)\n",
    "print('Done!')\n",
    "print('f(%s) = %f' % (best2, score2))"
   ]
  },
  {
   "cell_type": "markdown",
   "id": "28f9d8f2",
   "metadata": {},
   "source": [
    "0.032400"
   ]
  },
  {
   "cell_type": "code",
   "execution_count": 85,
   "id": "0c841809-ba7c-4ad1-83b8-db9c8c92855e",
   "metadata": {
    "executionInfo": {
     "elapsed": 312,
     "status": "ok",
     "timestamp": 1633436947770,
     "user": {
      "displayName": "Dean Brand",
      "photoUrl": "https://lh3.googleusercontent.com/a/default-user=s64",
      "userId": "08092671779044246052"
     },
     "user_tz": -120
    },
    "id": "0c841809-ba7c-4ad1-83b8-db9c8c92855e"
   },
   "outputs": [],
   "source": [
    "t2e_best = func_t2e(xd, *best2)"
   ]
  },
  {
   "cell_type": "code",
   "execution_count": 86,
   "id": "23naVKcJFten",
   "metadata": {
    "colab": {
     "base_uri": "https://localhost:8080/"
    },
    "executionInfo": {
     "elapsed": 300,
     "status": "ok",
     "timestamp": 1633436947773,
     "user": {
      "displayName": "Dean Brand",
      "photoUrl": "https://lh3.googleusercontent.com/a/default-user=s64",
      "userId": "08092671779044246052"
     },
     "user_tz": -120
    },
    "id": "23naVKcJFten",
    "outputId": "a5b43596-2a82-4230-9ebe-f607ac16fe4c"
   },
   "outputs": [
    {
     "data": {
      "text/plain": [
       "DeviceArray(98.97, dtype=float32)"
      ]
     },
     "execution_count": 86,
     "metadata": {},
     "output_type": "execute_result"
    }
   ],
   "source": [
    "#R2 Regression\n",
    "\n",
    "np.round(reg([jnp.array(t2emit_lst0, dtype=jnp.float64), jnp.array(t2emit_lst1, dtype=jnp.float64)],\n",
    "    [t2e_best[:, 0, 0], t2e_best[:, 1, 1]]), 2)"
   ]
  },
  {
   "cell_type": "markdown",
   "id": "fd1b52df",
   "metadata": {},
   "source": [
    "99.07"
   ]
  },
  {
   "cell_type": "code",
   "execution_count": 87,
   "id": "5bf74dc0-f3ac-4cfd-93eb-1e3165c16f91",
   "metadata": {
    "colab": {
     "base_uri": "https://localhost:8080/",
     "height": 681
    },
    "executionInfo": {
     "elapsed": 432,
     "status": "ok",
     "timestamp": 1633436947920,
     "user": {
      "displayName": "Dean Brand",
      "photoUrl": "https://lh3.googleusercontent.com/a/default-user=s64",
      "userId": "08092671779044246052"
     },
     "user_tz": -120
    },
    "id": "5bf74dc0-f3ac-4cfd-93eb-1e3165c16f91",
    "outputId": "5819762d-5c04-4cea-b682-e9c225f2445e"
   },
   "outputs": [
    {
     "data": {
      "image/png": "[encoded data removed]",
      "text/plain": [
       "<Figure size 1440x720 with 2 Axes>"
      ]
     },
     "metadata": {},
     "output_type": "display_data"
    }
   ],
   "source": [
    "%matplotlib inline\n",
    "plt.style.use('seaborn')\n",
    "# matplotlib.rcParams.update({'font.size': 16,'font.family':'serif'})\n",
    "fig, ax = plt.subplots(1, 2, figsize=(20, 10))\n",
    "\n",
    "# plt.errorbar(time, t2emit_lst00, t1ystd00, label = \"00\", marker='.', linestyle = '', markersize=10, c = cool[0])\n",
    "# plt.errorbar(time, t2emit_lst10, t1ystd10, label = \"10\", marker='.', linestyle = '', markersize=10, c = cool[1])\n",
    "# plt.errorbar(time, t2emit_lst01, t1ystd01, label = \"01\", marker='.', linestyle = '', markersize=10, c = cool[2])\n",
    "# plt.errorbar(time, t2emit_lst11, t1ystd11, label = \"11\", marker='.', linestyle = '', markersize=10, c = cool[3])\n",
    "\n",
    "# ax[0, 0].errorbar(time, t2emit_lst00, t1ystd00, label = \"00\", marker='.', linestyle = '', markersize=10, c = cool[0])\n",
    "# ax[0, 1].errorbar(time, t2emit_lst10, t1ystd10, label = \"10\", marker='.', linestyle = '', markersize=10, c = cool[1])\n",
    "# ax[1, 0].errorbar(time, t2emit_lst01, t1ystd01, label = \"01\", marker='.', linestyle = '', markersize=10, c = cool[2])\n",
    "# ax[1, 1].errorbar(time, t2emit_lst11, t1ystd11, label = \"11\", marker='.', linestyle = '', markersize=10, c = cool[3])\n",
    "\n",
    "# plt.plot(time, t2e_best[:, 0, 0], label = 'Best 00', marker='*', color = plasma[0])\n",
    "# plt.plot(time, t2e_best[:, 1, 1], label = 'Best 10', marker='*', color = plasma[1])\n",
    "# plt.plot(time, t2e_best[:, 2, 2], label = 'Best 01', marker='*', color = plasma[2])\n",
    "# plt.plot(time, t2e_best[:, 3, 3], label = 'Best 11', marker='*', color = plasma[3])\n",
    "\n",
    "ax[0].plot(time * 2, t2e_best[:, 0, 0], label = 'Best 0', marker='*', color = plasma[0])\n",
    "ax[1].plot(time * 2, t2e_best[:, 1, 1], label = 'Best 1', marker='*', color = plasma[1])\n",
    "\n",
    "ax[0].plot(time * 2, t2emit_lst0, label = \"0\", marker='.', linestyle = '', markersize=10, c = cool[0])\n",
    "ax[1].plot(time * 2, t2emit_lst1, label = \"1\", marker='.', linestyle = '', markersize=10, c = cool[1])\n",
    "\n",
    "fig.suptitle(f'$T2$ Echo Decay of Qubit {qubits[0]}')\n",
    "\n",
    "for a in ax.flat:\n",
    "    a.set(xlabel='$t$ ($\\mu$s)', ylabel='State Population')\n",
    "\n",
    "# Hide x labels and tick labels for top plots and y ticks for right plots.\n",
    "# for b in ax.flat:\n",
    "#     b.label_outer()\n",
    "\n",
    "# fig.xlabel('$t$ ($\\mu$s)')\n",
    "# fig.ylabel('Excited State Population')\n",
    "# plt.ylim(-0.05, 1.05)\n",
    "\n",
    "ax[0].legend(loc = \"best\",numpoints=1,frameon=True)\n",
    "ax[1].legend(loc = \"best\",numpoints=1,frameon=True)\n",
    "\n",
    "plt.show()"
   ]
  },
  {
   "cell_type": "markdown",
   "id": "120bda27",
   "metadata": {},
   "source": [
    "## Same now for $T_2^*$"
   ]
  },
  {
   "cell_type": "code",
   "execution_count": 88,
   "id": "f8fdd086",
   "metadata": {},
   "outputs": [],
   "source": [
    "def minmse2s(y):\n",
    "    Y = y[0]\n",
    "    \n",
    "    rhot2s = func_t2s(xd, *Y)\n",
    "    \n",
    "    t1data = jnp.array(t2smit_lst1, dtype=jnp.float64)\n",
    "    t2data = jnp.array(t2smit_lst0, dtype=jnp.float64)\n",
    "    tdata = [t1data, t2data]\n",
    "    \n",
    "    tst1 = rhot2s[:, 0, 0]\n",
    "    tst2 = rhot2s[:, 1, 1]\n",
    "    tstd = [tst1, tst2]\n",
    "    \n",
    "    return mse(tdata, tstd)"
   ]
  },
  {
   "cell_type": "code",
   "execution_count": 89,
   "id": "433dd7b5",
   "metadata": {},
   "outputs": [
    {
     "data": {
      "text/plain": [
       "DeviceArray(5.4356775, dtype=float32)"
      ]
     },
     "execution_count": 89,
     "metadata": {},
     "output_type": "execute_result"
    }
   ],
   "source": [
    "minmse2s([prms_t2s])"
   ]
  },
  {
   "cell_type": "code",
   "execution_count": 90,
   "id": "5f18307b",
   "metadata": {},
   "outputs": [],
   "source": [
    "# Define an adam gradient descent optimiser\n",
    "\n",
    "minfunc = vmap(minmse2s)\n",
    "\n",
    "scorelst = []\n",
    "tlst = []\n",
    "\n",
    "# bounds = jnp.array([w0, w1, g2l[0], g2l[1], j01, n1, n2], dtype = jnp.float32)\n",
    "\n",
    "\n",
    "def adam_jack2(bounds, n_iter, alpha, beta1, beta2, eps=1e-8):\n",
    "    x = bounds\n",
    "    first = x\n",
    "    best = x\n",
    "    worst = x\n",
    "    score = minfunc(jnp.array([[x]]))\n",
    "    scbest = score\n",
    "    print('f(%s) = %f' % (x, score))\n",
    "\n",
    "    J = jacrev(minmse2s)\n",
    "\n",
    "    m = jnp.zeros(len(prms_t1))\n",
    "    v = jnp.zeros(len(prms_t1))\n",
    "\n",
    "    for t in range(n_iter + 1):\n",
    "        # calculate gradient g(t)\n",
    "        g = J([x])[0]\n",
    "\n",
    "        m = beta1 * m + (1.0 - beta1) * g\n",
    "        v = beta2 * v + (1.0 - beta2) * g**2\n",
    "\n",
    "        mhat = m / (1.0 - beta1**(t+1))\n",
    "        vhat = v / (1.0 - beta2**(t+1))\n",
    "\n",
    "        x = x - alpha * mhat / (sqrt(vhat) + eps)\n",
    "\n",
    "        for i in range(len(x)):\n",
    "            if x[i] < 0:\n",
    "                # x = index_update(x, index[i], bounds[i])\n",
    "                # x[i] = bounds[i]\n",
    "                x = x.at[i].set(bounds[i])\n",
    "\n",
    "        if scbest > minmse2s(jnp.array([x])):\n",
    "            best = x\n",
    "            scbest = minmse2s(jnp.array([best]))\n",
    "\n",
    "        # evaluate candidate point\n",
    "        score = minfunc(jnp.array([[x]]))\n",
    "        scorelst.append(score)\n",
    "        tlst.append(t)\n",
    "        print('>%d => %f' % (t, score))\n",
    "    return [best, scbest, first]"
   ]
  },
  {
   "cell_type": "code",
   "execution_count": 91,
   "id": "a1639980",
   "metadata": {},
   "outputs": [],
   "source": [
    "# bnds2 = best2s\n",
    "# bnds2 = prmsl_hc\n",
    "# bnds2 = jnp.array([w0/2, w0/2, w0/2, g2l[0] * 1e6, 1e9, n1]) / 1e9\n",
    "bnds2 = prms_t2s\n",
    "# bnds2 = jnp.array([g2l[0] * 1e-3, g2l[1] * 1e-3, j01 * 1e-3, N1, N2])"
   ]
  },
  {
   "cell_type": "code",
   "execution_count": 92,
   "id": "10c659d1",
   "metadata": {},
   "outputs": [
    {
     "name": "stdout",
     "output_type": "stream",
     "text": [
      "f([0.0000000e+00 0.0000000e+00 1.8172041e+02 3.3737682e+01 0.0000000e+00\n",
      " 2.0049516e-16]) = 5.435678\n",
      ">0 => 4.733705\n",
      ">1 => 4.245880\n",
      ">2 => 3.888481\n",
      ">3 => 3.615764\n",
      ">4 => 3.400952\n",
      ">5 => 3.227407\n",
      ">6 => 3.084294\n",
      ">7 => 2.964241\n",
      ">8 => 2.862061\n",
      ">9 => 2.774011\n",
      ">10 => 2.697293\n",
      ">11 => 2.629802\n",
      ">12 => 2.569905\n",
      ">13 => 2.516325\n",
      ">14 => 2.468049\n",
      ">15 => 2.424265\n",
      ">16 => 2.384308\n",
      ">17 => 2.347643\n",
      ">18 => 2.313823\n",
      ">19 => 2.282477\n",
      ">20 => 2.253303\n",
      ">21 => 2.226038\n",
      ">22 => 2.200466\n",
      ">23 => 2.176403\n",
      ">24 => 2.153690\n",
      ">25 => 2.132193\n",
      ">26 => 2.111797\n",
      ">27 => 2.092400\n",
      ">28 => 2.073918\n",
      ">29 => 2.056273\n",
      ">30 => 2.039400\n",
      ">31 => 2.023241\n",
      ">32 => 2.007740\n",
      ">33 => 1.992861\n",
      ">34 => 1.978553\n",
      ">35 => 1.964785\n",
      ">36 => 1.951522\n",
      ">37 => 1.938735\n",
      ">38 => 1.926397\n",
      ">39 => 1.914483\n",
      ">40 => 1.902972\n",
      ">41 => 1.891841\n",
      ">42 => 1.881073\n",
      ">43 => 1.870649\n",
      ">44 => 1.860555\n",
      ">45 => 1.850773\n",
      ">46 => 1.841290\n",
      ">47 => 1.832093\n",
      ">48 => 1.823171\n",
      ">49 => 1.814510\n",
      ">50 => 1.806101\n",
      ">51 => 1.797934\n",
      ">52 => 1.789997\n",
      ">53 => 1.782284\n",
      ">54 => 1.774784\n",
      ">55 => 1.767491\n",
      ">56 => 1.760395\n",
      ">57 => 1.753490\n",
      ">58 => 1.746769\n",
      ">59 => 1.740226\n",
      ">60 => 1.733853\n",
      ">61 => 1.727644\n",
      ">62 => 1.721595\n",
      ">63 => 1.715701\n",
      ">64 => 1.709954\n",
      ">65 => 1.704351\n",
      ">66 => 1.698887\n",
      ">67 => 1.693557\n",
      ">68 => 1.688356\n",
      ">69 => 1.683281\n",
      ">70 => 1.678328\n",
      ">71 => 1.673493\n",
      ">72 => 1.668772\n",
      ">73 => 1.664161\n",
      ">74 => 1.659658\n",
      ">75 => 1.655258\n",
      ">76 => 1.650959\n",
      ">77 => 1.646757\n",
      ">78 => 1.642651\n",
      ">79 => 1.638636\n",
      ">80 => 1.634712\n",
      ">81 => 1.630873\n",
      ">82 => 1.627119\n",
      ">83 => 1.623446\n",
      ">84 => 1.619853\n",
      ">85 => 1.616338\n",
      ">86 => 1.612898\n",
      ">87 => 1.609529\n",
      ">88 => 1.606233\n",
      ">89 => 1.603006\n",
      ">90 => 1.599846\n",
      ">91 => 1.596750\n",
      ">92 => 1.593720\n",
      ">93 => 1.590751\n",
      ">94 => 1.587842\n",
      ">95 => 1.584992\n",
      ">96 => 1.582199\n",
      ">97 => 1.579462\n",
      ">98 => 1.576779\n",
      ">99 => 1.574149\n",
      ">100 => 1.571571\n",
      ">101 => 1.569042\n",
      ">102 => 1.566563\n",
      ">103 => 1.564132\n",
      ">104 => 1.561747\n",
      ">105 => 1.559408\n",
      ">106 => 1.557114\n",
      ">107 => 1.554863\n",
      ">108 => 1.552653\n",
      ">109 => 1.550486\n",
      ">110 => 1.548358\n",
      ">111 => 1.546270\n",
      ">112 => 1.544220\n",
      ">113 => 1.542208\n",
      ">114 => 1.540232\n",
      ">115 => 1.538292\n",
      ">116 => 1.536387\n",
      ">117 => 1.534516\n",
      ">118 => 1.532679\n",
      ">119 => 1.530874\n",
      ">120 => 1.529101\n",
      ">121 => 1.527360\n",
      ">122 => 1.525648\n",
      ">123 => 1.523967\n",
      ">124 => 1.522314\n",
      ">125 => 1.520690\n",
      ">126 => 1.519095\n",
      ">127 => 1.517526\n",
      ">128 => 1.515984\n",
      ">129 => 1.514469\n",
      ">130 => 1.512979\n",
      ">131 => 1.511513\n",
      ">132 => 1.510073\n",
      ">133 => 1.508656\n",
      ">134 => 1.507263\n",
      ">135 => 1.505892\n",
      ">136 => 1.504545\n",
      ">137 => 1.503219\n",
      ">138 => 1.501915\n",
      ">139 => 1.500633\n",
      ">140 => 1.499371\n",
      ">141 => 1.498129\n",
      ">142 => 1.496907\n",
      ">143 => 1.495705\n",
      ">144 => 1.494521\n",
      ">145 => 1.493357\n",
      ">146 => 1.492211\n",
      ">147 => 1.491083\n",
      ">148 => 1.489972\n",
      ">149 => 1.488879\n",
      ">150 => 1.487803\n",
      ">151 => 1.486743\n",
      ">152 => 1.485700\n",
      ">153 => 1.484673\n",
      ">154 => 1.483661\n",
      ">155 => 1.482665\n",
      ">156 => 1.481684\n",
      ">157 => 1.480718\n",
      ">158 => 1.479766\n",
      ">159 => 1.478829\n",
      ">160 => 1.477905\n",
      ">161 => 1.476995\n",
      ">162 => 1.476099\n",
      ">163 => 1.475216\n",
      ">164 => 1.474346\n",
      ">165 => 1.473489\n",
      ">166 => 1.472644\n",
      ">167 => 1.471812\n",
      ">168 => 1.470991\n",
      ">169 => 1.470183\n",
      ">170 => 1.469386\n",
      ">171 => 1.468601\n",
      ">172 => 1.467827\n",
      ">173 => 1.467063\n",
      ">174 => 1.466311\n",
      ">175 => 1.465569\n",
      ">176 => 1.464838\n",
      ">177 => 1.464118\n",
      ">178 => 1.463407\n",
      ">179 => 1.462706\n",
      ">180 => 1.462015\n",
      ">181 => 1.461333\n",
      ">182 => 1.460661\n",
      ">183 => 1.459998\n",
      ">184 => 1.459345\n",
      ">185 => 1.458700\n",
      ">186 => 1.458064\n",
      ">187 => 1.457436\n",
      ">188 => 1.456817\n",
      ">189 => 1.456207\n",
      ">190 => 1.455605\n",
      ">191 => 1.455010\n",
      ">192 => 1.454424\n",
      ">193 => 1.453845\n",
      ">194 => 1.453274\n",
      ">195 => 1.452711\n",
      ">196 => 1.452155\n",
      ">197 => 1.451606\n",
      ">198 => 1.451065\n",
      ">199 => 1.450531\n",
      ">200 => 1.450004\n",
      ">201 => 1.449483\n",
      ">202 => 1.448969\n",
      ">203 => 1.448462\n",
      ">204 => 1.447961\n",
      ">205 => 1.447467\n",
      ">206 => 1.446979\n",
      ">207 => 1.446497\n",
      ">208 => 1.446022\n",
      ">209 => 1.445552\n",
      ">210 => 1.445089\n",
      ">211 => 1.444630\n",
      ">212 => 1.444178\n",
      ">213 => 1.443732\n",
      ">214 => 1.443291\n",
      ">215 => 1.442855\n",
      ">216 => 1.442425\n",
      ">217 => 1.442000\n",
      ">218 => 1.441581\n",
      ">219 => 1.441166\n",
      ">220 => 1.440757\n",
      ">221 => 1.440352\n",
      ">222 => 1.439953\n",
      ">223 => 1.439559\n",
      ">224 => 1.439169\n",
      ">225 => 1.438783\n",
      ">226 => 1.438402\n",
      ">227 => 1.438026\n",
      ">228 => 1.437654\n",
      ">229 => 1.437287\n",
      ">230 => 1.436924\n",
      ">231 => 1.436566\n",
      ">232 => 1.436211\n",
      ">233 => 1.435861\n",
      ">234 => 1.435515\n",
      ">235 => 1.435173\n",
      ">236 => 1.434834\n",
      ">237 => 1.434500\n",
      ">238 => 1.434170\n",
      ">239 => 1.433843\n",
      ">240 => 1.433520\n",
      ">241 => 1.433201\n",
      ">242 => 1.432885\n",
      ">243 => 1.432573\n",
      ">244 => 1.432265\n",
      ">245 => 1.431960\n",
      ">246 => 1.431658\n",
      ">247 => 1.431360\n",
      ">248 => 1.431065\n",
      ">249 => 1.430773\n",
      ">250 => 1.430484\n",
      ">251 => 1.430199\n",
      ">252 => 1.429917\n",
      ">253 => 1.429638\n",
      ">254 => 1.429362\n",
      ">255 => 1.429089\n",
      ">256 => 1.428819\n",
      ">257 => 1.428552\n",
      ">258 => 1.428288\n",
      ">259 => 1.428026\n",
      ">260 => 1.427768\n",
      ">261 => 1.427511\n",
      ">262 => 1.427258\n",
      ">263 => 1.427008\n",
      ">264 => 1.426760\n",
      ">265 => 1.426515\n",
      ">266 => 1.426272\n",
      ">267 => 1.426032\n",
      ">268 => 1.425794\n",
      ">269 => 1.425559\n",
      ">270 => 1.425326\n",
      ">271 => 1.425096\n",
      ">272 => 1.424868\n",
      ">273 => 1.424642\n",
      ">274 => 1.424419\n",
      ">275 => 1.424198\n",
      ">276 => 1.423979\n",
      ">277 => 1.423762\n",
      ">278 => 1.423548\n",
      ">279 => 1.423335\n",
      ">280 => 1.423125\n",
      ">281 => 1.422917\n",
      ">282 => 1.422710\n",
      ">283 => 1.422506\n",
      ">284 => 1.422304\n",
      ">285 => 1.422104\n",
      ">286 => 1.421906\n",
      ">287 => 1.421709\n",
      ">288 => 1.421515\n",
      ">289 => 1.421323\n",
      ">290 => 1.421132\n",
      ">291 => 1.420943\n",
      ">292 => 1.420755\n",
      ">293 => 1.420570\n",
      ">294 => 1.420387\n",
      ">295 => 1.420205\n",
      ">296 => 1.420025\n",
      ">297 => 1.419846\n",
      ">298 => 1.419669\n",
      ">299 => 1.419494\n",
      ">300 => 1.419320\n",
      ">301 => 1.419148\n",
      ">302 => 1.418978\n",
      ">303 => 1.418809\n",
      ">304 => 1.418641\n",
      ">305 => 1.418476\n",
      ">306 => 1.418311\n",
      ">307 => 1.418148\n",
      ">308 => 1.417987\n",
      ">309 => 1.417827\n",
      ">310 => 1.417668\n",
      ">311 => 1.417511\n",
      ">312 => 1.417355\n",
      ">313 => 1.417200\n",
      ">314 => 1.417047\n",
      ">315 => 1.416895\n",
      ">316 => 1.416744\n",
      ">317 => 1.416595\n",
      ">318 => 1.416447\n",
      ">319 => 1.416300\n",
      ">320 => 1.416155\n",
      ">321 => 1.416010\n",
      ">322 => 1.415867\n",
      ">323 => 1.415725\n",
      ">324 => 1.415584\n",
      ">325 => 1.415444\n",
      ">326 => 1.415306\n",
      ">327 => 1.415168\n",
      ">328 => 1.415032\n",
      ">329 => 1.414897\n",
      ">330 => 1.414763\n",
      ">331 => 1.414629\n",
      ">332 => 1.414497\n",
      ">333 => 1.414366\n",
      ">334 => 1.414236\n",
      ">335 => 1.414107\n",
      ">336 => 1.413980\n",
      ">337 => 1.413852\n",
      ">338 => 1.413726\n",
      ">339 => 1.413601\n",
      ">340 => 1.413477\n",
      ">341 => 1.413354\n",
      ">342 => 1.413232\n",
      ">343 => 1.413110\n",
      ">344 => 1.412990\n",
      ">345 => 1.412870\n",
      ">346 => 1.412752\n",
      ">347 => 1.412634\n",
      ">348 => 1.412516\n",
      ">349 => 1.412400\n",
      ">350 => 1.412285\n",
      ">351 => 1.412171\n",
      ">352 => 1.412057\n",
      ">353 => 1.411944\n",
      ">354 => 1.411832\n",
      ">355 => 1.411721\n",
      ">356 => 1.411610\n",
      ">357 => 1.411500\n",
      ">358 => 1.411391\n",
      ">359 => 1.411283\n",
      ">360 => 1.411175\n",
      ">361 => 1.411068\n",
      ">362 => 1.410962\n",
      ">363 => 1.410856\n",
      ">364 => 1.410752\n",
      ">365 => 1.410648\n",
      ">366 => 1.410544\n",
      ">367 => 1.410441\n",
      ">368 => 1.410339\n",
      ">369 => 1.410238\n",
      ">370 => 1.410137\n",
      ">371 => 1.410037\n",
      ">372 => 1.409937\n",
      ">373 => 1.409838\n",
      ">374 => 1.409740\n",
      ">375 => 1.409642\n",
      ">376 => 1.409545\n",
      ">377 => 1.409448\n",
      ">378 => 1.409352\n",
      ">379 => 1.409256\n",
      ">380 => 1.409161\n",
      ">381 => 1.409067\n",
      ">382 => 1.408974\n",
      ">383 => 1.408880\n",
      ">384 => 1.408787\n",
      ">385 => 1.408695\n",
      ">386 => 1.408603\n",
      ">387 => 1.408512\n",
      ">388 => 1.408421\n",
      ">389 => 1.408331\n",
      ">390 => 1.408241\n",
      ">391 => 1.408152\n",
      ">392 => 1.408063\n",
      ">393 => 1.407975\n",
      ">394 => 1.407887\n",
      ">395 => 1.407800\n",
      ">396 => 1.407713\n",
      ">397 => 1.407626\n",
      ">398 => 1.407540\n",
      ">399 => 1.407455\n",
      ">400 => 1.407370\n",
      ">401 => 1.407285\n",
      ">402 => 1.407200\n",
      ">403 => 1.407116\n",
      ">404 => 1.407033\n",
      ">405 => 1.406949\n",
      ">406 => 1.406866\n",
      ">407 => 1.406784\n",
      ">408 => 1.406702\n",
      ">409 => 1.406621\n",
      ">410 => 1.406540\n",
      ">411 => 1.406458\n",
      ">412 => 1.406378\n",
      ">413 => 1.406298\n",
      ">414 => 1.406218\n",
      ">415 => 1.406138\n",
      ">416 => 1.406059\n",
      ">417 => 1.405981\n",
      ">418 => 1.405902\n",
      ">419 => 1.405824\n",
      ">420 => 1.405746\n",
      ">421 => 1.405669\n",
      ">422 => 1.405591\n",
      ">423 => 1.405514\n",
      ">424 => 1.405438\n",
      ">425 => 1.405361\n",
      ">426 => 1.405285\n",
      ">427 => 1.405210\n",
      ">428 => 1.405134\n",
      ">429 => 1.405059\n",
      ">430 => 1.404984\n",
      ">431 => 1.404910\n",
      ">432 => 1.404835\n",
      ">433 => 1.404762\n",
      ">434 => 1.404688\n",
      ">435 => 1.404615\n",
      ">436 => 1.404541\n",
      ">437 => 1.404468\n",
      ">438 => 1.404395\n",
      ">439 => 1.404323\n",
      ">440 => 1.404251\n",
      ">441 => 1.404178\n",
      ">442 => 1.404106\n",
      ">443 => 1.404035\n",
      ">444 => 1.403964\n",
      ">445 => 1.403893\n",
      ">446 => 1.403822\n",
      ">447 => 1.403751\n",
      ">448 => 1.403681\n",
      ">449 => 1.403610\n",
      ">450 => 1.403541\n",
      ">451 => 1.403471\n",
      ">452 => 1.403401\n",
      ">453 => 1.403331\n",
      ">454 => 1.403262\n",
      ">455 => 1.403193\n",
      ">456 => 1.403124\n",
      ">457 => 1.403055\n",
      ">458 => 1.402987\n",
      ">459 => 1.402918\n",
      ">460 => 1.402850\n",
      ">461 => 1.402782\n",
      ">462 => 1.402714\n",
      ">463 => 1.402646\n",
      ">464 => 1.402579\n",
      ">465 => 1.402512\n",
      ">466 => 1.402445\n",
      ">467 => 1.402377\n",
      ">468 => 1.402310\n",
      ">469 => 1.402244\n",
      ">470 => 1.402177\n",
      ">471 => 1.402111\n",
      ">472 => 1.402045\n",
      ">473 => 1.401978\n",
      ">474 => 1.401913\n",
      ">475 => 1.401847\n",
      ">476 => 1.401781\n",
      ">477 => 1.401716\n",
      ">478 => 1.401650\n",
      ">479 => 1.401585\n",
      ">480 => 1.401519\n",
      ">481 => 1.401454\n",
      ">482 => 1.401389\n",
      ">483 => 1.401324\n",
      ">484 => 1.401259\n",
      ">485 => 1.401195\n",
      ">486 => 1.401130\n",
      ">487 => 1.401065\n",
      ">488 => 1.401001\n",
      ">489 => 1.400937\n",
      ">490 => 1.400873\n",
      ">491 => 1.400809\n",
      ">492 => 1.400745\n",
      ">493 => 1.400681\n",
      ">494 => 1.400617\n",
      ">495 => 1.400554\n",
      ">496 => 1.400490\n",
      ">497 => 1.400426\n",
      ">498 => 1.400363\n",
      ">499 => 1.400300\n",
      ">500 => 1.400237\n",
      ">501 => 1.400173\n",
      ">502 => 1.400110\n",
      ">503 => 1.400047\n",
      ">504 => 1.399984\n",
      ">505 => 1.399921\n",
      ">506 => 1.399858\n",
      ">507 => 1.399796\n",
      ">508 => 1.399733\n",
      ">509 => 1.399670\n",
      ">510 => 1.399608\n",
      ">511 => 1.399545\n",
      ">512 => 1.399483\n",
      ">513 => 1.399420\n",
      ">514 => 1.399358\n",
      ">515 => 1.399295\n",
      ">516 => 1.399234\n",
      ">517 => 1.399171\n",
      ">518 => 1.399109\n",
      ">519 => 1.399047\n",
      ">520 => 1.398985\n",
      ">521 => 1.398923\n",
      ">522 => 1.398861\n",
      ">523 => 1.398799\n",
      ">524 => 1.398737\n",
      ">525 => 1.398675\n",
      ">526 => 1.398614\n",
      ">527 => 1.398552\n",
      ">528 => 1.398490\n",
      ">529 => 1.398428\n",
      ">530 => 1.398366\n",
      ">531 => 1.398305\n",
      ">532 => 1.398243\n",
      ">533 => 1.398182\n",
      ">534 => 1.398120\n",
      ">535 => 1.398059\n",
      ">536 => 1.397997\n",
      ">537 => 1.397936\n",
      ">538 => 1.397874\n",
      ">539 => 1.397812\n",
      ">540 => 1.397751\n",
      ">541 => 1.397690\n",
      ">542 => 1.397628\n",
      ">543 => 1.397567\n",
      ">544 => 1.397505\n",
      ">545 => 1.397444\n",
      ">546 => 1.397383\n",
      ">547 => 1.397321\n",
      ">548 => 1.397260\n",
      ">549 => 1.397198\n",
      ">550 => 1.397137\n",
      ">551 => 1.397076\n",
      ">552 => 1.397014\n",
      ">553 => 1.396953\n",
      ">554 => 1.396892\n",
      ">555 => 1.396830\n",
      ">556 => 1.396769\n",
      ">557 => 1.396707\n",
      ">558 => 1.396646\n",
      ">559 => 1.396584\n",
      ">560 => 1.396523\n",
      ">561 => 1.396462\n",
      ">562 => 1.396401\n",
      ">563 => 1.396339\n",
      ">564 => 1.396277\n",
      ">565 => 1.396216\n",
      ">566 => 1.396155\n",
      ">567 => 1.396093\n",
      ">568 => 1.396032\n",
      ">569 => 1.395970\n",
      ">570 => 1.395909\n",
      ">571 => 1.395848\n",
      ">572 => 1.395786\n",
      ">573 => 1.395724\n",
      ">574 => 1.395662\n",
      ">575 => 1.395601\n",
      ">576 => 1.395539\n",
      ">577 => 1.395478\n",
      ">578 => 1.395416\n",
      ">579 => 1.395354\n",
      ">580 => 1.395293\n",
      ">581 => 1.395231\n",
      ">582 => 1.395169\n",
      ">583 => 1.395107\n",
      ">584 => 1.395045\n",
      ">585 => 1.394983\n",
      ">586 => 1.394922\n",
      ">587 => 1.394859\n",
      ">588 => 1.394797\n",
      ">589 => 1.394735\n",
      ">590 => 1.394673\n",
      ">591 => 1.394611\n",
      ">592 => 1.394549\n",
      ">593 => 1.394487\n",
      ">594 => 1.394424\n",
      ">595 => 1.394362\n",
      ">596 => 1.394300\n",
      ">597 => 1.394237\n",
      ">598 => 1.394175\n",
      ">599 => 1.394112\n",
      ">600 => 1.394050\n",
      ">601 => 1.393988\n",
      ">602 => 1.393925\n",
      ">603 => 1.393863\n",
      ">604 => 1.393800\n",
      ">605 => 1.393737\n",
      ">606 => 1.393674\n",
      ">607 => 1.393612\n",
      ">608 => 1.393549\n",
      ">609 => 1.393486\n",
      ">610 => 1.393423\n",
      ">611 => 1.393360\n",
      ">612 => 1.393297\n",
      ">613 => 1.393234\n",
      ">614 => 1.393170\n",
      ">615 => 1.393107\n",
      ">616 => 1.393044\n",
      ">617 => 1.392981\n",
      ">618 => 1.392917\n",
      ">619 => 1.392854\n",
      ">620 => 1.392791\n",
      ">621 => 1.392727\n",
      ">622 => 1.392663\n",
      ">623 => 1.392600\n",
      ">624 => 1.392536\n",
      ">625 => 1.392472\n",
      ">626 => 1.392408\n",
      ">627 => 1.392344\n",
      ">628 => 1.392280\n",
      ">629 => 1.392216\n",
      ">630 => 1.392152\n",
      ">631 => 1.392088\n",
      ">632 => 1.392024\n",
      ">633 => 1.391959\n",
      ">634 => 1.391895\n",
      ">635 => 1.391831\n",
      ">636 => 1.391766\n",
      ">637 => 1.391701\n",
      ">638 => 1.391637\n",
      ">639 => 1.391572\n",
      ">640 => 1.391507\n",
      ">641 => 1.391443\n",
      ">642 => 1.391377\n",
      ">643 => 1.391312\n",
      ">644 => 1.391247\n",
      ">645 => 1.391182\n",
      ">646 => 1.391117\n",
      ">647 => 1.391051\n",
      ">648 => 1.390986\n",
      ">649 => 1.390921\n",
      ">650 => 1.390855\n",
      ">651 => 1.390790\n",
      ">652 => 1.390724\n",
      ">653 => 1.390658\n",
      ">654 => 1.390592\n",
      ">655 => 1.390527\n",
      ">656 => 1.390460\n",
      ">657 => 1.390394\n",
      ">658 => 1.390328\n",
      ">659 => 1.390262\n",
      ">660 => 1.390195\n",
      ">661 => 1.390128\n",
      ">662 => 1.390062\n",
      ">663 => 1.389996\n",
      ">664 => 1.389929\n",
      ">665 => 1.389862\n",
      ">666 => 1.389795\n",
      ">667 => 1.389728\n",
      ">668 => 1.389662\n",
      ">669 => 1.389594\n",
      ">670 => 1.389527\n",
      ">671 => 1.389460\n",
      ">672 => 1.389392\n",
      ">673 => 1.389325\n",
      ">674 => 1.389258\n",
      ">675 => 1.389190\n",
      ">676 => 1.389122\n",
      ">677 => 1.389054\n",
      ">678 => 1.388986\n",
      ">679 => 1.388918\n",
      ">680 => 1.388850\n",
      ">681 => 1.388782\n",
      ">682 => 1.388714\n",
      ">683 => 1.388645\n",
      ">684 => 1.388577\n",
      ">685 => 1.388508\n",
      ">686 => 1.388440\n",
      ">687 => 1.388371\n",
      ">688 => 1.388302\n",
      ">689 => 1.388233\n",
      ">690 => 1.388164\n",
      ">691 => 1.388095\n",
      ">692 => 1.388026\n",
      ">693 => 1.387956\n",
      ">694 => 1.387887\n",
      ">695 => 1.387817\n",
      ">696 => 1.387747\n",
      ">697 => 1.387678\n",
      ">698 => 1.387608\n",
      ">699 => 1.387538\n",
      ">700 => 1.387468\n",
      ">701 => 1.387398\n",
      ">702 => 1.387327\n",
      ">703 => 1.387257\n",
      ">704 => 1.387186\n",
      ">705 => 1.387116\n",
      ">706 => 1.387045\n",
      ">707 => 1.386975\n",
      ">708 => 1.386904\n",
      ">709 => 1.386833\n",
      ">710 => 1.386761\n",
      ">711 => 1.386690\n",
      ">712 => 1.386619\n",
      ">713 => 1.386548\n",
      ">714 => 1.386476\n",
      ">715 => 1.386404\n",
      ">716 => 1.386332\n",
      ">717 => 1.386261\n",
      ">718 => 1.386189\n",
      ">719 => 1.386117\n",
      ">720 => 1.386045\n",
      ">721 => 1.385972\n",
      ">722 => 1.385900\n",
      ">723 => 1.385827\n",
      ">724 => 1.385755\n",
      ">725 => 1.385682\n",
      ">726 => 1.385609\n",
      ">727 => 1.385536\n",
      ">728 => 1.385462\n",
      ">729 => 1.385390\n",
      ">730 => 1.385316\n",
      ">731 => 1.385243\n",
      ">732 => 1.385169\n",
      ">733 => 1.385096\n",
      ">734 => 1.385022\n",
      ">735 => 1.384948\n",
      ">736 => 1.384874\n",
      ">737 => 1.384800\n",
      ">738 => 1.384725\n",
      ">739 => 1.384651\n",
      ">740 => 1.384577\n",
      ">741 => 1.384502\n",
      ">742 => 1.384427\n",
      ">743 => 1.384352\n",
      ">744 => 1.384277\n",
      ">745 => 1.384202\n",
      ">746 => 1.384127\n",
      ">747 => 1.384052\n",
      ">748 => 1.383976\n",
      ">749 => 1.383901\n",
      ">750 => 1.383825\n",
      ">751 => 1.383749\n",
      ">752 => 1.383673\n",
      ">753 => 1.383597\n",
      ">754 => 1.383521\n",
      ">755 => 1.383444\n",
      ">756 => 1.383368\n",
      ">757 => 1.383291\n",
      ">758 => 1.383214\n",
      ">759 => 1.383137\n",
      ">760 => 1.383061\n",
      ">761 => 1.382983\n",
      ">762 => 1.382906\n",
      ">763 => 1.382829\n",
      ">764 => 1.382751\n",
      ">765 => 1.382674\n",
      ">766 => 1.382596\n",
      ">767 => 1.382518\n",
      ">768 => 1.382440\n",
      ">769 => 1.382362\n",
      ">770 => 1.382283\n",
      ">771 => 1.382205\n",
      ">772 => 1.382126\n",
      ">773 => 1.382048\n",
      ">774 => 1.381969\n",
      ">775 => 1.381890\n",
      ">776 => 1.381811\n",
      ">777 => 1.381731\n",
      ">778 => 1.381652\n",
      ">779 => 1.381572\n",
      ">780 => 1.381493\n",
      ">781 => 1.381413\n",
      ">782 => 1.381333\n",
      ">783 => 1.381253\n",
      ">784 => 1.381173\n",
      ">785 => 1.381092\n",
      ">786 => 1.381012\n",
      ">787 => 1.380931\n",
      ">788 => 1.380850\n",
      ">789 => 1.380769\n",
      ">790 => 1.380688\n",
      ">791 => 1.380607\n",
      ">792 => 1.380526\n",
      ">793 => 1.380444\n",
      ">794 => 1.380363\n",
      ">795 => 1.380281\n",
      ">796 => 1.380199\n",
      ">797 => 1.380117\n",
      ">798 => 1.380034\n",
      ">799 => 1.379952\n",
      ">800 => 1.379870\n",
      ">801 => 1.379787\n",
      ">802 => 1.379704\n",
      ">803 => 1.379621\n",
      ">804 => 1.379538\n",
      ">805 => 1.379455\n",
      ">806 => 1.379371\n",
      ">807 => 1.379288\n",
      ">808 => 1.379204\n",
      ">809 => 1.379120\n",
      ">810 => 1.379036\n",
      ">811 => 1.378952\n",
      ">812 => 1.378868\n",
      ">813 => 1.378783\n",
      ">814 => 1.378699\n",
      ">815 => 1.378614\n",
      ">816 => 1.378529\n",
      ">817 => 1.378444\n",
      ">818 => 1.378358\n",
      ">819 => 1.378273\n",
      ">820 => 1.378188\n",
      ">821 => 1.378102\n",
      ">822 => 1.378016\n",
      ">823 => 1.377930\n",
      ">824 => 1.377844\n",
      ">825 => 1.377758\n",
      ">826 => 1.377671\n",
      ">827 => 1.377584\n",
      ">828 => 1.377498\n",
      ">829 => 1.377411\n",
      ">830 => 1.377323\n",
      ">831 => 1.377236\n",
      ">832 => 1.377149\n",
      ">833 => 1.377061\n",
      ">834 => 1.376973\n",
      ">835 => 1.376885\n",
      ">836 => 1.376797\n",
      ">837 => 1.376709\n",
      ">838 => 1.376620\n",
      ">839 => 1.376532\n",
      ">840 => 1.376443\n",
      ">841 => 1.376354\n",
      ">842 => 1.376265\n",
      ">843 => 1.376175\n",
      ">844 => 1.376086\n",
      ">845 => 1.375996\n",
      ">846 => 1.375907\n",
      ">847 => 1.375816\n",
      ">848 => 1.375726\n",
      ">849 => 1.375636\n",
      ">850 => 1.375546\n",
      ">851 => 1.375455\n",
      ">852 => 1.375364\n",
      ">853 => 1.375273\n",
      ">854 => 1.375182\n",
      ">855 => 1.375091\n",
      ">856 => 1.374999\n",
      ">857 => 1.374907\n",
      ">858 => 1.374815\n",
      ">859 => 1.374723\n",
      ">860 => 1.374631\n",
      ">861 => 1.374539\n",
      ">862 => 1.374446\n",
      ">863 => 1.374353\n",
      ">864 => 1.374260\n",
      ">865 => 1.374167\n",
      ">866 => 1.374074\n",
      ">867 => 1.373981\n",
      ">868 => 1.373887\n",
      ">869 => 1.373793\n",
      ">870 => 1.373699\n",
      ">871 => 1.373605\n",
      ">872 => 1.373510\n",
      ">873 => 1.373416\n",
      ">874 => 1.373321\n",
      ">875 => 1.373226\n",
      ">876 => 1.373131\n",
      ">877 => 1.373035\n",
      ">878 => 1.372940\n",
      ">879 => 1.372844\n",
      ">880 => 1.372748\n",
      ">881 => 1.372652\n",
      ">882 => 1.372556\n",
      ">883 => 1.372459\n",
      ">884 => 1.372363\n",
      ">885 => 1.372266\n",
      ">886 => 1.372169\n",
      ">887 => 1.372072\n",
      ">888 => 1.371974\n",
      ">889 => 1.371876\n",
      ">890 => 1.371779\n",
      ">891 => 1.371681\n",
      ">892 => 1.371582\n",
      ">893 => 1.371484\n",
      ">894 => 1.371385\n",
      ">895 => 1.371287\n",
      ">896 => 1.371188\n",
      ">897 => 1.371088\n",
      ">898 => 1.370989\n",
      ">899 => 1.370889\n",
      ">900 => 1.370790\n",
      ">901 => 1.370690\n",
      ">902 => 1.370589\n",
      ">903 => 1.370489\n",
      ">904 => 1.370388\n",
      ">905 => 1.370287\n",
      ">906 => 1.370186\n",
      ">907 => 1.370085\n",
      ">908 => 1.369984\n",
      ">909 => 1.369882\n",
      ">910 => 1.369780\n",
      ">911 => 1.369678\n",
      ">912 => 1.369576\n",
      ">913 => 1.369473\n",
      ">914 => 1.369370\n",
      ">915 => 1.369268\n",
      ">916 => 1.369164\n",
      ">917 => 1.369061\n",
      ">918 => 1.368957\n",
      ">919 => 1.368854\n",
      ">920 => 1.368750\n",
      ">921 => 1.368645\n",
      ">922 => 1.368541\n",
      ">923 => 1.368437\n",
      ">924 => 1.368332\n",
      ">925 => 1.368227\n",
      ">926 => 1.368121\n",
      ">927 => 1.368016\n",
      ">928 => 1.367910\n",
      ">929 => 1.367804\n",
      ">930 => 1.367698\n",
      ">931 => 1.367592\n",
      ">932 => 1.367485\n",
      ">933 => 1.367378\n",
      ">934 => 1.367271\n",
      ">935 => 1.367164\n",
      ">936 => 1.367056\n",
      ">937 => 1.366948\n",
      ">938 => 1.366841\n",
      ">939 => 1.366732\n",
      ">940 => 1.366624\n",
      ">941 => 1.366515\n",
      ">942 => 1.366406\n",
      ">943 => 1.366297\n",
      ">944 => 1.366188\n",
      ">945 => 1.366078\n",
      ">946 => 1.365968\n",
      ">947 => 1.365858\n",
      ">948 => 1.365748\n",
      ">949 => 1.365637\n",
      ">950 => 1.365527\n",
      ">951 => 1.365415\n",
      ">952 => 1.365304\n",
      ">953 => 1.365193\n",
      ">954 => 1.365081\n",
      ">955 => 1.364969\n",
      ">956 => 1.364857\n",
      ">957 => 1.364744\n",
      ">958 => 1.364631\n",
      ">959 => 1.364518\n",
      ">960 => 1.364405\n",
      ">961 => 1.364292\n",
      ">962 => 1.364178\n",
      ">963 => 1.364064\n",
      ">964 => 1.363950\n",
      ">965 => 1.363835\n",
      ">966 => 1.363721\n",
      ">967 => 1.363606\n",
      ">968 => 1.363490\n",
      ">969 => 1.363375\n",
      ">970 => 1.363259\n",
      ">971 => 1.363143\n",
      ">972 => 1.363027\n",
      ">973 => 1.362910\n",
      ">974 => 1.362794\n",
      ">975 => 1.362677\n",
      ">976 => 1.362559\n",
      ">977 => 1.362441\n",
      ">978 => 1.362324\n",
      ">979 => 1.362206\n",
      ">980 => 1.362087\n",
      ">981 => 1.361969\n",
      ">982 => 1.361850\n",
      ">983 => 1.361731\n",
      ">984 => 1.361611\n",
      ">985 => 1.361492\n",
      ">986 => 1.361372\n",
      ">987 => 1.361251\n",
      ">988 => 1.361131\n",
      ">989 => 1.361010\n",
      ">990 => 1.360889\n",
      ">991 => 1.360768\n",
      ">992 => 1.360646\n",
      ">993 => 1.360524\n",
      ">994 => 1.360402\n",
      ">995 => 1.360280\n",
      ">996 => 1.360157\n",
      ">997 => 1.360034\n",
      ">998 => 1.359910\n",
      ">999 => 1.359787\n",
      ">1000 => 1.359663\n",
      "Done!\n",
      "f([  0.          0.        114.981125   44.33686     3.8258545   4.2093015]) = 1.359663\n"
     ]
    }
   ],
   "source": [
    "# Run the gradient descent algorithm\n",
    "\n",
    "# define the total iterations\n",
    "n_iter = 1000\n",
    "# steps size\n",
    "alpha = 0.1\n",
    "# factor for average gradient\n",
    "beta1 = 0.8\n",
    "# factor for average squared gradient\n",
    "beta2 = 0.999\n",
    "# perform the gradient descent search with adam\n",
    "best2s, score2s, worsts = adam_jack2(bnds2, n_iter, alpha, beta1, beta2)\n",
    "print('Done!')\n",
    "print('f(%s) = %f' % (best2s, score2s))"
   ]
  },
  {
   "cell_type": "markdown",
   "id": "bd5d629a",
   "metadata": {},
   "source": [
    "0.216356"
   ]
  },
  {
   "cell_type": "code",
   "execution_count": 93,
   "id": "6f1e83f7",
   "metadata": {},
   "outputs": [],
   "source": [
    "t2s_best = func_t2s(xd, *best2s)"
   ]
  },
  {
   "cell_type": "code",
   "execution_count": 94,
   "id": "be661634",
   "metadata": {},
   "outputs": [
    {
     "data": {
      "text/plain": [
       "DeviceArray(44.1, dtype=float32)"
      ]
     },
     "execution_count": 94,
     "metadata": {},
     "output_type": "execute_result"
    }
   ],
   "source": [
    "#R2 Regression\n",
    "\n",
    "np.round(reg([jnp.array(t2smit_lst1, dtype=jnp.float64), jnp.array(t2smit_lst0, dtype=jnp.float64)],\n",
    "             [t2s_best[:, 0, 0], t2s_best[:, 1, 1]]), 2)"
   ]
  },
  {
   "cell_type": "markdown",
   "id": "9c0419a7",
   "metadata": {},
   "source": [
    "93.99"
   ]
  },
  {
   "cell_type": "code",
   "execution_count": 95,
   "id": "9a6c68dc",
   "metadata": {},
   "outputs": [
    {
     "data": {
      "image/png": "[encoded data removed]",
      "text/plain": [
       "<Figure size 1440x720 with 2 Axes>"
      ]
     },
     "metadata": {},
     "output_type": "display_data"
    }
   ],
   "source": [
    "%matplotlib inline\n",
    "plt.style.use('seaborn')\n",
    "# matplotlib.rcParams.update({'font.size': 16,'font.family':'serif'})\n",
    "fig, ax = plt.subplots(1, 2, figsize=(20, 10))\n",
    "\n",
    "# plt.errorbar(time, t2emit_lst00, t1ystd00, label = \"00\", marker='.', linestyle = '', markersize=10, c = cool[0])\n",
    "# plt.errorbar(time, t2emit_lst10, t1ystd10, label = \"10\", marker='.', linestyle = '', markersize=10, c = cool[1])\n",
    "# plt.errorbar(time, t2emit_lst01, t1ystd01, label = \"01\", marker='.', linestyle = '', markersize=10, c = cool[2])\n",
    "# plt.errorbar(time, t2emit_lst11, t1ystd11, label = \"11\", marker='.', linestyle = '', markersize=10, c = cool[3])\n",
    "\n",
    "# ax[0, 0].errorbar(time, t2emit_lst00, t1ystd00, label = \"00\", marker='.', linestyle = '', markersize=10, c = cool[0])\n",
    "# ax[0, 1].errorbar(time, t2emit_lst10, t1ystd10, label = \"10\", marker='.', linestyle = '', markersize=10, c = cool[1])\n",
    "# ax[1, 0].errorbar(time, t2emit_lst01, t1ystd01, label = \"01\", marker='.', linestyle = '', markersize=10, c = cool[2])\n",
    "# ax[1, 1].errorbar(time, t2emit_lst11, t1ystd11, label = \"11\", marker='.', linestyle = '', markersize=10, c = cool[3])\n",
    "\n",
    "# plt.plot(time, t2e_best[:, 0, 0], label = 'Best 00', marker='*', color = plasma[0])\n",
    "# plt.plot(time, t2e_best[:, 1, 1], label = 'Best 10', marker='*', color = plasma[1])\n",
    "# plt.plot(time, t2e_best[:, 2, 2], label = 'Best 01', marker='*', color = plasma[2])\n",
    "# plt.plot(time, t2e_best[:, 3, 3], label = 'Best 11', marker='*', color = plasma[3])\n",
    "\n",
    "ax[0].plot(time, t2s_best[:, 0, 0],\n",
    "           label='Best 0', marker='*', color=plasma[0])\n",
    "ax[1].plot(time, t2s_best[:, 1, 1],\n",
    "           label='Best 1', marker='*', color=plasma[1])\n",
    "\n",
    "ax[0].plot(time, t2smit_lst1, label=\"0\", marker='.', markersize=10, c=cool[0])\n",
    "ax[1].plot(time, t2smit_lst0, label=\"1\", marker='.', markersize=10, c=cool[1])\n",
    "\n",
    "fig.suptitle(f'$T2^*$ Decay of Qubit {qubits[0]}')\n",
    "\n",
    "for a in ax.flat:\n",
    "    a.set(xlabel='$t$ ($\\mu$s)', ylabel='State Population')\n",
    "\n",
    "# Hide x labels and tick labels for top plots and y ticks for right plots.\n",
    "# for b in ax.flat:\n",
    "#     b.label_outer()\n",
    "\n",
    "# fig.xlabel('$t$ ($\\mu$s)')\n",
    "# fig.ylabel('Excited State Population')\n",
    "# plt.ylim(-0.05, 1.05)\n",
    "\n",
    "ax[0].legend(loc=\"best\", numpoints=1, frameon=True)\n",
    "ax[1].legend(loc=\"best\", numpoints=1, frameon=True)\n",
    "\n",
    "plt.show()"
   ]
  },
  {
   "cell_type": "code",
   "execution_count": 96,
   "id": "1ee761a0",
   "metadata": {},
   "outputs": [],
   "source": [
    "# import csv\n",
    "\n",
    "# rows_t2s_1 = zip(time, jnp.real(t2s_best[:, 0, 0]))\n",
    "# rows_t2s_0 = zip(time, jnp.real(t2s_best[:, 1, 1]))\n",
    "\n",
    "# with open('Q1_T2s_best1.csv', \"w\") as a:\n",
    "#     writer = csv.writer(a)\n",
    "#     for row in rows_t2s_1:\n",
    "#         writer.writerow(row)\n",
    "\n",
    "# with open('Q1_T2s_best0.csv', \"w\") as a:\n",
    "#     writer = csv.writer(a)\n",
    "#     for row in rows_t2s_0:\n",
    "#         writer.writerow(row)\n"
   ]
  },
  {
   "cell_type": "code",
   "execution_count": 97,
   "id": "782673cd",
   "metadata": {},
   "outputs": [],
   "source": [
    "# rows_t2s_1 = zip(time, t2smit_lst1)\n",
    "# rows_t2s_0 = zip(time, t2smit_lst0)\n",
    "\n",
    "# with open('Q1_T2s_raw1.csv', \"w\") as a:\n",
    "#     writer = csv.writer(a)\n",
    "#     for row in rows_t2s_1:\n",
    "#         writer.writerow(row)\n",
    "\n",
    "# with open('Q1_T2s_raw0.csv', \"w\") as a:\n",
    "#     writer = csv.writer(a)\n",
    "#     for row in rows_t2s_0:\n",
    "#         writer.writerow(row)\n"
   ]
  },
  {
   "cell_type": "markdown",
   "id": "6d1e78b4",
   "metadata": {
    "id": "6d1e78b4"
   },
   "source": [
    "## Extract Parameters"
   ]
  },
  {
   "cell_type": "code",
   "execution_count": 98,
   "id": "951c5394-f7a0-4e3d-90cd-2804a18dfe49",
   "metadata": {
    "colab": {
     "base_uri": "https://localhost:8080/"
    },
    "executionInfo": {
     "elapsed": 426,
     "status": "ok",
     "timestamp": 1633436947922,
     "user": {
      "displayName": "Dean Brand",
      "photoUrl": "https://lh3.googleusercontent.com/a/default-user=s64",
      "userId": "08092671779044246052"
     },
     "user_tz": -120
    },
    "id": "951c5394-f7a0-4e3d-90cd-2804a18dfe49",
    "outputId": "d75ba95e-cd11-4a4b-b7f4-9adcd2442468"
   },
   "outputs": [
    {
     "data": {
      "text/plain": [
       "DeviceArray([ 0.        ,  0.        , 30.286737  ,  8.893611  ,\n",
       "              7.51652   ,  0.07309552], dtype=float32)"
      ]
     },
     "execution_count": 98,
     "metadata": {},
     "output_type": "execute_result"
    }
   ],
   "source": [
    "best"
   ]
  },
  {
   "cell_type": "code",
   "execution_count": 99,
   "id": "09e898f3",
   "metadata": {
    "executionInfo": {
     "elapsed": 420,
     "status": "ok",
     "timestamp": 1633436947923,
     "user": {
      "displayName": "Dean Brand",
      "photoUrl": "https://lh3.googleusercontent.com/a/default-user=s64",
      "userId": "08092671779044246052"
     },
     "user_tz": -120
    },
    "id": "09e898f3"
   },
   "outputs": [],
   "source": [
    "wx, wy, wz, gam1, gamz, phon = best\n",
    "\n",
    "wa = np.average([wx, wy, wz])\n",
    "\n",
    "Tx = T(wx * 1e9, phon).to(unts.mK)\n",
    "Ty = T(wy * 1e9, phon).to(unts.mK)\n",
    "Tz = T(wz * 1e9, phon).to(unts.mK)\n",
    "Ta = T(wa * 1e9, phon).to(unts.mK)\n",
    "\n",
    "T1time = 1/gam1 * unts.ms\n",
    "zz = 1/gamz * unts.ms"
   ]
  },
  {
   "cell_type": "code",
   "execution_count": 100,
   "id": "eVSnNoj5jrR5",
   "metadata": {
    "colab": {
     "base_uri": "https://localhost:8080/",
     "height": 37
    },
    "executionInfo": {
     "elapsed": 420,
     "status": "ok",
     "timestamp": 1633436947925,
     "user": {
      "displayName": "Dean Brand",
      "photoUrl": "https://lh3.googleusercontent.com/a/default-user=s64",
      "userId": "08092671779044246052"
     },
     "user_tz": -120
    },
    "id": "eVSnNoj5jrR5",
    "outputId": "4da84787-b32a-4429-dcbe-3eab96f19668"
   },
   "outputs": [
    {
     "data": {
      "text/latex": [
       "$[0,~0,~30.286737] \\; \\mathrm{GHz}$"
      ],
      "text/plain": [
       "<Quantity [ 0.      ,  0.      , 30.286737] GHz>"
      ]
     },
     "execution_count": 100,
     "metadata": {},
     "output_type": "execute_result"
    }
   ],
   "source": [
    "jnp.array([wx, wy, wz]) * unts.GHz"
   ]
  },
  {
   "cell_type": "code",
   "execution_count": 101,
   "id": "OJigga3brwiJ",
   "metadata": {
    "colab": {
     "base_uri": "https://localhost:8080/",
     "height": 37
    },
    "executionInfo": {
     "elapsed": 418,
     "status": "ok",
     "timestamp": 1633436947926,
     "user": {
      "displayName": "Dean Brand",
      "photoUrl": "https://lh3.googleusercontent.com/a/default-user=s64",
      "userId": "08092671779044246052"
     },
     "user_tz": -120
    },
    "id": "OJigga3brwiJ",
    "outputId": "d78e8ee0-a7ac-410d-f372-9ccab7f7a3e4"
   },
   "outputs": [
    {
     "data": {
      "text/latex": [
       "$10.095579 \\; \\mathrm{GHz}$"
      ],
      "text/plain": [
       "<Quantity 10.095579 GHz>"
      ]
     },
     "execution_count": 101,
     "metadata": {},
     "output_type": "execute_result"
    }
   ],
   "source": [
    "wa * unts.GHz"
   ]
  },
  {
   "cell_type": "code",
   "execution_count": 102,
   "id": "omOs5uGGrz9r",
   "metadata": {
    "colab": {
     "base_uri": "https://localhost:8080/",
     "height": 37
    },
    "executionInfo": {
     "elapsed": 415,
     "status": "ok",
     "timestamp": 1633436947927,
     "user": {
      "displayName": "Dean Brand",
      "photoUrl": "https://lh3.googleusercontent.com/a/default-user=s64",
      "userId": "08092671779044246052"
     },
     "user_tz": -120
    },
    "id": "omOs5uGGrz9r",
    "outputId": "e0c0d7ed-af08-46f1-9474-f5599b9ca111"
   },
   "outputs": [
    {
     "data": {
      "text/latex": [
       "$30.286737 \\; \\mathrm{GHz}$"
      ],
      "text/plain": [
       "<Quantity 30.28673663 GHz>"
      ]
     },
     "execution_count": 102,
     "metadata": {},
     "output_type": "execute_result"
    }
   ],
   "source": [
    "(w0 * unts.Hz).to(unts.GHz)"
   ]
  },
  {
   "cell_type": "code",
   "execution_count": 103,
   "id": "7eecefbc",
   "metadata": {
    "colab": {
     "base_uri": "https://localhost:8080/",
     "height": 37
    },
    "executionInfo": {
     "elapsed": 414,
     "status": "ok",
     "timestamp": 1633436947929,
     "user": {
      "displayName": "Dean Brand",
      "photoUrl": "https://lh3.googleusercontent.com/a/default-user=s64",
      "userId": "08092671779044246052"
     },
     "user_tz": -120
    },
    "id": "7eecefbc",
    "outputId": "bde22c7e-e326-4320-f807-f0bf463aeb95"
   },
   "outputs": [
    {
     "data": {
      "text/latex": [
       "$0 \\; \\mathrm{mK}$"
      ],
      "text/plain": [
       "<Quantity 0. mK>"
      ]
     },
     "execution_count": 103,
     "metadata": {},
     "output_type": "execute_result"
    }
   ],
   "source": [
    "Tx"
   ]
  },
  {
   "cell_type": "code",
   "execution_count": 104,
   "id": "4rAjX5ped3mz",
   "metadata": {
    "colab": {
     "base_uri": "https://localhost:8080/",
     "height": 37
    },
    "executionInfo": {
     "elapsed": 413,
     "status": "ok",
     "timestamp": 1633436947931,
     "user": {
      "displayName": "Dean Brand",
      "photoUrl": "https://lh3.googleusercontent.com/a/default-user=s64",
      "userId": "08092671779044246052"
     },
     "user_tz": -120
    },
    "id": "4rAjX5ped3mz",
    "outputId": "a45ad0d2-752c-496b-c389-2d69df585859"
   },
   "outputs": [
    {
     "data": {
      "text/latex": [
       "$0 \\; \\mathrm{mK}$"
      ],
      "text/plain": [
       "<Quantity 0. mK>"
      ]
     },
     "execution_count": 104,
     "metadata": {},
     "output_type": "execute_result"
    }
   ],
   "source": [
    "Ty"
   ]
  },
  {
   "cell_type": "code",
   "execution_count": 105,
   "id": "8RMC8PrQd4i8",
   "metadata": {
    "colab": {
     "base_uri": "https://localhost:8080/",
     "height": 37
    },
    "executionInfo": {
     "elapsed": 411,
     "status": "ok",
     "timestamp": 1633436947932,
     "user": {
      "displayName": "Dean Brand",
      "photoUrl": "https://lh3.googleusercontent.com/a/default-user=s64",
      "userId": "08092671779044246052"
     },
     "user_tz": -120
    },
    "id": "8RMC8PrQd4i8",
    "outputId": "cde303ee-2367-4adb-dfe1-2e76ffecaf79"
   },
   "outputs": [
    {
     "data": {
      "text/latex": [
       "$86.109824 \\; \\mathrm{mK}$"
      ],
      "text/plain": [
       "<Quantity 86.10982448 mK>"
      ]
     },
     "execution_count": 105,
     "metadata": {},
     "output_type": "execute_result"
    }
   ],
   "source": [
    "Tz"
   ]
  },
  {
   "cell_type": "code",
   "execution_count": 106,
   "id": "a4a3a1b6",
   "metadata": {
    "colab": {
     "base_uri": "https://localhost:8080/",
     "height": 37
    },
    "executionInfo": {
     "elapsed": 407,
     "status": "ok",
     "timestamp": 1633436947933,
     "user": {
      "displayName": "Dean Brand",
      "photoUrl": "https://lh3.googleusercontent.com/a/default-user=s64",
      "userId": "08092671779044246052"
     },
     "user_tz": -120
    },
    "id": "a4a3a1b6",
    "outputId": "746dfc35-ffc3-4dea-9d98-27299a36886b"
   },
   "outputs": [
    {
     "data": {
      "text/latex": [
       "$28.703276 \\; \\mathrm{mK}$"
      ],
      "text/plain": [
       "<Quantity 28.70327607 mK>"
      ]
     },
     "execution_count": 106,
     "metadata": {},
     "output_type": "execute_result"
    }
   ],
   "source": [
    "Ta"
   ]
  },
  {
   "cell_type": "code",
   "execution_count": 107,
   "id": "3f873989",
   "metadata": {
    "colab": {
     "base_uri": "https://localhost:8080/",
     "height": 38
    },
    "executionInfo": {
     "elapsed": 98,
     "status": "ok",
     "timestamp": 1633436948601,
     "user": {
      "displayName": "Dean Brand",
      "photoUrl": "https://lh3.googleusercontent.com/a/default-user=s64",
      "userId": "08092671779044246052"
     },
     "user_tz": -120
    },
    "id": "3f873989",
    "outputId": "215e0b7c-5c42-407c-da23-e1f94c6beffd"
   },
   "outputs": [
    {
     "data": {
      "text/latex": [
       "$112.44027 \\; \\mathrm{\\mu s}$"
      ],
      "text/plain": [
       "<Quantity 112.44026572 us>"
      ]
     },
     "execution_count": 107,
     "metadata": {},
     "output_type": "execute_result"
    }
   ],
   "source": [
    "T1time.to(unts.us)"
   ]
  },
  {
   "cell_type": "code",
   "execution_count": 108,
   "id": "a9c3b40e",
   "metadata": {
    "colab": {
     "base_uri": "https://localhost:8080/",
     "height": 38
    },
    "executionInfo": {
     "elapsed": 95,
     "status": "ok",
     "timestamp": 1633436948602,
     "user": {
      "displayName": "Dean Brand",
      "photoUrl": "https://lh3.googleusercontent.com/a/default-user=s64",
      "userId": "08092671779044246052"
     },
     "user_tz": -120
    },
    "id": "a9c3b40e",
    "outputId": "da1b6344-28cf-4771-9e11-c358f6d1bc4e"
   },
   "outputs": [
    {
     "data": {
      "text/latex": [
       "$163.85155 \\; \\mathrm{\\mu s}$"
      ],
      "text/plain": [
       "<Quantity 163.85155322 us>"
      ]
     },
     "execution_count": 108,
     "metadata": {},
     "output_type": "execute_result"
    }
   ],
   "source": [
    "(t1c[qubits[0]] * unts.s).to(unts.us)"
   ]
  },
  {
   "cell_type": "code",
   "execution_count": 109,
   "id": "2ea796af",
   "metadata": {},
   "outputs": [
    {
     "data": {
      "text/latex": [
       "$133.04029 \\; \\mathrm{\\mu s}$"
      ],
      "text/plain": [
       "<Quantity 133.04029405 us>"
      ]
     },
     "execution_count": 109,
     "metadata": {},
     "output_type": "execute_result"
    }
   ],
   "source": [
    "zz.to(unts.us)"
   ]
  },
  {
   "cell_type": "code",
   "execution_count": 110,
   "id": "qUoYEeQugvCk",
   "metadata": {
    "colab": {
     "base_uri": "https://localhost:8080/"
    },
    "executionInfo": {
     "elapsed": 1345,
     "status": "ok",
     "timestamp": 1633438336644,
     "user": {
      "displayName": "Dean Brand",
      "photoUrl": "https://lh3.googleusercontent.com/a/default-user=s64",
      "userId": "08092671779044246052"
     },
     "user_tz": -120
    },
    "id": "qUoYEeQugvCk",
    "outputId": "ef16f60a-1a08-4269-8237-b87803de842b"
   },
   "outputs": [
    {
     "data": {
      "text/plain": [
       "DeviceArray([1.3259788e+00, 1.1348389e-01, 3.6103058e+01, 2.8553326e+01,\n",
       "             6.8318099e-01, 2.0049516e-16], dtype=float32)"
      ]
     },
     "execution_count": 110,
     "metadata": {},
     "output_type": "execute_result"
    }
   ],
   "source": [
    "best2"
   ]
  },
  {
   "cell_type": "code",
   "execution_count": 111,
   "id": "xNIpaPYOJ579",
   "metadata": {
    "executionInfo": {
     "elapsed": 92,
     "status": "ok",
     "timestamp": 1633436948603,
     "user": {
      "displayName": "Dean Brand",
      "photoUrl": "https://lh3.googleusercontent.com/a/default-user=s64",
      "userId": "08092671779044246052"
     },
     "user_tz": -120
    },
    "id": "xNIpaPYOJ579"
   },
   "outputs": [],
   "source": [
    "# Now for T2 Echo\n",
    "\n",
    "wx2, wy2, wz2, gam12, gamz2, phon2 = best2\n",
    "\n",
    "wa2 = np.average([wx2, wy2, wz2])\n",
    "\n",
    "Tx2 = T(wx2 * 1e9, phon2).to(unts.mK)\n",
    "Ty2 = T(wy2 * 1e9, phon2).to(unts.mK)\n",
    "Tz2 = T(wz2 * 1e9, phon2).to(unts.mK)\n",
    "Ta2 = T(wa2 * 1e9, phon2).to(unts.mK)\n",
    "\n",
    "T2time = 1/gam12 * unts.ms\n",
    "zz2 = 1/gamz2 * unts.ms"
   ]
  },
  {
   "cell_type": "code",
   "execution_count": 112,
   "id": "kqfdsVRAgayz",
   "metadata": {
    "colab": {
     "base_uri": "https://localhost:8080/",
     "height": 37
    },
    "executionInfo": {
     "elapsed": 928,
     "status": "ok",
     "timestamp": 1633438261416,
     "user": {
      "displayName": "Dean Brand",
      "photoUrl": "https://lh3.googleusercontent.com/a/default-user=s64",
      "userId": "08092671779044246052"
     },
     "user_tz": -120
    },
    "id": "kqfdsVRAgayz",
    "outputId": "29c4ef31-489f-4ce2-eccc-047506336ad6"
   },
   "outputs": [
    {
     "data": {
      "text/latex": [
       "$7.6292125 \\; \\mathrm{mK}$"
      ],
      "text/plain": [
       "<Quantity 7.62921246 mK>"
      ]
     },
     "execution_count": 112,
     "metadata": {},
     "output_type": "execute_result"
    }
   ],
   "source": [
    "Tz2"
   ]
  },
  {
   "cell_type": "markdown",
   "id": "eb65ad6c",
   "metadata": {},
   "source": [
    "28.348519 mK"
   ]
  },
  {
   "cell_type": "code",
   "execution_count": 113,
   "id": "O5MhyE4egdDl",
   "metadata": {
    "colab": {
     "base_uri": "https://localhost:8080/",
     "height": 37
    },
    "executionInfo": {
     "elapsed": 2063,
     "status": "ok",
     "timestamp": 1633438270864,
     "user": {
      "displayName": "Dean Brand",
      "photoUrl": "https://lh3.googleusercontent.com/a/default-user=s64",
      "userId": "08092671779044246052"
     },
     "user_tz": -120
    },
    "id": "O5MhyE4egdDl",
    "outputId": "9adbacd3-233c-474b-a5b0-791f9b16a428"
   },
   "outputs": [
    {
     "data": {
      "text/latex": [
       "$2.6444653 \\; \\mathrm{mK}$"
      ],
      "text/plain": [
       "<Quantity 2.6444653 mK>"
      ]
     },
     "execution_count": 113,
     "metadata": {},
     "output_type": "execute_result"
    }
   ],
   "source": [
    "Ta2"
   ]
  },
  {
   "cell_type": "markdown",
   "id": "05975b2d",
   "metadata": {},
   "source": [
    "9.4825495 mK"
   ]
  },
  {
   "cell_type": "code",
   "execution_count": 114,
   "id": "EgeDfVXwgeuP",
   "metadata": {
    "colab": {
     "base_uri": "https://localhost:8080/",
     "height": 38
    },
    "executionInfo": {
     "elapsed": 102,
     "status": "ok",
     "timestamp": 1633438293172,
     "user": {
      "displayName": "Dean Brand",
      "photoUrl": "https://lh3.googleusercontent.com/a/default-user=s64",
      "userId": "08092671779044246052"
     },
     "user_tz": -120
    },
    "id": "EgeDfVXwgeuP",
    "outputId": "e9cf5180-8357-42b9-8109-b6d3993de455"
   },
   "outputs": [
    {
     "data": {
      "text/latex": [
       "$35.022192 \\; \\mathrm{\\mu s}$"
      ],
      "text/plain": [
       "<Quantity 35.0221917 us>"
      ]
     },
     "execution_count": 114,
     "metadata": {},
     "output_type": "execute_result"
    }
   ],
   "source": [
    "T2time.to(unts.us)"
   ]
  },
  {
   "cell_type": "markdown",
   "id": "d610e954",
   "metadata": {},
   "source": [
    "34.451887 us"
   ]
  },
  {
   "cell_type": "code",
   "execution_count": 115,
   "id": "dff18fe0",
   "metadata": {
    "colab": {
     "base_uri": "https://localhost:8080/",
     "height": 38
    },
    "executionInfo": {
     "elapsed": 92,
     "status": "ok",
     "timestamp": 1633436948604,
     "user": {
      "displayName": "Dean Brand",
      "photoUrl": "https://lh3.googleusercontent.com/a/default-user=s64",
      "userId": "08092671779044246052"
     },
     "user_tz": -120
    },
    "id": "dff18fe0",
    "outputId": "f71f4ff9-308d-428a-d40f-55fda254fde4"
   },
   "outputs": [
    {
     "data": {
      "text/latex": [
       "$65.840097 \\; \\mathrm{\\mu s}$"
      ],
      "text/plain": [
       "<Quantity 65.8400968 us>"
      ]
     },
     "execution_count": 115,
     "metadata": {},
     "output_type": "execute_result"
    }
   ],
   "source": [
    "(t2c[qubits[0]] * unts.s).to(unts.us)"
   ]
  },
  {
   "cell_type": "markdown",
   "id": "7cda13cd",
   "metadata": {},
   "source": [
    "65.840097 us"
   ]
  },
  {
   "cell_type": "code",
   "execution_count": 116,
   "id": "669c8123",
   "metadata": {},
   "outputs": [
    {
     "data": {
      "text/latex": [
       "$1463.7409 \\; \\mathrm{\\mu s}$"
      ],
      "text/plain": [
       "<Quantity 1463.74094486 us>"
      ]
     },
     "execution_count": 116,
     "metadata": {},
     "output_type": "execute_result"
    }
   ],
   "source": [
    "zz2.to(unts.us)"
   ]
  },
  {
   "cell_type": "markdown",
   "id": "eea16755",
   "metadata": {},
   "source": [
    "896.08669 us"
   ]
  },
  {
   "cell_type": "code",
   "execution_count": 117,
   "id": "6e2fa0d8",
   "metadata": {},
   "outputs": [],
   "source": [
    "# Now for T2*\n",
    "\n",
    "wx2, wy2, wz2, gam12s, gamz2s, phon2 = best2s\n",
    "\n",
    "wa2 = np.average([wx2, wy2, wz2])\n",
    "\n",
    "Tx2 = T(wx2 * 1e9, phon2).to(unts.mK)\n",
    "Ty2 = T(wy2 * 1e9, phon2).to(unts.mK)\n",
    "Tz2 = T(wz2 * 1e9, phon2).to(unts.mK)\n",
    "Ta2 = T(wa2 * 1e9, phon2).to(unts.mK)\n",
    "\n",
    "T2stime = 1/gam12s * unts.ms\n",
    "zz2s = 1/gamz2s * unts.ms\n"
   ]
  },
  {
   "cell_type": "code",
   "execution_count": 118,
   "id": "9f44b49c",
   "metadata": {},
   "outputs": [
    {
     "data": {
      "text/latex": [
       "$4120.368 \\; \\mathrm{mK}$"
      ],
      "text/plain": [
       "<Quantity 4120.36800385 mK>"
      ]
     },
     "execution_count": 118,
     "metadata": {},
     "output_type": "execute_result"
    }
   ],
   "source": [
    "Tz2"
   ]
  },
  {
   "cell_type": "markdown",
   "id": "8988623d",
   "metadata": {},
   "source": [
    "982.53214 mK"
   ]
  },
  {
   "cell_type": "code",
   "execution_count": 119,
   "id": "8db4cb7d",
   "metadata": {},
   "outputs": [
    {
     "data": {
      "text/latex": [
       "$1373.456 \\; \\mathrm{mK}$"
      ],
      "text/plain": [
       "<Quantity 1373.45600128 mK>"
      ]
     },
     "execution_count": 119,
     "metadata": {},
     "output_type": "execute_result"
    }
   ],
   "source": [
    "Ta2"
   ]
  },
  {
   "cell_type": "markdown",
   "id": "c7374fd7",
   "metadata": {},
   "source": [
    "327.51071 mK"
   ]
  },
  {
   "cell_type": "code",
   "execution_count": 120,
   "id": "a8d61055",
   "metadata": {},
   "outputs": [
    {
     "data": {
      "text/latex": [
       "$22.554597 \\; \\mathrm{\\mu s}$"
      ],
      "text/plain": [
       "<Quantity 22.55459689 us>"
      ]
     },
     "execution_count": 120,
     "metadata": {},
     "output_type": "execute_result"
    }
   ],
   "source": [
    "T2stime.to(unts.us)"
   ]
  },
  {
   "cell_type": "markdown",
   "id": "7e5f6ef4",
   "metadata": {},
   "source": [
    "29.835142 us"
   ]
  },
  {
   "cell_type": "code",
   "execution_count": 121,
   "id": "29331b46",
   "metadata": {},
   "outputs": [
    {
     "data": {
      "text/latex": [
       "$65.840097 \\; \\mathrm{\\mu s}$"
      ],
      "text/plain": [
       "<Quantity 65.8400968 us>"
      ]
     },
     "execution_count": 121,
     "metadata": {},
     "output_type": "execute_result"
    }
   ],
   "source": [
    "(t2c[qubits[0]] * unts.s).to(unts.us)"
   ]
  },
  {
   "cell_type": "markdown",
   "id": "54ab6c88",
   "metadata": {},
   "source": [
    "65.840097 us"
   ]
  },
  {
   "cell_type": "code",
   "execution_count": 122,
   "id": "e29b46cb",
   "metadata": {},
   "outputs": [
    {
     "data": {
      "text/latex": [
       "$261.37951 \\; \\mathrm{\\mu s}$"
      ],
      "text/plain": [
       "<Quantity 261.37951016 us>"
      ]
     },
     "execution_count": 122,
     "metadata": {},
     "output_type": "execute_result"
    }
   ],
   "source": [
    "zz2s.to(unts.us)"
   ]
  },
  {
   "cell_type": "markdown",
   "id": "3ca9da7a",
   "metadata": {},
   "source": [
    "5681.6516 us"
   ]
  },
  {
   "cell_type": "code",
   "execution_count": 123,
   "id": "1d08e9fd",
   "metadata": {
    "colab": {
     "base_uri": "https://localhost:8080/",
     "height": 343
    },
    "executionInfo": {
     "elapsed": 3330,
     "status": "ok",
     "timestamp": 1633436951845,
     "user": {
      "displayName": "Dean Brand",
      "photoUrl": "https://lh3.googleusercontent.com/a/default-user=s64",
      "userId": "08092671779044246052"
     },
     "user_tz": -120
    },
    "id": "1d08e9fd",
    "outputId": "1ecb52f0-635d-4f1b-954a-9f74d717f0bb"
   },
   "outputs": [
    {
     "data": {
      "text/html": [
       "<h3>Version Information</h3><table><tr><th>Qiskit Software</th><th>Version</th></tr><tr><td><code>qiskit-terra</code></td><td>0.18.3</td></tr><tr><td><code>qiskit-aer</code></td><td>0.9.0</td></tr><tr><td><code>qiskit-ignis</code></td><td>0.6.0</td></tr><tr><td><code>qiskit-ibmq-provider</code></td><td>0.16.0</td></tr><tr><td><code>qiskit-aqua</code></td><td>0.9.5</td></tr><tr><td><code>qiskit</code></td><td>0.30.1</td></tr><tr><th>System information</th></tr><tr><td>Python</td><td>3.9.12 (main, Mar 24 2022, 16:20:11) \n",
       "[GCC 9.4.0]</td></tr><tr><td>OS</td><td>Linux</td></tr><tr><td>CPUs</td><td>8</td></tr><tr><td>Memory (Gb)</td><td>15.54031753540039</td></tr><tr><td colspan='2'>Fri May 27 11:58:00 2022 SAST</td></tr></table>"
      ],
      "text/plain": [
       "<IPython.core.display.HTML object>"
      ]
     },
     "metadata": {},
     "output_type": "display_data"
    }
   ],
   "source": [
    "import qiskit.tools.jupyter\n",
    "%qiskit_version_table"
   ]
  }
 ],
 "metadata": {
  "colab": {
   "collapsed_sections": [
    "5b4ad782"
   ],
   "name": "OneTogether.ipynb",
   "provenance": []
  },
  "interpreter": {
   "hash": "e7370f93d1d0cde622a1f8e1c04877d8463912d04d973331ad4851f04de6915a"
  },
  "kernelspec": {
   "display_name": "Python 3.9.12 64-bit",
   "language": "python",
   "name": "python3"
  },
  "language_info": {
   "codemirror_mode": {
    "name": "ipython",
    "version": 3
   },
   "file_extension": ".py",
   "mimetype": "text/x-python",
   "name": "python",
   "nbconvert_exporter": "python",
   "pygments_lexer": "ipython3",
   "version": "3.9.12"
  }
 },
 "nbformat": 4,
 "nbformat_minor": 5
}
